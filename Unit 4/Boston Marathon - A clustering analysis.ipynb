{
 "cells": [
  {
   "cell_type": "code",
   "execution_count": 56,
   "metadata": {},
   "outputs": [
    {
     "ename": "AttributeError",
     "evalue": "module 'plotly.plotly' has no attribute 'set_credentials_file'",
     "output_type": "error",
     "traceback": [
      "\u001b[1;31m---------------------------------------------------------------------------\u001b[0m",
      "\u001b[1;31mAttributeError\u001b[0m                            Traceback (most recent call last)",
      "\u001b[1;32m<ipython-input-56-f27e1d148af8>\u001b[0m in \u001b[0;36m<module>\u001b[1;34m\u001b[0m\n\u001b[0;32m     20\u001b[0m \u001b[1;32mfrom\u001b[0m \u001b[0mdatetime\u001b[0m \u001b[1;32mimport\u001b[0m \u001b[0mdatetime\u001b[0m\u001b[1;33m\u001b[0m\u001b[1;33m\u001b[0m\u001b[0m\n\u001b[0;32m     21\u001b[0m \u001b[1;32mimport\u001b[0m \u001b[0mplotly\u001b[0m\u001b[1;33m.\u001b[0m\u001b[0mplotly\u001b[0m  \u001b[1;32mas\u001b[0m \u001b[0mpy\u001b[0m\u001b[1;33m\u001b[0m\u001b[1;33m\u001b[0m\u001b[0m\n\u001b[1;32m---> 22\u001b[1;33m \u001b[0mpy\u001b[0m\u001b[1;33m.\u001b[0m\u001b[0mset_credentials_file\u001b[0m\u001b[1;33m(\u001b[0m\u001b[0musername\u001b[0m\u001b[1;33m=\u001b[0m\u001b[1;34m'mcmanusdatascience'\u001b[0m\u001b[1;33m,\u001b[0m \u001b[0mapi_key\u001b[0m\u001b[1;33m=\u001b[0m\u001b[1;34m'Mkw1SmxGJj1HPglRqBES'\u001b[0m\u001b[1;33m)\u001b[0m\u001b[1;33m\u001b[0m\u001b[1;33m\u001b[0m\u001b[0m\n\u001b[0m\u001b[0;32m     23\u001b[0m \u001b[1;32mimport\u001b[0m \u001b[0mplotly\u001b[0m\u001b[1;33m.\u001b[0m\u001b[0mgraph_objs\u001b[0m \u001b[1;32mas\u001b[0m \u001b[0mgo\u001b[0m\u001b[1;33m\u001b[0m\u001b[1;33m\u001b[0m\u001b[0m\n",
      "\u001b[1;31mAttributeError\u001b[0m: module 'plotly.plotly' has no attribute 'set_credentials_file'"
     ]
    }
   ],
   "source": [
    "import numpy as np\n",
    "import pandas as pd\n",
    "import scipy\n",
    "import matplotlib.pyplot as plt\n",
    "import seaborn as sns\n",
    "from sklearn.cluster import KMeans\n",
    "from sklearn.preprocessing import normalize\n",
    "from sklearn.decomposition import PCA\n",
    "from sklearn.cluster import MiniBatchKMeans\n",
    "import time\n",
    "%matplotlib inline\n",
    "\n",
    "from sklearn.datasets.samples_generator import make_blobs\n",
    "from sklearn.model_selection import train_test_split\n",
    "from sklearn.cluster import MeanShift, estimate_bandwidth\n",
    "from sklearn.cluster import SpectralClustering\n",
    "from sklearn.cluster import AffinityPropagation\n",
    "from sklearn import metrics\n",
    "\n",
    "from datetime import datetime\n",
    "import plotly.plotly  as py\n",
    "py.tools.set_credentials_file(username='mcmanusdatascience', api_key='Mkw1SmxGJj1HPglRqBES')\n",
    "import plotly.graph_objs as go\n",
    "import plotly.plotly.tools as tls"
   ]
  },
  {
   "cell_type": "code",
   "execution_count": 33,
   "metadata": {},
   "outputs": [],
   "source": [
    "df = pd.read_csv('2014_bostonmarathonresults.csv')"
   ]
  },
  {
   "cell_type": "markdown",
   "metadata": {},
   "source": [
    "# Cleaning:"
   ]
  },
  {
   "cell_type": "code",
   "execution_count": 34,
   "metadata": {},
   "outputs": [
    {
     "name": "stdout",
     "output_type": "stream",
     "text": [
      "     10k                name  division    25k gender  age  official bib  \\\n",
      "0  17.37  Yamamoto, Hiroyuki         8  47.67      M   47     85.25  W1   \n",
      "1  32.58        Jeptoo, Rita         1  82.43      F   33    138.95  F1   \n",
      "2  16.62   Van Dyk, Ernst F.         1  45.80      M   41     80.60  W2   \n",
      "3  32.57        Dibaba, Mare         3  82.43      F   24    140.58  F2   \n",
      "4  17.12      Hokinoue, Kota         2  46.37      M   40     81.23  W3   \n",
      "\n",
      "   genderdiv  ctz  ... overall  pace  state    30k     5k   half    20k  \\\n",
      "0          8  NaN  ...       8  3.27    NaN  59.18   8.02  39.72  37.65   \n",
      "1          1  NaN  ...      21  5.30    NaN  99.33  16.22  69.47  65.83   \n",
      "2          1  NaN  ...       1  3.08    NaN  56.45   7.75  38.03  36.10   \n",
      "3          3  NaN  ...      27  5.37    NaN  99.33  16.20  69.47  65.83   \n",
      "4          2  NaN  ...       2  3.10    NaN  57.03   8.02  38.60  36.58   \n",
      "\n",
      "  country            city     40k  \n",
      "0     JPN         Fukuoka   80.43  \n",
      "1     KEN         Eldoret  132.10  \n",
      "2     RSA           Paarl   76.10  \n",
      "3     ETH            Shoa  132.95  \n",
      "4     JPN  Nogata Fukuoka   76.72  \n",
      "\n",
      "[5 rows x 21 columns]\n"
     ]
    }
   ],
   "source": [
    "print(df.head())"
   ]
  },
  {
   "cell_type": "code",
   "execution_count": 35,
   "metadata": {},
   "outputs": [
    {
     "data": {
      "text/plain": [
       "10k              0\n",
       "name             0\n",
       "division         0\n",
       "25k              0\n",
       "gender           0\n",
       "age              0\n",
       "official         0\n",
       "bib              0\n",
       "genderdiv        0\n",
       "ctz          30740\n",
       "35k              0\n",
       "overall          0\n",
       "pace             0\n",
       "state         2576\n",
       "30k              0\n",
       "5k               0\n",
       "half             0\n",
       "20k              0\n",
       "country          0\n",
       "city             1\n",
       "40k              0\n",
       "dtype: int64"
      ]
     },
     "execution_count": 35,
     "metadata": {},
     "output_type": "execute_result"
    }
   ],
   "source": [
    "df.isnull().sum()"
   ]
  },
  {
   "cell_type": "markdown",
   "metadata": {},
   "source": [
    "State seems to be empty for a large number of the individuals in the dataset. I'm going to make two seperate datasets right off the bat - one for Americans and one for foreigners."
   ]
  },
  {
   "cell_type": "code",
   "execution_count": 36,
   "metadata": {},
   "outputs": [],
   "source": [
    "df_nationals = df[df['country'] == 'USA' ]\n",
    "df_nonnationals = df[df['country'] != 'USA']"
   ]
  },
  {
   "cell_type": "code",
   "execution_count": 37,
   "metadata": {},
   "outputs": [
    {
     "data": {
      "text/plain": [
       "10k             0\n",
       "name            0\n",
       "division        0\n",
       "25k             0\n",
       "gender          0\n",
       "age             0\n",
       "official        0\n",
       "bib             0\n",
       "genderdiv       0\n",
       "ctz          4361\n",
       "35k             0\n",
       "overall         0\n",
       "pace            0\n",
       "state        2576\n",
       "30k             0\n",
       "5k              0\n",
       "half            0\n",
       "20k             0\n",
       "country         0\n",
       "city            1\n",
       "40k             0\n",
       "dtype: int64"
      ]
     },
     "execution_count": 37,
     "metadata": {},
     "output_type": "execute_result"
    }
   ],
   "source": [
    "df_nonnationals.isnull().sum()"
   ]
  },
  {
   "cell_type": "markdown",
   "metadata": {},
   "source": [
    "Great - the data for non-nationals have all the entries without state information. On further inspection, the ctz variable indicates citizenship (for example, not all of the US entries are by US nationals). To be conclusive, let's just go ahead and replace the nan values in state in the original dataset. We'll label them as non-national entry (NNE. While we're at it let's drop that individual who didn't enter their city."
   ]
  },
  {
   "cell_type": "code",
   "execution_count": 39,
   "metadata": {},
   "outputs": [],
   "source": [
    "df['state'] = df.state.replace(np.nan, 'NNE', regex=True)\n",
    "\n",
    "df_nonnationals['state'] = df_nonnationals.state.replace(np.nan, 'NNE', regex=True)\n",
    "df_nationals['state'] = df_nationals.state.replace(np.nan, 'NNE', regex=True)\n",
    "\n",
    "df['ctz'] = df.ctz.fillna(df['country'])\n",
    "\n",
    "df_nonnationals['ctz'] = df_nonnationals.ctz.fillna(df['country'])\n",
    "df_nationals['ctz'] = df_nationals.ctz.fillna(df['country'])"
   ]
  },
  {
   "cell_type": "code",
   "execution_count": 48,
   "metadata": {},
   "outputs": [],
   "source": [
    "df = df.dropna(axis=0, how='any')\n",
    "\n",
    "df_nonnationals=df_nonnationals.dropna(axis=0, how='any')\n",
    "df_nationals=df_nationals.dropna(axis=0, how='any')"
   ]
  },
  {
   "cell_type": "markdown",
   "metadata": {},
   "source": [
    "# Data Exploration:"
   ]
  },
  {
   "cell_type": "code",
   "execution_count": 49,
   "metadata": {},
   "outputs": [],
   "source": [
    "sex_counts_nationals = pd.DataFrame(df_nationals.gender.value_counts())\n",
    "sex_counts_nonnationals = pd.DataFrame(df_nonnationals.gender.value_counts())"
   ]
  },
  {
   "cell_type": "code",
   "execution_count": 104,
   "metadata": {},
   "outputs": [],
   "source": []
  },
  {
   "cell_type": "code",
   "execution_count": 105,
   "metadata": {},
   "outputs": [
    {
     "name": "stderr",
     "output_type": "stream",
     "text": [
      "D:\\Anaconda\\lib\\site-packages\\IPython\\core\\display.py:689: UserWarning:\n",
      "\n",
      "Consider using IPython.display.IFrame instead\n",
      "\n"
     ]
    },
    {
     "data": {
      "text/html": [
       "<iframe id=\"igraph\" scrolling=\"no\" style=\"border:none;\" seamless=\"seamless\" src=\"https://plot.ly/~mcmanusdatascience/34.embed\" height=\"525px\" width=\"100%\"></iframe>"
      ],
      "text/plain": [
       "<chart_studio.tools.PlotlyDisplay object>"
      ]
     },
     "execution_count": 105,
     "metadata": {},
     "output_type": "execute_result"
    }
   ],
   "source": [
    "labels = ['Male', 'Female']\n",
    "values1 = sex_counts_nationals\n",
    "values2 = sex_counts_nonnationals\n",
    "\n",
    "trace1 = go.Pie(labels=labels, values=values1, hovertext = 'US entrants', title = 'US entrants by sex' )\n",
    "trace2 = go.Pie(labels=labels, values=values2, hovertext = 'non-US entrants', title = 'non-US entrants by sex')\n",
    "\n",
    "\n",
    "py.iplot([trace1], filename='basic_pie_chart')\n"
   ]
  },
  {
   "cell_type": "code",
   "execution_count": 94,
   "metadata": {},
   "outputs": [
    {
     "name": "stderr",
     "output_type": "stream",
     "text": [
      "D:\\Anaconda\\lib\\site-packages\\IPython\\core\\display.py:689: UserWarning:\n",
      "\n",
      "Consider using IPython.display.IFrame instead\n",
      "\n"
     ]
    },
    {
     "data": {
      "text/html": [
       "<iframe id=\"igraph\" scrolling=\"no\" style=\"border:none;\" seamless=\"seamless\" src=\"https://plot.ly/~mcmanusdatascience/34.embed\" height=\"525px\" width=\"100%\"></iframe>"
      ],
      "text/plain": [
       "<chart_studio.tools.PlotlyDisplay object>"
      ]
     },
     "execution_count": 94,
     "metadata": {},
     "output_type": "execute_result"
    }
   ],
   "source": [
    "py.iplot([trace2], filename='basic_pie_chart')"
   ]
  },
  {
   "cell_type": "markdown",
   "metadata": {},
   "source": [
    "Females are significantly more represented in the non-US entrants."
   ]
  },
  {
   "cell_type": "code",
   "execution_count": 156,
   "metadata": {},
   "outputs": [
    {
     "data": {
      "text/plain": [
       "<Figure size 1008x72 with 0 Axes>"
      ]
     },
     "metadata": {},
     "output_type": "display_data"
    },
    {
     "data": {
      "image/png": "[encoded data removed]",
      "text/plain": [
       "<Figure size 360x360 with 1 Axes>"
      ]
     },
     "metadata": {
      "needs_background": "light"
     },
     "output_type": "display_data"
    }
   ],
   "source": [
    "#stolen from Eve\n",
    "age_bins= [18,25,30,35,40,45,50,55,60,70,(df['age'].max()+1)]\n",
    "\n",
    "age_labels = ['18-25', '25-30', '30-35', '35-40','40-45', '45-50', '50-55','55-60', '60-70', '>70']\n",
    "df['age_groups'] = pd.cut(df['age'], bins=age_bins, labels=age_labels, right=False)\n",
    "\n",
    "#stolen from Eve \n",
    "#Plot the figure\n",
    "plt.figure(figsize=(14,1))\n",
    "sns.catplot(x=\"age_groups\", \n",
    "            kind=\"count\", \n",
    "            data=df)\n",
    "plt.title('Count of Participants by Age Group')\n",
    "plt.xlabel('Participants')\n",
    "plt.ylabel('Age')\n",
    "plt.show()"
   ]
  },
  {
   "cell_type": "markdown",
   "metadata": {},
   "source": [
    "Distribution of entrants by age is normally distrubed with a positive skew. A large proportion of the individuals that participate are middle aged (35-55)."
   ]
  },
  {
   "cell_type": "code",
   "execution_count": 157,
   "metadata": {},
   "outputs": [
    {
     "data": {
      "text/plain": [
       "<Figure size 1008x72 with 0 Axes>"
      ]
     },
     "metadata": {},
     "output_type": "display_data"
    },
    {
     "data": {
      "image/png": "[encoded data removed]",
      "text/plain": [
       "<Figure size 360x360 with 1 Axes>"
      ]
     },
     "metadata": {
      "needs_background": "light"
     },
     "output_type": "display_data"
    }
   ],
   "source": [
    "df_nonnationals['age_groups'] = pd.cut(df_nonnationals['age'], bins=age_bins, labels=age_labels, right=False)\n",
    "\n",
    "#stolen from Eve \n",
    "#Plot the figure\n",
    "plt.figure(figsize=(14,1))\n",
    "sns.catplot(x=\"age_groups\", \n",
    "            kind=\"count\",  \n",
    "            data=df_nonnationals)\n",
    "plt.title('Count of Participants by Age Group - Non-nationals')\n",
    "plt.xlabel('Participants')\n",
    "plt.ylabel('Age')\n",
    "plt.show()"
   ]
  },
  {
   "cell_type": "code",
   "execution_count": 158,
   "metadata": {},
   "outputs": [
    {
     "data": {
      "text/plain": [
       "<Figure size 1008x72 with 0 Axes>"
      ]
     },
     "metadata": {},
     "output_type": "display_data"
    },
    {
     "data": {
      "image/png": "[encoded data removed]",
      "text/plain": [
       "<Figure size 360x360 with 1 Axes>"
      ]
     },
     "metadata": {
      "needs_background": "light"
     },
     "output_type": "display_data"
    }
   ],
   "source": [
    "df_nationals['age_groups'] = pd.cut(df_nationals['age'], bins=age_bins, labels=age_labels, right=False)\n",
    "\n",
    "#stolen from Eve \n",
    "#Plot the figure\n",
    "plt.figure(figsize=(14,1))\n",
    "sns.catplot(x=\"age_groups\", \n",
    "            kind=\"count\", \n",
    "            data=df_nationals)\n",
    "plt.title('Count of Participants by Age Group - Nationals')\n",
    "plt.xlabel('Participants')\n",
    "plt.ylabel('Age')\n",
    "plt.show()"
   ]
  },
  {
   "cell_type": "markdown",
   "metadata": {},
   "source": [
    "The non-national group is significantly older on average. Probably due to the fact that the 40-50 group probably have more time to travel (and perhaps have the heavy duty on their child rearing behind them)."
   ]
  },
  {
   "cell_type": "code",
   "execution_count": 143,
   "metadata": {},
   "outputs": [],
   "source": [
    "df_wheelchair = df[df['bib'].str.contains('W')]\n",
    "df_ablebodied = df[~df['bib'].str.contains('W')]"
   ]
  },
  {
   "cell_type": "code",
   "execution_count": 144,
   "metadata": {},
   "outputs": [
    {
     "data": {
      "text/html": [
       "<div>\n",
       "<style scoped>\n",
       "    .dataframe tbody tr th:only-of-type {\n",
       "        vertical-align: middle;\n",
       "    }\n",
       "\n",
       "    .dataframe tbody tr th {\n",
       "        vertical-align: top;\n",
       "    }\n",
       "\n",
       "    .dataframe thead th {\n",
       "        text-align: right;\n",
       "    }\n",
       "</style>\n",
       "<table border=\"1\" class=\"dataframe\">\n",
       "  <thead>\n",
       "    <tr style=\"text-align: right;\">\n",
       "      <th></th>\n",
       "      <th>10k</th>\n",
       "      <th>name</th>\n",
       "      <th>division</th>\n",
       "      <th>25k</th>\n",
       "      <th>gender</th>\n",
       "      <th>age</th>\n",
       "      <th>official</th>\n",
       "      <th>bib</th>\n",
       "      <th>genderdiv</th>\n",
       "      <th>ctz</th>\n",
       "      <th>...</th>\n",
       "      <th>pace</th>\n",
       "      <th>state</th>\n",
       "      <th>30k</th>\n",
       "      <th>5k</th>\n",
       "      <th>half</th>\n",
       "      <th>20k</th>\n",
       "      <th>country</th>\n",
       "      <th>city</th>\n",
       "      <th>40k</th>\n",
       "      <th>age_groups</th>\n",
       "    </tr>\n",
       "  </thead>\n",
       "  <tbody>\n",
       "    <tr>\n",
       "      <th>1</th>\n",
       "      <td>32.58</td>\n",
       "      <td>Jeptoo, Rita</td>\n",
       "      <td>1</td>\n",
       "      <td>82.43</td>\n",
       "      <td>F</td>\n",
       "      <td>33</td>\n",
       "      <td>138.95</td>\n",
       "      <td>F1</td>\n",
       "      <td>1</td>\n",
       "      <td>KEN</td>\n",
       "      <td>...</td>\n",
       "      <td>5.30</td>\n",
       "      <td>NNE</td>\n",
       "      <td>99.33</td>\n",
       "      <td>16.22</td>\n",
       "      <td>69.47</td>\n",
       "      <td>65.83</td>\n",
       "      <td>KEN</td>\n",
       "      <td>Eldoret</td>\n",
       "      <td>132.10</td>\n",
       "      <td>30-35</td>\n",
       "    </tr>\n",
       "    <tr>\n",
       "      <th>3</th>\n",
       "      <td>32.57</td>\n",
       "      <td>Dibaba, Mare</td>\n",
       "      <td>3</td>\n",
       "      <td>82.43</td>\n",
       "      <td>F</td>\n",
       "      <td>24</td>\n",
       "      <td>140.58</td>\n",
       "      <td>F2</td>\n",
       "      <td>3</td>\n",
       "      <td>ETH</td>\n",
       "      <td>...</td>\n",
       "      <td>5.37</td>\n",
       "      <td>NNE</td>\n",
       "      <td>99.33</td>\n",
       "      <td>16.20</td>\n",
       "      <td>69.47</td>\n",
       "      <td>65.83</td>\n",
       "      <td>ETH</td>\n",
       "      <td>Shoa</td>\n",
       "      <td>132.95</td>\n",
       "      <td>18-25</td>\n",
       "    </tr>\n",
       "    <tr>\n",
       "      <th>5</th>\n",
       "      <td>32.58</td>\n",
       "      <td>Sumgong, Jemima Jelagat</td>\n",
       "      <td>4</td>\n",
       "      <td>82.45</td>\n",
       "      <td>F</td>\n",
       "      <td>29</td>\n",
       "      <td>140.68</td>\n",
       "      <td>F3</td>\n",
       "      <td>4</td>\n",
       "      <td>KEN</td>\n",
       "      <td>...</td>\n",
       "      <td>5.37</td>\n",
       "      <td>NNE</td>\n",
       "      <td>99.33</td>\n",
       "      <td>16.22</td>\n",
       "      <td>69.47</td>\n",
       "      <td>65.83</td>\n",
       "      <td>KEN</td>\n",
       "      <td>Nandi</td>\n",
       "      <td>132.95</td>\n",
       "      <td>25-30</td>\n",
       "    </tr>\n",
       "    <tr>\n",
       "      <th>7</th>\n",
       "      <td>30.48</td>\n",
       "      <td>Geneti, Markos</td>\n",
       "      <td>5</td>\n",
       "      <td>76.95</td>\n",
       "      <td>M</td>\n",
       "      <td>29</td>\n",
       "      <td>129.83</td>\n",
       "      <td>5</td>\n",
       "      <td>5</td>\n",
       "      <td>ETH</td>\n",
       "      <td>...</td>\n",
       "      <td>4.97</td>\n",
       "      <td>NNE</td>\n",
       "      <td>92.52</td>\n",
       "      <td>15.17</td>\n",
       "      <td>64.85</td>\n",
       "      <td>61.62</td>\n",
       "      <td>ETH</td>\n",
       "      <td>Addis Ababa</td>\n",
       "      <td>122.80</td>\n",
       "      <td>25-30</td>\n",
       "    </tr>\n",
       "    <tr>\n",
       "      <th>9</th>\n",
       "      <td>30.48</td>\n",
       "      <td>Hall, Ryan</td>\n",
       "      <td>20</td>\n",
       "      <td>77.68</td>\n",
       "      <td>M</td>\n",
       "      <td>31</td>\n",
       "      <td>137.83</td>\n",
       "      <td>6</td>\n",
       "      <td>20</td>\n",
       "      <td>USA</td>\n",
       "      <td>...</td>\n",
       "      <td>5.27</td>\n",
       "      <td>CA</td>\n",
       "      <td>94.78</td>\n",
       "      <td>15.15</td>\n",
       "      <td>65.23</td>\n",
       "      <td>61.78</td>\n",
       "      <td>USA</td>\n",
       "      <td>Redding</td>\n",
       "      <td>129.83</td>\n",
       "      <td>30-35</td>\n",
       "    </tr>\n",
       "  </tbody>\n",
       "</table>\n",
       "<p>5 rows × 22 columns</p>\n",
       "</div>"
      ],
      "text/plain": [
       "     10k                     name  division    25k gender  age  official bib  \\\n",
       "1  32.58             Jeptoo, Rita         1  82.43      F   33    138.95  F1   \n",
       "3  32.57             Dibaba, Mare         3  82.43      F   24    140.58  F2   \n",
       "5  32.58  Sumgong, Jemima Jelagat         4  82.45      F   29    140.68  F3   \n",
       "7  30.48           Geneti, Markos         5  76.95      M   29    129.83   5   \n",
       "9  30.48               Hall, Ryan        20  77.68      M   31    137.83   6   \n",
       "\n",
       "   genderdiv  ctz  ...  pace  state    30k     5k   half    20k country  \\\n",
       "1          1  KEN  ...  5.30    NNE  99.33  16.22  69.47  65.83     KEN   \n",
       "3          3  ETH  ...  5.37    NNE  99.33  16.20  69.47  65.83     ETH   \n",
       "5          4  KEN  ...  5.37    NNE  99.33  16.22  69.47  65.83     KEN   \n",
       "7          5  ETH  ...  4.97    NNE  92.52  15.17  64.85  61.62     ETH   \n",
       "9         20  USA  ...  5.27     CA  94.78  15.15  65.23  61.78     USA   \n",
       "\n",
       "          city     40k age_groups  \n",
       "1      Eldoret  132.10      30-35  \n",
       "3         Shoa  132.95      18-25  \n",
       "5        Nandi  132.95      25-30  \n",
       "7  Addis Ababa  122.80      25-30  \n",
       "9      Redding  129.83      30-35  \n",
       "\n",
       "[5 rows x 22 columns]"
      ]
     },
     "execution_count": 144,
     "metadata": {},
     "output_type": "execute_result"
    }
   ],
   "source": [
    "df_ablebodied.head()"
   ]
  },
  {
   "cell_type": "markdown",
   "metadata": {},
   "source": [
    "# Strategy:\n",
    "\n",
    "I can't just throw all the features at the clustering alogorithm. If I was to do that, I wouldn't be able to discern any patterns. So first, for this to have any utility, I neeed to select what features i'm going to include. These are the features that I think would be meaningful:\n",
    "\n",
    "Features for clustering model:\n",
    "1. Age group: df_ablebodied['age']\n",
    "2. Sex : df_ablebodied['gender']\n",
    "3. Position : df_ablebodied['genderdiv']\n",
    "4. National or non-national entrant: df_ablebodied['natentrant']\n",
    "\n",
    "Further to all this, I've seperated the data out for those who were in the wheelchair race and those who were not. To keep this simple i'm going to do this analysis on the non-wheelchair racers."
   ]
  },
  {
   "cell_type": "code",
   "execution_count": 147,
   "metadata": {},
   "outputs": [
    {
     "name": "stderr",
     "output_type": "stream",
     "text": [
      "D:\\Anaconda\\lib\\site-packages\\ipykernel_launcher.py:1: SettingWithCopyWarning:\n",
      "\n",
      "\n",
      "A value is trying to be set on a copy of a slice from a DataFrame.\n",
      "Try using .loc[row_indexer,col_indexer] = value instead\n",
      "\n",
      "See the caveats in the documentation: http://pandas.pydata.org/pandas-docs/stable/indexing.html#indexing-view-versus-copy\n",
      "\n"
     ]
    }
   ],
   "source": [
    "df_ablebodied['natentrant']=df_ablebodied['country'] == 'USA'"
   ]
  },
  {
   "cell_type": "code",
   "execution_count": 207,
   "metadata": {},
   "outputs": [
    {
     "name": "stderr",
     "output_type": "stream",
     "text": [
      "D:\\Anaconda\\lib\\site-packages\\ipykernel_launcher.py:8: SettingWithCopyWarning:\n",
      "\n",
      "\n",
      "A value is trying to be set on a copy of a slice from a DataFrame.\n",
      "Try using .loc[row_indexer,col_indexer] = value instead\n",
      "\n",
      "See the caveats in the documentation: http://pandas.pydata.org/pandas-docs/stable/indexing.html#indexing-view-versus-copy\n",
      "\n",
      "D:\\Anaconda\\lib\\site-packages\\ipykernel_launcher.py:9: SettingWithCopyWarning:\n",
      "\n",
      "\n",
      "A value is trying to be set on a copy of a slice from a DataFrame.\n",
      "Try using .loc[row_indexer,col_indexer] = value instead\n",
      "\n",
      "See the caveats in the documentation: http://pandas.pydata.org/pandas-docs/stable/indexing.html#indexing-view-versus-copy\n",
      "\n",
      "D:\\Anaconda\\lib\\site-packages\\ipykernel_launcher.py:10: SettingWithCopyWarning:\n",
      "\n",
      "\n",
      "A value is trying to be set on a copy of a slice from a DataFrame.\n",
      "Try using .loc[row_indexer,col_indexer] = value instead\n",
      "\n",
      "See the caveats in the documentation: http://pandas.pydata.org/pandas-docs/stable/indexing.html#indexing-view-versus-copy\n",
      "\n"
     ]
    }
   ],
   "source": [
    "X = df_ablebodied[['age','genderdiv','natentrant']]\n",
    "\n",
    "\n",
    "features = X\n",
    "\n",
    "#X_norm = normalize(X)\n",
    "\n",
    "X['genderdiv']=X_norm[:,2]\n",
    "X['age']=X_norm[:,0]\n",
    "X['gender']=df_ablebodied['gender']\n"
   ]
  },
  {
   "cell_type": "markdown",
   "metadata": {},
   "source": [
    "# Models\n",
    "\n",
    "I'm going to try this with 2X2X4X4 clusters. These numbers reflect"
   ]
  },
  {
   "cell_type": "markdown",
   "metadata": {},
   "source": [
    "# K-Means"
   ]
  },
  {
   "cell_type": "code",
   "execution_count": 183,
   "metadata": {},
   "outputs": [],
   "source": [
    "# K Means\n",
    "\n",
    "from sklearn.cluster import KMeans\n",
    "\n",
    "y_pred = KMeans(n_clusters=4).fit_predict(X)"
   ]
  },
  {
   "cell_type": "code",
   "execution_count": 199,
   "metadata": {},
   "outputs": [
    {
     "data": {
      "image/png": "[encoded data removed]",
      "text/plain": [
       "<Figure size 432x288 with 2 Axes>"
      ]
     },
     "metadata": {
      "needs_background": "light"
     },
     "output_type": "display_data"
    },
    {
     "data": {
      "image/png": "[encoded data removed]",
      "text/plain": [
       "<Figure size 432x288 with 1 Axes>"
      ]
     },
     "metadata": {
      "needs_background": "light"
     },
     "output_type": "display_data"
    }
   ],
   "source": [
    "#Plot the solution\n",
    "fig = plt.figure()\n",
    "\n",
    "plt.subplot(1,3, 1)\n",
    "plt.scatter(X['age'],X['gender'], c=y_pred)\n",
    "\n",
    "plt.subplot(1,3, 2)\n",
    "plt.scatter(X['age'],X['genderdiv'], c=y_pred)\n",
    "plt.show()\n",
    "plt.subplot(1,3, 3)\n",
    "plt.scatter(X['age'],X['natentrant'], c=y_pred)\n",
    "plt.show()"
   ]
  },
  {
   "cell_type": "markdown",
   "metadata": {},
   "source": [
    "What this shows is that the groups are primarily formed on the basis of rank in the race and age. Sex and national entrant status have lesser effects. If we look at these grouping in higher resolution/zoom we can begin to tease their effects out."
   ]
  },
  {
   "cell_type": "code",
   "execution_count": 202,
   "metadata": {
    "scrolled": true
   },
   "outputs": [
    {
     "data": {
      "image/png": "[encoded data removed]",
      "text/plain": [
       "<Figure size 432x288 with 1 Axes>"
      ]
     },
     "metadata": {
      "needs_background": "light"
     },
     "output_type": "display_data"
    }
   ],
   "source": [
    "plt.scatter(X['gender'],X['genderdiv'], c=y_pred)\n",
    "plt.show()"
   ]
  },
  {
   "cell_type": "code",
   "execution_count": 187,
   "metadata": {},
   "outputs": [
    {
     "data": {
      "image/png": "[encoded data removed]",
      "text/plain": [
       "<Figure size 432x288 with 1 Axes>"
      ]
     },
     "metadata": {
      "needs_background": "light"
     },
     "output_type": "display_data"
    }
   ],
   "source": []
  },
  {
   "cell_type": "markdown",
   "metadata": {},
   "source": [
    "Ok, i'm going back to the start here and i'm making this simpler. It is possible to use binary variables in clustering, but not the way i'm currently doing it. I'm only looking at AGE and Position and i'm going to seperate the datasets by sex."
   ]
  },
  {
   "cell_type": "markdown",
   "metadata": {},
   "source": [
    "# Back to the drawing board."
   ]
  },
  {
   "cell_type": "code",
   "execution_count": 209,
   "metadata": {},
   "outputs": [],
   "source": [
    "X_male = X[X['gender'] == 'M' ]\n",
    "X_female = X[X['gender'] == 'F' ]\n",
    "\n",
    "X_male = X_male.drop('gender', 1)\n",
    "X_female = X_female.drop('gender', 1)\n",
    "\n",
    "X_male = X_male.drop('natentrant', 1)\n",
    "X_female = X_female.drop('natentrant', 1)"
   ]
  },
  {
   "cell_type": "markdown",
   "metadata": {},
   "source": [
    "Ok, now we're going to look at how the interaction of age and placement influences grouping for groups of males and groups of females. I think it would be meaningful to include a total of 7 groups for the following reasons:\n",
    "\n",
    "Functionally, runners are in their peak between 25-35. There are a large number of runners in middle age, and then there are a smaller group of runners in the post 50 group. This gives us a total of 3 groupings by age. I think it would make sense to group runners by placement by the quartiles. As there will be a natural overlap of these features, I'm going to start with the sum of these groups."
   ]
  },
  {
   "cell_type": "markdown",
   "metadata": {},
   "source": [
    "# K-Means - 2nd try"
   ]
  },
  {
   "cell_type": "code",
   "execution_count": 215,
   "metadata": {},
   "outputs": [],
   "source": [
    "# K Means\n",
    "\n",
    "from sklearn.cluster import KMeans\n",
    "\n",
    "y_pred = KMeans(n_clusters=4).fit_predict(X_male)"
   ]
  },
  {
   "cell_type": "code",
   "execution_count": null,
   "metadata": {},
   "outputs": [],
   "source": [
    "print(df)"
   ]
  },
  {
   "cell_type": "code",
   "execution_count": null,
   "metadata": {},
   "outputs": [],
   "source": [
    "plt.scatter(X_male['age'],X_male['genderdiv'], c=y_pred)\n",
    "plt.xlabel(\"Normalized Placement\")\n",
    "plt.ylabel(\"Normalized Age\")\n",
    "plt.show()"
   ]
  },
  {
   "cell_type": "code",
   "execution_count": null,
   "metadata": {},
   "outputs": [],
   "source": [
    "This is what we would expect. there are a clear groupings here that are dependent on the interaction between age and results. \n",
    "This should hold for female participants also."
   ]
  },
  {
   "cell_type": "code",
   "execution_count": 228,
   "metadata": {},
   "outputs": [
    {
     "data": {
      "image/png": "[encoded data removed]",
      "text/plain": [
       "<Figure size 432x288 with 1 Axes>"
      ]
     },
     "metadata": {
      "needs_background": "light"
     },
     "output_type": "display_data"
    }
   ],
   "source": [
    "y_pred = KMeans(n_clusters=4).fit_predict(X_female)\n",
    "plt.scatter(X_female['age'],X_female['genderdiv'], c=y_pred)\n",
    "plt.xlabel(\"Normalized Placement\")\n",
    "plt.ylabel(\"Normalized Age\")\n",
    "plt.show()"
   ]
  },
  {
   "cell_type": "code",
   "execution_count": null,
   "metadata": {},
   "outputs": [],
   "source": [
    "The data looks almost identical."
   ]
  },
  {
   "cell_type": "markdown",
   "metadata": {},
   "source": [
    "# Means Shift"
   ]
  },
  {
   "cell_type": "code",
   "execution_count": 229,
   "metadata": {},
   "outputs": [
    {
     "name": "stdout",
     "output_type": "stream",
     "text": [
      "Number of estimated clusters: 55\n"
     ]
    },
    {
     "data": {
      "image/png": "[encoded data removed]",
      "text/plain": [
       "<Figure size 432x288 with 1 Axes>"
      ]
     },
     "metadata": {
      "needs_background": "light"
     },
     "output_type": "display_data"
    }
   ],
   "source": [
    "# Mean Shift\n",
    "\n",
    "from sklearn.cluster import MeanShift, estimate_bandwidth\n",
    "\n",
    "# Here we set the bandwidth. This function automatically derives a bandwidth\n",
    "# number based on an inspection of the distances among points in the data.\n",
    "bandwidth = estimate_bandwidth(X_male, quantile=0.2)\n",
    "\n",
    "# Declare and fit the model.\n",
    "ms = MeanShift(bandwidth=bandwidth, bin_seeding=True)\n",
    "ms.fit(X_male)\n",
    "\n",
    "# Extract cluster assignments for each data point.\n",
    "labels = ms.labels_\n",
    "\n",
    "# Coordinates of the cluster centers.\n",
    "cluster_centers = ms.cluster_centers_\n",
    "\n",
    "# Count our clusters.\n",
    "n_clusters_ = len(np.unique(labels))\n",
    "\n",
    "print(\"Number of estimated clusters: {}\".format(n_clusters_))\n",
    "\n",
    "plt.scatter(X_male['age'], X_male['genderdiv'], c=labels)\n",
    "plt.xlabel(\"Normalized Placement\")\n",
    "plt.ylabel(\"Normalized Age\")\n",
    "plt.show()"
   ]
  },
  {
   "cell_type": "markdown",
   "metadata": {},
   "source": [
    "There's a little more overlap in the groups by using K-means. I imagine this is also the case with the female group. \n",
    "\n",
    "It also seems like there is a some over estimation of cluster sizes going on here (at least for the utility of this analysis)"
   ]
  },
  {
   "cell_type": "code",
   "execution_count": 230,
   "metadata": {},
   "outputs": [
    {
     "name": "stdout",
     "output_type": "stream",
     "text": [
      "Number of estimated clusters: 46\n"
     ]
    },
    {
     "data": {
      "image/png": "[encoded data removed]",
      "text/plain": [
       "<Figure size 432x288 with 1 Axes>"
      ]
     },
     "metadata": {
      "needs_background": "light"
     },
     "output_type": "display_data"
    }
   ],
   "source": [
    "# Mean Shift\n",
    "\n",
    "from sklearn.cluster import MeanShift, estimate_bandwidth\n",
    "\n",
    "# Here we set the bandwidth. This function automatically derives a bandwidth\n",
    "# number based on an inspection of the distances among points in the data.\n",
    "bandwidth = estimate_bandwidth(X_female, quantile=0.2)\n",
    "\n",
    "# Declare and fit the model.\n",
    "ms = MeanShift(bandwidth=bandwidth, bin_seeding=True)\n",
    "ms.fit(X_female)\n",
    "\n",
    "# Extract cluster assignments for each data point.\n",
    "labels = ms.labels_\n",
    "\n",
    "# Coordinates of the cluster centers.\n",
    "cluster_centers = ms.cluster_centers_\n",
    "\n",
    "# Count our clusters.\n",
    "n_clusters_ = len(np.unique(labels))\n",
    "\n",
    "print(\"Number of estimated clusters: {}\".format(n_clusters_))\n",
    "\n",
    "plt.scatter(X_female['age'], X_female['genderdiv'], c=labels)\n",
    "plt.xlabel(\"Normalized Placement\")\n",
    "plt.ylabel(\"Normalized Age\")\n",
    "plt.show()"
   ]
  },
  {
   "cell_type": "code",
   "execution_count": null,
   "metadata": {},
   "outputs": [],
   "source": [
    "Similar result."
   ]
  },
  {
   "cell_type": "markdown",
   "metadata": {},
   "source": [
    "# Heirarchial"
   ]
  },
  {
   "cell_type": "code",
   "execution_count": 221,
   "metadata": {},
   "outputs": [],
   "source": [
    "# Heirarchical \n",
    "\n",
    "from sklearn.cluster import AgglomerativeClustering"
   ]
  },
  {
   "cell_type": "code",
   "execution_count": 239,
   "metadata": {},
   "outputs": [
    {
     "data": {
      "image/png": "[encoded data removed]",
      "text/plain": [
       "<Figure size 432x288 with 1 Axes>"
      ]
     },
     "metadata": {
      "needs_background": "light"
     },
     "output_type": "display_data"
    }
   ],
   "source": [
    "heir = AgglomerativeClustering(n_clusters=8, \n",
    "                        affinity='euclidean', \n",
    "                        memory=None, \n",
    "                        connectivity=None, \n",
    "                        compute_full_tree='auto', \n",
    "                        linkage='ward', \n",
    "                        pooling_func='deprecated')\n",
    "\n",
    "heir.fit(X_male)\n",
    "\n",
    "y_pred = heir.fit_predict(X_male)\n",
    "\n",
    "plt.scatter(X_male['age'], X_male['genderdiv'], c=y_pred)\n",
    "plt.xlabel(\"Normalized Placement\")\n",
    "plt.ylabel(\"Normalized Age\")\n",
    "plt.show()"
   ]
  },
  {
   "cell_type": "code",
   "execution_count": 233,
   "metadata": {},
   "outputs": [
    {
     "data": {
      "image/png": "[encoded data removed]",
      "text/plain": [
       "<Figure size 432x288 with 1 Axes>"
      ]
     },
     "metadata": {
      "needs_background": "light"
     },
     "output_type": "display_data"
    }
   ],
   "source": [
    "heir = AgglomerativeClustering(n_clusters=8, \n",
    "                        affinity='euclidean', \n",
    "                        memory=None, \n",
    "                        connectivity=None, \n",
    "                        compute_full_tree='auto', \n",
    "                        linkage='ward', \n",
    "                        pooling_func='deprecated')\n",
    "\n",
    "heir.fit(X_female)\n",
    "\n",
    "y_pred = heir.fit_predict(X_female)\n",
    "\n",
    "plt.scatter(X_female['age'], X_female['genderdiv'], c=y_pred)\n",
    "plt.xlabel(\"Normalized Placement\")\n",
    "plt.ylabel(\"Normalized Age\")\n",
    "plt.show()"
   ]
  },
  {
   "cell_type": "markdown",
   "metadata": {},
   "source": [
    "# Report"
   ]
  },
  {
   "cell_type": "markdown",
   "metadata": {},
   "source": [
    "Of these models Heirarchial clustering and and K-means do the best job. The Mean Shift clustering algorithm produce a few too many clusters to be of utility in this context. \n",
    "\n",
    "Essentially what we can see here, is that there is a relationship between age and finishing place in the race. Based on these relationships we can make distinct groups based on how individuals perform in the race. If we graph this a in regular context it will look like this:"
   ]
  },
  {
   "cell_type": "code",
   "execution_count": 238,
   "metadata": {},
   "outputs": [
    {
     "data": {
      "image/png": "[encoded data removed]",
      "text/plain": [
       "<Figure size 432x288 with 1 Axes>"
      ]
     },
     "metadata": {
      "needs_background": "light"
     },
     "output_type": "display_data"
    }
   ],
   "source": [
    "plt.scatter(df['age'], df['genderdiv'])\n",
    "plt.xlabel(\"Age\")\n",
    "plt.ylabel(\"Placement\")\n",
    "plt.show()"
   ]
  },
  {
   "cell_type": "markdown",
   "metadata": {},
   "source": [
    "If we superimpose the groups on top of this plot it will look like this:"
   ]
  },
  {
   "cell_type": "code",
   "execution_count": 237,
   "metadata": {},
   "outputs": [],
   "source": [
    "df_ablebodied_maleplot = df_ablebodied[df_ablebodied['gender'] == 'M' ]"
   ]
  },
  {
   "cell_type": "code",
   "execution_count": 240,
   "metadata": {},
   "outputs": [
    {
     "data": {
      "image/png": "[encoded data removed]",
      "text/plain": [
       "<Figure size 432x288 with 1 Axes>"
      ]
     },
     "metadata": {
      "needs_background": "light"
     },
     "output_type": "display_data"
    }
   ],
   "source": [
    "plt.scatter(df_ablebodied_maleplot['age'], df_ablebodied_maleplot['genderdiv'], c=y_pred)\n",
    "plt.xlabel(\"Age\")\n",
    "plt.ylabel(\"Placement\")\n",
    "plt.show()"
   ]
  },
  {
   "cell_type": "markdown",
   "metadata": {},
   "source": [
    "Essentially these groups give generate a topological heirarchy of runners adjusted for age. For example. There are a few runners age between 60-70 in yellow, this yellow group perform better, when adjusted by their age than the purple group."
   ]
  }
 ],
 "metadata": {
  "kernelspec": {
   "display_name": "Python 3",
   "language": "python",
   "name": "python3"
  },
  "language_info": {
   "codemirror_mode": {
    "name": "ipython",
    "version": 3
   },
   "file_extension": ".py",
   "mimetype": "text/x-python",
   "name": "python",
   "nbconvert_exporter": "python",
   "pygments_lexer": "ipython3",
   "version": "3.6.8"
  }
 },
 "nbformat": 4,
 "nbformat_minor": 2
}
