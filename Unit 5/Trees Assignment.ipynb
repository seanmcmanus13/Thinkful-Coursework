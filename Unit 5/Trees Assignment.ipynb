{
 "cells": [
  {
   "cell_type": "markdown",
   "metadata": {},
   "source": [
    "Implement a binary tree, which is filled with 15 pieces of random data. \n",
    "Your job is to then write a program to traverse the tree using a breadth first traversal. \n",
    "If you want additional practice, try other forms of traversal."
   ]
  },
  {
   "cell_type": "code",
   "execution_count": 1,
   "metadata": {},
   "outputs": [],
   "source": [
    "class Node:\n",
    "    def __init__(self, val):\n",
    "        self.left = None\n",
    "        self.right = None\n",
    "        self.val = val"
   ]
  },
  {
   "cell_type": "code",
   "execution_count": 3,
   "metadata": {},
   "outputs": [],
   "source": [
    "\n",
    "# Establish root and children\n",
    "root = Node('Kaguya')\n",
    "root.left = Node('Hagoromo')\n",
    "root.right = Node('Hamura')\n",
    "\n",
    "# Add children for 2 and 3\n",
    "root.left.left = Node('Asura')\n",
    "root.left.right = Node('Indra')\n",
    "root.right.left = Node('none')\n",
    "root.right.right = Node('none')\n",
    "\n",
    "# Add leaves for 4, 5, 6, and 7\n",
    "root.left.left.left = Node('Unknown sons of Asura')\n",
    "root.left.left.right = Node('Unknown daughter of Asura')\n",
    "root.left.right.left = Node('Jayanta')\n",
    "root.left.right.right = Node('Jayanti and Devasana')\n",
    "root.right.left.left = Node('none')\n",
    "root.right.left.right = Node('none')\n",
    "root.right.right.left = Node('none')\n",
    "root.right.right.right = Node('none')"
   ]
  },
  {
   "cell_type": "code",
   "execution_count": 4,
   "metadata": {},
   "outputs": [],
   "source": [
    "#Level order\n",
    "def level_order (root):\n",
    "    h = height(root)\n",
    "    for i in range(1, h+1):\n",
    "        given_level(root, i)\n",
    "\n",
    "#Each level of the tree\n",
    "def given_level (root, level):\n",
    "    # Skip empty level\n",
    "    if root is None:\n",
    "        return\n",
    "    # Print root if only level\n",
    "    if level == 1:\n",
    "        print(root.val)\n",
    "    # Print left and right for each level\n",
    "    elif level > 1:\n",
    "        given_level(root.left, level-1)\n",
    "        given_level(root.right, level-1)\n",
    "\n",
    "#Height of the tree\n",
    "def height(node):\n",
    "    if node is None:\n",
    "        return 0\n",
    "    else:\n",
    "        lheight = height(node.left)\n",
    "        rheight = height(node.right)\n",
    "        # Use the larger height\n",
    "        if lheight > rheight:\n",
    "            return lheight+1\n",
    "        else:\n",
    "            return rheight+1"
   ]
  },
  {
   "cell_type": "code",
   "execution_count": 5,
   "metadata": {},
   "outputs": [
    {
     "name": "stdout",
     "output_type": "stream",
     "text": [
      "Kaguya\n",
      "Hagoromo\n",
      "Hamura\n",
      "Asura\n",
      "Indra\n",
      "none\n",
      "none\n",
      "Unknown sons of Asura\n",
      "Unknown daughter of Asura\n",
      "Jayanta\n",
      "Jayanti and Devasana\n",
      "none\n",
      "none\n",
      "none\n",
      "none\n"
     ]
    }
   ],
   "source": [
    "level_order(root)"
   ]
  },
  {
   "cell_type": "code",
   "execution_count": null,
   "metadata": {},
   "outputs": [],
   "source": []
  }
 ],
 "metadata": {
  "kernelspec": {
   "display_name": "Python 3",
   "language": "python",
   "name": "python3"
  },
  "language_info": {
   "codemirror_mode": {
    "name": "ipython",
    "version": 3
   },
   "file_extension": ".py",
   "mimetype": "text/x-python",
   "name": "python",
   "nbconvert_exporter": "python",
   "pygments_lexer": "ipython3",
   "version": "3.6.8"
  }
 },
 "nbformat": 4,
 "nbformat_minor": 2
}
