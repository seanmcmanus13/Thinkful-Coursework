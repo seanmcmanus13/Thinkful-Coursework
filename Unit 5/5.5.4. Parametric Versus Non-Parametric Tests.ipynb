{
 "cells": [
  {
   "cell_type": "code",
   "execution_count": 20,
   "metadata": {},
   "outputs": [],
   "source": [
    "import pandas as pd\n",
    "import numpy as np\n",
    "import matplotlib.pyplot as plt\n",
    "import scipy.stats as stats\n",
    "import sklearn\n",
    "import seaborn as sns\n",
    "import math\n",
    "\n",
    "\n",
    "# nonparametric statistics\n",
    "from scipy.stats import kruskal, wilcoxon"
   ]
  },
  {
   "cell_type": "code",
   "execution_count": 2,
   "metadata": {},
   "outputs": [
    {
     "name": "stdout",
     "output_type": "stream",
     "text": [
      "     cntry    idno  year  tvtot  ppltrst  pplfair  pplhlp  happy  sclmeet  \\\n",
      "0       CH     5.0     6    3.0      3.0     10.0     5.0    8.0      5.0   \n",
      "1       CH    25.0     6    6.0      5.0      7.0     5.0    9.0      3.0   \n",
      "2       CH    26.0     6    1.0      8.0      8.0     8.0    7.0      6.0   \n",
      "3       CH    28.0     6    4.0      6.0      6.0     7.0   10.0      6.0   \n",
      "4       CH    29.0     6    5.0      6.0      7.0     5.0    8.0      7.0   \n",
      "5       CH    36.0     6    4.0      6.0      7.0     3.0    8.0      7.0   \n",
      "6       CH    40.0     6    3.0      0.0      5.0     2.0    0.0      2.0   \n",
      "7       CH    41.0     6    2.0      4.0      5.0     3.0   10.0      5.0   \n",
      "8       CH    51.0     6    2.0      8.0      8.0     8.0    9.0      6.0   \n",
      "9       CH    53.0     6    4.0      4.0      4.0     8.0    7.0      4.0   \n",
      "10      CH    55.0     6    1.0      6.0      7.0     7.0    9.0      5.0   \n",
      "11      CH    56.0     6    4.0      5.0      7.0     7.0    7.0      5.0   \n",
      "12      CH    57.0     6    4.0      7.0      7.0     4.0    9.0      6.0   \n",
      "13      CH    58.0     6    2.0      1.0      9.0     7.0    8.0      4.0   \n",
      "14      CH    68.0     6    4.0      4.0      5.0     3.0    8.0      1.0   \n",
      "15      CH    73.0     6    5.0      4.0      5.0     5.0    9.0      3.0   \n",
      "16      CH    81.0     6    4.0      5.0      7.0     7.0    8.0      3.0   \n",
      "17      CH    82.0     6    2.0      7.0      7.0     7.0    6.0      6.0   \n",
      "18      CH    84.0     6    0.0      9.0      7.0     8.0    9.0      5.0   \n",
      "19      CH    86.0     6    2.0      6.0      6.0     6.0    8.0      4.0   \n",
      "20      CH    87.0     6    7.0      3.0      4.0     4.0    7.0      6.0   \n",
      "21      CH    96.0     6    1.0      8.0      8.0     6.0    8.0      7.0   \n",
      "22      CH    98.0     6    2.0      7.0      7.0     8.0    9.0      6.0   \n",
      "23      CH   104.0     6    2.0      4.0      8.0     8.0    9.0      6.0   \n",
      "24      CH   108.0     6    0.0      7.0      7.0     4.0    9.0      4.0   \n",
      "25      CH   117.0     6    0.0      6.0      7.0     5.0    7.0      6.0   \n",
      "26      CH   118.0     6    2.0      7.0      6.0     5.0    8.0      4.0   \n",
      "27      CH   119.0     6    0.0      5.0      8.0     6.0    9.0      4.0   \n",
      "28      CH   121.0     6    2.0      8.0      8.0     8.0   10.0      6.0   \n",
      "29      CH   133.0     6    7.0      8.0      5.0     5.0    8.0      5.0   \n",
      "...    ...     ...   ...    ...      ...      ...     ...    ...      ...   \n",
      "8564    SE  3659.0     7    2.0      1.0      5.0     4.0   10.0      7.0   \n",
      "8565    SE  3661.0     7    5.0      5.0      3.0     4.0    5.0      6.0   \n",
      "8566    SE  3662.0     7    2.0      7.0      8.0     6.0    8.0      7.0   \n",
      "8567    SE  3665.0     7    2.0      4.0      8.0     7.0    9.0      7.0   \n",
      "8568    SE  3666.0     7    1.0      2.0      8.0     6.0    9.0      7.0   \n",
      "8569    SE  3668.0     7    6.0      5.0      3.0     4.0    9.0      6.0   \n",
      "8570    SE  3670.0     7    1.0      5.0      7.0     7.0    8.0      7.0   \n",
      "8571    SE  3671.0     7    3.0      4.0      9.0     7.0    8.0      6.0   \n",
      "8572    SE  3682.0     7    5.0      7.0      8.0     5.0    8.0      3.0   \n",
      "8573    SE  3684.0     7    1.0      8.0      8.0     6.0    9.0      7.0   \n",
      "8574    SE  3687.0     7    1.0      4.0      5.0     6.0    7.0      7.0   \n",
      "8575    SE  3689.0     7    3.0      8.0      7.0     7.0    8.0      7.0   \n",
      "8576    SE  3690.0     7    4.0      5.0      4.0     4.0    7.0      6.0   \n",
      "8577    SE  3692.0     7    6.0      6.0      9.0     7.0    5.0      4.0   \n",
      "8578    SE  3696.0     7    1.0      5.0      5.0     5.0    7.0      5.0   \n",
      "8579    SE  3700.0     7    2.0      8.0      9.0     7.0    9.0      7.0   \n",
      "8580    SE  3702.0     7    4.0      7.0      8.0     5.0   10.0      4.0   \n",
      "8581    SE  3703.0     7    1.0      6.0      7.0     6.0    8.0      6.0   \n",
      "8582    SE  3707.0     7    6.0      7.0      7.0     6.0    8.0      7.0   \n",
      "8583    SE  3708.0     7    2.0      6.0      8.0     5.0   10.0      6.0   \n",
      "8584    SE  3709.0     7    2.0      8.0     10.0     6.0    9.0      6.0   \n",
      "8585    SE  3712.0     7    1.0      3.0      6.0     4.0    9.0      7.0   \n",
      "8586    SE  3716.0     7    2.0      4.0      6.0     3.0    7.0      7.0   \n",
      "8587    SE  3720.0     7    4.0      4.0      6.0     7.0    9.0      7.0   \n",
      "8588    SE  3727.0     7    1.0      6.0      5.0     5.0   10.0      7.0   \n",
      "8589    SE  3729.0     7    3.0      4.0      5.0     3.0    6.0      6.0   \n",
      "8590    SE  3732.0     7    5.0      6.0      4.0     4.0   10.0      6.0   \n",
      "8591    SE  3743.0     7    4.0      5.0      7.0     6.0    8.0      6.0   \n",
      "8592    SE  3744.0     7    5.0      8.0      8.0     6.0    9.0      7.0   \n",
      "8593    SE  3746.0     7    2.0      6.0      7.0     5.0    7.0      7.0   \n",
      "\n",
      "      sclact  gndr  agea  partner  \n",
      "0        4.0   2.0  60.0      1.0  \n",
      "1        2.0   2.0  59.0      1.0  \n",
      "2        3.0   1.0  24.0      2.0  \n",
      "3        2.0   2.0  64.0      1.0  \n",
      "4        2.0   2.0  55.0      1.0  \n",
      "5        4.0   2.0   NaN      2.0  \n",
      "6        2.0   1.0  76.0      1.0  \n",
      "7        2.0   2.0  30.0      1.0  \n",
      "8        4.0   2.0  84.0      2.0  \n",
      "9        2.0   2.0  62.0      1.0  \n",
      "10       2.0   2.0  33.0      1.0  \n",
      "11       3.0   1.0  40.0      1.0  \n",
      "12       2.0   1.0  69.0      1.0  \n",
      "13       3.0   1.0  59.0      2.0  \n",
      "14       2.0   2.0  32.0      1.0  \n",
      "15       3.0   2.0  70.0      1.0  \n",
      "16       3.0   1.0  61.0      1.0  \n",
      "17       3.0   1.0  30.0      1.0  \n",
      "18       4.0   1.0  21.0      2.0  \n",
      "19       3.0   2.0  36.0      1.0  \n",
      "20       4.0   1.0  51.0      1.0  \n",
      "21       4.0   1.0  25.0      2.0  \n",
      "22       3.0   1.0  62.0      1.0  \n",
      "23       2.0   2.0  20.0      2.0  \n",
      "24       2.0   2.0  22.0      1.0  \n",
      "25       2.0   2.0  32.0      1.0  \n",
      "26       3.0   2.0  35.0      1.0  \n",
      "27       2.0   2.0  26.0      1.0  \n",
      "28       3.0   2.0  35.0      1.0  \n",
      "29       3.0   2.0  54.0      1.0  \n",
      "...      ...   ...   ...      ...  \n",
      "8564     4.0   1.0  17.0      2.0  \n",
      "8565     1.0   2.0  17.0      2.0  \n",
      "8566     3.0   2.0  17.0      2.0  \n",
      "8567     4.0   2.0  17.0      2.0  \n",
      "8568     3.0   2.0  17.0      2.0  \n",
      "8569     4.0   1.0  17.0      2.0  \n",
      "8570     4.0   1.0  16.0      2.0  \n",
      "8571     3.0   1.0  16.0      2.0  \n",
      "8572     1.0   1.0  16.0      2.0  \n",
      "8573     3.0   2.0  16.0      2.0  \n",
      "8574     3.0   2.0  16.0      2.0  \n",
      "8575     3.0   1.0  16.0      2.0  \n",
      "8576     3.0   1.0  16.0      2.0  \n",
      "8577     2.0   2.0  16.0      2.0  \n",
      "8578     4.0   2.0  16.0      2.0  \n",
      "8579     3.0   2.0  16.0      2.0  \n",
      "8580     1.0   1.0  16.0      2.0  \n",
      "8581     3.0   1.0  16.0      2.0  \n",
      "8582     3.0   1.0  16.0      2.0  \n",
      "8583     5.0   1.0  16.0      2.0  \n",
      "8584     2.0   1.0  16.0      2.0  \n",
      "8585     3.0   1.0  16.0      2.0  \n",
      "8586     3.0   2.0  15.0      2.0  \n",
      "8587     3.0   1.0  15.0      2.0  \n",
      "8588     2.0   1.0  15.0      2.0  \n",
      "8589     2.0   1.0  18.0      2.0  \n",
      "8590     3.0   1.0  15.0      2.0  \n",
      "8591     3.0   1.0  44.0      2.0  \n",
      "8592     3.0   1.0  15.0      2.0  \n",
      "8593     4.0   2.0  15.0      2.0  \n",
      "\n",
      "[8594 rows x 13 columns]\n"
     ]
    }
   ],
   "source": [
    "ess = pd.read_csv('ESSdata_Thinkful.csv')\n",
    "print(ess)"
   ]
  },
  {
   "cell_type": "markdown",
   "metadata": {},
   "source": [
    "# 1. Did people become less trusting from 2012 to 2014? Compute results for each country in the sample."
   ]
  },
  {
   "cell_type": "code",
   "execution_count": 3,
   "metadata": {},
   "outputs": [],
   "source": [
    "ess12 = ess[ess['year'] == 6]\n",
    "ess14 = ess[ess['year'] == 7]"
   ]
  },
  {
   "cell_type": "code",
   "execution_count": 15,
   "metadata": {},
   "outputs": [
    {
     "data": {
      "text/plain": [
       "array([[<matplotlib.axes._subplots.AxesSubplot object at 0x000001BE3B4096A0>]],\n",
       "      dtype=object)"
      ]
     },
     "execution_count": 15,
     "metadata": {},
     "output_type": "execute_result"
    },
    {
     "data": {
      "image/png": "[encoded data removed]",
      "text/plain": [
       "<Figure size 432x288 with 1 Axes>"
      ]
     },
     "metadata": {
      "needs_background": "light"
     },
     "output_type": "display_data"
    },
    {
     "data": {
      "image/png": "[encoded data removed]",
      "text/plain": [
       "<Figure size 432x288 with 1 Axes>"
      ]
     },
     "metadata": {
      "needs_background": "light"
     },
     "output_type": "display_data"
    }
   ],
   "source": [
    "ess12.hist('ppltrst')\n",
    "ess14.hist('ppltrst')"
   ]
  },
  {
   "cell_type": "markdown",
   "metadata": {},
   "source": [
    "Data is relatively normally distributed, seems to be binomial given values are discrete. \n",
    "Can tell visually there's no difference by year, but let's check by country."
   ]
  },
  {
   "cell_type": "code",
   "execution_count": 17,
   "metadata": {},
   "outputs": [
    {
     "name": "stderr",
     "output_type": "stream",
     "text": [
      "D:\\Anaconda\\lib\\site-packages\\scipy\\stats\\stats.py:1713: FutureWarning: Using a non-tuple sequence for multidimensional indexing is deprecated; use `arr[tuple(seq)]` instead of `arr[seq]`. In the future this will be interpreted as an array index, `arr[np.array(seq)]`, which will result either in an error or a different result.\n",
      "  return np.add.reduce(sorted[indexer] * weights, axis=axis) / sumval\n"
     ]
    },
    {
     "data": {
      "text/plain": [
       "<matplotlib.axes._subplots.AxesSubplot at 0x1be3b49b518>"
      ]
     },
     "execution_count": 17,
     "metadata": {},
     "output_type": "execute_result"
    },
    {
     "data": {
      "image/png": "[encoded data removed]",
      "text/plain": [
       "<Figure size 432x288 with 1 Axes>"
      ]
     },
     "metadata": {
      "needs_background": "light"
     },
     "output_type": "display_data"
    }
   ],
   "source": [
    "sns.barplot(x='cntry', y='ppltrst', hue='year', data=ess)"
   ]
  },
  {
   "cell_type": "code",
   "execution_count": null,
   "metadata": {},
   "outputs": [],
   "source": [
    "No differences here, can tell visually. \n",
    "Would test this via t-test paired t-test if people surveyed were the same people or unpaired t-test if not."
   ]
  },
  {
   "cell_type": "code",
   "execution_count": 86,
   "metadata": {},
   "outputs": [
    {
     "name": "stdout",
     "output_type": "stream",
     "text": [
      "CH Ttest_indResult(statistic=-0.6782716584661505, pvalue=0.49770110247151234)\n",
      "\n",
      "CZ Ttest_indResult(statistic=nan, pvalue=nan)\n",
      "\n",
      "DE Ttest_indResult(statistic=-0.18084358577434545, pvalue=0.8578926631223287)\n",
      "\n",
      "ES Ttest_indResult(statistic=nan, pvalue=nan)\n",
      "\n",
      "NO Ttest_indResult(statistic=nan, pvalue=nan)\n",
      "\n",
      "SE Ttest_indResult(statistic=nan, pvalue=nan)\n",
      "\n"
     ]
    }
   ],
   "source": [
    "countrys = list(ess.cntry.unique())\n",
    "\n",
    "for country in countrys:\n",
    "    #getdatafromeachcountry\n",
    "    temp = ess[ess.cntry == country]\n",
    "        # Printing  test results\n",
    "    print(country, stats.ttest_ind(temp[temp['year']==6].ppltrst, \n",
    "                                         temp[temp['year']==7].ppltrst, axis=0, equal_var=True))\n",
    "    print()"
   ]
  },
  {
   "cell_type": "markdown",
   "metadata": {},
   "source": [
    "No differences as predicted."
   ]
  },
  {
   "cell_type": "markdown",
   "metadata": {},
   "source": [
    "# 2. Did people become happier from 2012 to 2014? Compute results for each country in the sample."
   ]
  },
  {
   "cell_type": "code",
   "execution_count": 37,
   "metadata": {},
   "outputs": [
    {
     "data": {
      "text/plain": [
       "array([[<matplotlib.axes._subplots.AxesSubplot object at 0x000001BE3B944550>]],\n",
       "      dtype=object)"
      ]
     },
     "execution_count": 37,
     "metadata": {},
     "output_type": "execute_result"
    },
    {
     "data": {
      "image/png": "[encoded data removed]",
      "text/plain": [
       "<Figure size 432x288 with 1 Axes>"
      ]
     },
     "metadata": {
      "needs_background": "light"
     },
     "output_type": "display_data"
    },
    {
     "data": {
      "image/png": "[encoded data removed]",
      "text/plain": [
       "<Figure size 432x288 with 1 Axes>"
      ]
     },
     "metadata": {
      "needs_background": "light"
     },
     "output_type": "display_data"
    }
   ],
   "source": [
    "ess12.hist('happy')\n",
    "ess14.hist('happy')"
   ]
  },
  {
   "cell_type": "code",
   "execution_count": 38,
   "metadata": {},
   "outputs": [
    {
     "data": {
      "text/plain": [
       "<matplotlib.axes._subplots.AxesSubplot at 0x1be3ba46eb8>"
      ]
     },
     "execution_count": 38,
     "metadata": {},
     "output_type": "execute_result"
    },
    {
     "data": {
      "image/png": "[encoded data removed]",
      "text/plain": [
       "<Figure size 432x288 with 1 Axes>"
      ]
     },
     "metadata": {
      "needs_background": "light"
     },
     "output_type": "display_data"
    }
   ],
   "source": [
    "sns.barplot(x='cntry', y='happy', hue='year', data=ess)"
   ]
  },
  {
   "cell_type": "markdown",
   "metadata": {},
   "source": [
    "More or less same as before but there could be some differences here....looks like variance might be too high though."
   ]
  },
  {
   "cell_type": "code",
   "execution_count": 39,
   "metadata": {},
   "outputs": [
    {
     "name": "stdout",
     "output_type": "stream",
     "text": [
      "CH Ttest_indResult(statistic=nan, pvalue=nan)\n",
      "\n",
      "CZ Ttest_indResult(statistic=nan, pvalue=nan)\n",
      "\n",
      "DE Ttest_indResult(statistic=-0.7648529270389165, pvalue=0.451246041120838)\n",
      "\n",
      "ES Ttest_indResult(statistic=nan, pvalue=nan)\n",
      "\n",
      "NO Ttest_indResult(statistic=nan, pvalue=nan)\n",
      "\n",
      "SE Ttest_indResult(statistic=nan, pvalue=nan)\n",
      "\n"
     ]
    }
   ],
   "source": [
    "countrys = list(ess.cntry.unique())\n",
    "\n",
    "for country in countrys:\n",
    "    #getdatafromeachcountry\n",
    "    temp = ess[ess.cntry == country]\n",
    "        # Printing  test results\n",
    "    print(country, scipy.stats.ttest_ind(temp[temp['year']==6].happy, \n",
    "                                         temp[temp['year']==7].happy, axis=0, equal_var=True))\n",
    "    print()"
   ]
  },
  {
   "cell_type": "code",
   "execution_count": null,
   "metadata": {},
   "outputs": [],
   "source": [
    "Again, no differences."
   ]
  },
  {
   "cell_type": "markdown",
   "metadata": {},
   "source": [
    "# 3. Who reported watching more TV in 2012, men or women?\n"
   ]
  },
  {
   "cell_type": "code",
   "execution_count": 42,
   "metadata": {},
   "outputs": [],
   "source": [
    "m_ess12=ess12[ess12['gndr'] == 1]\n",
    "f_ess12=ess12[ess12['gndr'] == 2]"
   ]
  },
  {
   "cell_type": "code",
   "execution_count": 46,
   "metadata": {},
   "outputs": [
    {
     "data": {
      "text/plain": [
       "array([[<matplotlib.axes._subplots.AxesSubplot object at 0x000001BE3BB2C908>]],\n",
       "      dtype=object)"
      ]
     },
     "execution_count": 46,
     "metadata": {},
     "output_type": "execute_result"
    },
    {
     "data": {
      "image/png": "[encoded data removed]",
      "text/plain": [
       "<Figure size 432x288 with 1 Axes>"
      ]
     },
     "metadata": {
      "needs_background": "light"
     },
     "output_type": "display_data"
    },
    {
     "data": {
      "image/png": "[encoded data removed]",
      "text/plain": [
       "<Figure size 432x288 with 1 Axes>"
      ]
     },
     "metadata": {
      "needs_background": "light"
     },
     "output_type": "display_data"
    }
   ],
   "source": [
    "m_ess12.hist('tvtot')\n",
    "f_ess12.hist('tvtot')"
   ]
  },
  {
   "cell_type": "code",
   "execution_count": 52,
   "metadata": {},
   "outputs": [
    {
     "data": {
      "text/plain": [
       "count    2151.000000\n",
       "mean        3.901906\n",
       "std         1.983690\n",
       "min         0.000000\n",
       "25%         2.000000\n",
       "50%         4.000000\n",
       "75%         5.000000\n",
       "max         7.000000\n",
       "Name: tvtot, dtype: float64"
      ]
     },
     "execution_count": 52,
     "metadata": {},
     "output_type": "execute_result"
    }
   ],
   "source": [
    "m_ess12.tvtot.describe()"
   ]
  },
  {
   "cell_type": "code",
   "execution_count": 51,
   "metadata": {},
   "outputs": [
    {
     "data": {
      "text/plain": [
       "count    2140.000000\n",
       "mean        3.944393\n",
       "std         2.049457\n",
       "min         0.000000\n",
       "25%         2.000000\n",
       "50%         4.000000\n",
       "75%         6.000000\n",
       "max         7.000000\n",
       "Name: tvtot, dtype: float64"
      ]
     },
     "execution_count": 51,
     "metadata": {},
     "output_type": "execute_result"
    }
   ],
   "source": [
    "f_ess12.tvtot.describe()"
   ]
  },
  {
   "cell_type": "markdown",
   "metadata": {},
   "source": [
    "Women watched more but this isn't a significant difference. Data is not parametric so we will employ a non-parametric test here.."
   ]
  },
  {
   "cell_type": "code",
   "execution_count": 62,
   "metadata": {},
   "outputs": [
    {
     "data": {
      "text/plain": [
       "KruskalResult(statistic=nan, pvalue=nan)"
      ]
     },
     "execution_count": 62,
     "metadata": {},
     "output_type": "execute_result"
    }
   ],
   "source": [
    "stats.kruskal(\n",
    "    f_ess12.tvtot.sample(2000),\n",
    "    m_ess12.tvtot.sample(2000))"
   ]
  },
  {
   "cell_type": "code",
   "execution_count": 61,
   "metadata": {},
   "outputs": [
    {
     "name": "stdout",
     "output_type": "stream",
     "text": [
      "Wilcoxon Test: WilcoxonResult(statistic=740409.5, pvalue=0.6296289787829666)\n"
     ]
    },
    {
     "name": "stderr",
     "output_type": "stream",
     "text": [
      "D:\\Anaconda\\lib\\site-packages\\scipy\\stats\\morestats.py:2391: RuntimeWarning: invalid value encountered in greater\n",
      "  r_plus = np.sum((d > 0) * r, axis=0)\n",
      "D:\\Anaconda\\lib\\site-packages\\scipy\\stats\\morestats.py:2392: RuntimeWarning: invalid value encountered in less\n",
      "  r_minus = np.sum((d < 0) * r, axis=0)\n"
     ]
    }
   ],
   "source": [
    "print('Wilcoxon Test:', wilcoxon(f_ess12.tvtot.sample(2000), \n",
    "                                 m_ess12.tvtot.sample(2000)))"
   ]
  },
  {
   "cell_type": "code",
   "execution_count": null,
   "metadata": {},
   "outputs": [],
   "source": [
    "No difference."
   ]
  },
  {
   "cell_type": "markdown",
   "metadata": {},
   "source": [
    "# 4. Who was more likely to believe people were fair in 2012, people living with a partner or people living alone?"
   ]
  },
  {
   "cell_type": "code",
   "execution_count": 68,
   "metadata": {},
   "outputs": [
    {
     "data": {
      "text/plain": [
       "6.080736012016523"
      ]
     },
     "execution_count": 68,
     "metadata": {},
     "output_type": "execute_result"
    }
   ],
   "source": [
    "ess12[ess12['partner'] == 1].pplfair.mean()"
   ]
  },
  {
   "cell_type": "code",
   "execution_count": 69,
   "metadata": {},
   "outputs": [
    {
     "data": {
      "text/plain": [
       "5.856965174129353"
      ]
     },
     "execution_count": 69,
     "metadata": {},
     "output_type": "execute_result"
    }
   ],
   "source": [
    "ess12[ess12['partner'] == 2].pplfair.mean()"
   ]
  },
  {
   "cell_type": "markdown",
   "metadata": {},
   "source": [
    "This question is deceptive. People who were living with a partner were more likely to believe people were fair based on the numbers.\n",
    "Whether this effect was statistically significant and reflective of a difference between the groups is uncertain."
   ]
  },
  {
   "cell_type": "code",
   "execution_count": 72,
   "metadata": {},
   "outputs": [
    {
     "data": {
      "text/plain": [
       "<matplotlib.axes._subplots.AxesSubplot at 0x1be3bc06c88>"
      ]
     },
     "execution_count": 72,
     "metadata": {},
     "output_type": "execute_result"
    },
    {
     "data": {
      "image/png": "[encoded data removed]",
      "text/plain": [
       "<Figure size 432x288 with 1 Axes>"
      ]
     },
     "metadata": {
      "needs_background": "light"
     },
     "output_type": "display_data"
    }
   ],
   "source": [
    "ess12[ess12['partner'] == 1].pplfair.hist()"
   ]
  },
  {
   "cell_type": "code",
   "execution_count": 73,
   "metadata": {},
   "outputs": [
    {
     "data": {
      "text/plain": [
       "<matplotlib.axes._subplots.AxesSubplot at 0x1be3bbd5908>"
      ]
     },
     "execution_count": 73,
     "metadata": {},
     "output_type": "execute_result"
    },
    {
     "data": {
      "image/png": "[encoded data removed]",
      "text/plain": [
       "<Figure size 432x288 with 1 Axes>"
      ]
     },
     "metadata": {
      "needs_background": "light"
     },
     "output_type": "display_data"
    }
   ],
   "source": [
    "ess12[ess12['partner'] == 2].pplfair.hist()"
   ]
  },
  {
   "cell_type": "code",
   "execution_count": 80,
   "metadata": {},
   "outputs": [
    {
     "data": {
      "text/plain": [
       "Ttest_indResult(statistic=nan, pvalue=nan)"
      ]
     },
     "execution_count": 80,
     "metadata": {},
     "output_type": "execute_result"
    }
   ],
   "source": [
    "scipy.stats.ttest_ind(ess12[ess12['partner'] == 2].pplfair.sample(500), ess12[ess12['partner'] == 1].pplfair.sample(500), axis=0, equal_var=True)"
   ]
  },
  {
   "cell_type": "markdown",
   "metadata": {},
   "source": [
    "# 5. Pick three or four of the countries in the sample and compare how often people met socially in 2014. Are there differences, and if so, which countries stand out"
   ]
  },
  {
   "cell_type": "code",
   "execution_count": 27,
   "metadata": {},
   "outputs": [
    {
     "name": "stdout",
     "output_type": "stream",
     "text": [
      "CH count    772.000000\n",
      "mean       5.160622\n",
      "std        1.308499\n",
      "min        1.000000\n",
      "25%        4.000000\n",
      "50%        6.000000\n",
      "75%        6.000000\n",
      "max        7.000000\n",
      "Name: sclmeet, dtype: float64\n",
      "\n",
      "CZ count    655.000000\n",
      "mean       4.445802\n",
      "std        1.481706\n",
      "min        1.000000\n",
      "25%        4.000000\n",
      "50%        4.000000\n",
      "75%        6.000000\n",
      "max        7.000000\n",
      "Name: sclmeet, dtype: float64\n",
      "\n",
      "DE count    14.000000\n",
      "mean      4.428571\n",
      "std       0.755929\n",
      "min       3.000000\n",
      "25%       4.000000\n",
      "50%       4.000000\n",
      "75%       5.000000\n",
      "max       6.000000\n",
      "Name: sclmeet, dtype: float64\n",
      "\n",
      "ES count    1211.000000\n",
      "mean        5.260116\n",
      "std         1.467855\n",
      "min         1.000000\n",
      "25%         4.000000\n",
      "50%         6.000000\n",
      "75%         6.000000\n",
      "max         7.000000\n",
      "Name: sclmeet, dtype: float64\n",
      "\n",
      "NO count    731.000000\n",
      "mean       5.302326\n",
      "std        1.347848\n",
      "min        1.000000\n",
      "25%        4.000000\n",
      "50%        6.000000\n",
      "75%        6.000000\n",
      "max        7.000000\n",
      "Name: sclmeet, dtype: float64\n",
      "\n",
      "SE count    908.000000\n",
      "mean       5.426211\n",
      "std        1.373098\n",
      "min        2.000000\n",
      "25%        4.000000\n",
      "50%        6.000000\n",
      "75%        7.000000\n",
      "max        7.000000\n",
      "Name: sclmeet, dtype: float64\n",
      "\n"
     ]
    }
   ],
   "source": [
    "for country in countrys:\n",
    "    #getdatafromeachcountry\n",
    "    temp = ess14[ess14.cntry == country]\n",
    "        # Printing  test results\n",
    "    print(country, temp['sclmeet'].describe())\n",
    "    print()"
   ]
  },
  {
   "cell_type": "markdown",
   "metadata": {},
   "source": [
    "The Scandinavian country's are more social but probably not significantly so given the size of the intragroup variance."
   ]
  },
  {
   "cell_type": "code",
   "execution_count": null,
   "metadata": {},
   "outputs": [],
   "source": []
  },
  {
   "cell_type": "code",
   "execution_count": 16,
   "metadata": {},
   "outputs": [
    {
     "data": {
      "text/plain": [
       "<matplotlib.axes._subplots.AxesSubplot at 0x137b77faf60>"
      ]
     },
     "execution_count": 16,
     "metadata": {},
     "output_type": "execute_result"
    },
    {
     "data": {
      "image/png": "[encoded data removed]",
      "text/plain": [
       "<Figure size 432x288 with 1 Axes>"
      ]
     },
     "metadata": {
      "needs_background": "light"
     },
     "output_type": "display_data"
    }
   ],
   "source": [
    "ess14['sclmeet'].hist()"
   ]
  },
  {
   "cell_type": "markdown",
   "metadata": {},
   "source": [
    "Clearly non-normal and non-parametric need to rank these if we're to use a test. That being said there's no real way to truly normalize this test. Going to go ahead and use a t-test, not ideal but nothing is ideal with the way they've coded this data:"
   ]
  },
  {
   "cell_type": "code",
   "execution_count": 4,
   "metadata": {},
   "outputs": [
    {
     "data": {
      "text/plain": [
       "array([1403.,  867.,  502., ..., 1403., 1403., 1403.])"
      ]
     },
     "execution_count": 4,
     "metadata": {},
     "output_type": "execute_result"
    }
   ],
   "source": [
    "# Kruskal-Wallace Test\n",
    "\n",
    "# Join all ratings together into a list, then ranking them.\n",
    "ranks = stats.rankdata(\n",
    "    ess14[ess12['cntry'] == 'SE'].sclmeet.tolist() +\n",
    "    ess14[ess12['cntry'] == 'NO'].sclmeet.tolist() +\n",
    "    ess14[ess12['cntry'] == 'CZ'].sclmeet.tolist() +\n",
    "    ess14[ess14['cntry'] == 'DE'].sclmeet.tolist())\n",
    "\n",
    "# Add the new ranked variables to the data frame.\n",
    "#roller_coasters['Ranks_Europe'] = ranks[0:20]\n",
    "#roller_coasters['Ranks_LatinAmerica'] = ranks[20:40]\n",
    "#roller_coasters['Ranks_NorthAmerica'] = ranks[40:60]\n",
    "\n",
    "# Average rank per group.\n",
    "#groups = ['Ranks_Europe', 'Ranks_LatinAmerica', 'Ranks_NorthAmerica']\n",
    "#print(roller_coasters[groups].apply(np.mean))\n",
    "\n",
    "# Overall average rank.\n",
    "ranks\n",
    "\n",
    "# Print the test statistic followed by the probability of getting this result\n",
    "# if the groups were not different.\n",
    "#stats.kruskal(\n",
    " #   roller_coasters['Europe'],\n",
    "#    roller_coasters['LatinAmerica'],\n",
    " #   roller_coasters['NorthAmerica'])#"
   ]
  },
  {
   "cell_type": "code",
   "execution_count": 42,
   "metadata": {},
   "outputs": [
    {
     "name": "stdout",
     "output_type": "stream",
     "text": [
      "KruskalResult(statistic=47.16623160456868, pvalue=5.727735320916461e-11)\n"
     ]
    }
   ],
   "source": [
    "\n",
    "# Printing Kruskal test statistic\n",
    "print(kruskal(ess14[ess14['cntry'] == 'SE'].sclmeet.sample(200),\n",
    "             ess14[ess14['cntry'] == 'NO'].sclmeet.sample(200),\n",
    "             ess14[ess14['cntry'] == 'CZ'].sclmeet.sample(200)))"
   ]
  },
  {
   "cell_type": "markdown",
   "metadata": {},
   "source": [
    "Seems to be a difference here....let's investigate"
   ]
  },
  {
   "cell_type": "code",
   "execution_count": 54,
   "metadata": {},
   "outputs": [
    {
     "data": {
      "text/plain": [
       "Ttest_indResult(statistic=4.5944709731815765, pvalue=7.712522928037804e-06)"
      ]
     },
     "execution_count": 54,
     "metadata": {},
     "output_type": "execute_result"
    }
   ],
   "source": [
    "stats.ttest_ind(ess14[ess14['cntry'] == 'SE'].sclmeet.sample(100), ess14[ess14['cntry'] == 'CZ'].sclmeet.sample(100))"
   ]
  },
  {
   "cell_type": "markdown",
   "metadata": {},
   "source": [
    "Definetely a significant result here. Let's  try Sweden versus Norway."
   ]
  },
  {
   "cell_type": "code",
   "execution_count": 55,
   "metadata": {},
   "outputs": [
    {
     "data": {
      "text/plain": [
       "Ttest_indResult(statistic=1.2464062427023839, pvalue=0.21408788302238135)"
      ]
     },
     "execution_count": 55,
     "metadata": {},
     "output_type": "execute_result"
    }
   ],
   "source": [
    "stats.ttest_ind(ess14[ess14['cntry'] == 'SE'].sclmeet.sample(100), ess14[ess14['cntry'] == 'NO'].sclmeet.sample(100))"
   ]
  },
  {
   "cell_type": "markdown",
   "metadata": {},
   "source": [
    "Not significant."
   ]
  },
  {
   "cell_type": "markdown",
   "metadata": {},
   "source": [
    "# 6. Pick three or four of the countries in the sample and compare how often people took part in social activities, relative to others their age, in 2014. Are there differences, and if so, which countries stand out?"
   ]
  },
  {
   "cell_type": "code",
   "execution_count": 56,
   "metadata": {},
   "outputs": [
    {
     "data": {
      "text/plain": [
       "count    8355.000000\n",
       "mean       47.470736\n",
       "std        18.397369\n",
       "min        15.000000\n",
       "25%        33.000000\n",
       "50%        47.000000\n",
       "75%        62.000000\n",
       "max       114.000000\n",
       "Name: agea, dtype: float64"
      ]
     },
     "execution_count": 56,
     "metadata": {},
     "output_type": "execute_result"
    }
   ],
   "source": [
    "ess['agea'].describe()"
   ]
  },
  {
   "cell_type": "code",
   "execution_count": 69,
   "metadata": {},
   "outputs": [
    {
     "name": "stdout",
     "output_type": "stream",
     "text": [
      "22.0\n",
      "29.0\n",
      "36.0\n",
      "42.0\n",
      "47.0\n",
      "53.0\n",
      "58.0\n",
      "65.0\n",
      "72.0\n"
     ]
    }
   ],
   "source": [
    "decile = [.1,.2,.3,.4,.5,.6,.7,.8,.9]\n",
    "for dec in decile:\n",
    "    print(ess['agea'].quantile(dec))"
   ]
  },
  {
   "cell_type": "code",
   "execution_count": 83,
   "metadata": {},
   "outputs": [],
   "source": [
    "age_bins = ['0-22','22-29','29-36','36-42','42-47','47-53','53-58','58-65','65-72','72-115']\n",
    "agecutoffs = [0, 22,29,36,42,47,53,58,65,72,115]"
   ]
  },
  {
   "cell_type": "code",
   "execution_count": 84,
   "metadata": {},
   "outputs": [],
   "source": [
    "ess['age_groups'] = pd.cut(ess['agea'], bins=agecutoffs, labels=age_bins, right=False)"
   ]
  },
  {
   "cell_type": "code",
   "execution_count": 88,
   "metadata": {},
   "outputs": [
    {
     "name": "stdout",
     "output_type": "stream",
     "text": [
      "CH age 0-22 count    158.000000\n",
      "mean       2.835443\n",
      "std        0.901949\n",
      "min        1.000000\n",
      "25%        2.000000\n",
      "50%        3.000000\n",
      "75%        3.000000\n",
      "max        5.000000\n",
      "Name: sclact, dtype: float64\n",
      "\n",
      "CH age 22-29 count    144.000000\n",
      "mean       2.812500\n",
      "std        0.827573\n",
      "min        1.000000\n",
      "25%        2.000000\n",
      "50%        3.000000\n",
      "75%        3.000000\n",
      "max        5.000000\n",
      "Name: sclact, dtype: float64\n",
      "\n",
      "CH age 29-36 count    167.000000\n",
      "mean       2.706587\n",
      "std        0.852434\n",
      "min        1.000000\n",
      "25%        2.000000\n",
      "50%        3.000000\n",
      "75%        3.000000\n",
      "max        5.000000\n",
      "Name: sclact, dtype: float64\n",
      "\n",
      "CH age 36-42 count    157.000000\n",
      "mean       2.700637\n",
      "std        0.804355\n",
      "min        1.000000\n",
      "25%        2.000000\n",
      "50%        3.000000\n",
      "75%        3.000000\n",
      "max        5.000000\n",
      "Name: sclact, dtype: float64\n",
      "\n",
      "CH age 42-47 count    123.000000\n",
      "mean       2.731707\n",
      "std        0.830496\n",
      "min        1.000000\n",
      "25%        2.000000\n",
      "50%        3.000000\n",
      "75%        3.000000\n",
      "max        5.000000\n",
      "Name: sclact, dtype: float64\n",
      "\n",
      "CH age 47-53 count    169.000000\n",
      "mean       2.822485\n",
      "std        0.934378\n",
      "min        1.000000\n",
      "25%        2.000000\n",
      "50%        3.000000\n",
      "75%        3.000000\n",
      "max        5.000000\n",
      "Name: sclact, dtype: float64\n",
      "\n",
      "CH age 53-58 count    126.000000\n",
      "mean       2.753968\n",
      "std        0.864282\n",
      "min        1.000000\n",
      "25%        2.000000\n",
      "50%        3.000000\n",
      "75%        3.000000\n",
      "max        5.000000\n",
      "Name: sclact, dtype: float64\n",
      "\n",
      "CH age 58-65 count    156.000000\n",
      "mean       2.673077\n",
      "std        0.930927\n",
      "min        1.000000\n",
      "25%        2.000000\n",
      "50%        3.000000\n",
      "75%        3.000000\n",
      "max        5.000000\n",
      "Name: sclact, dtype: float64\n",
      "\n",
      "CH age 65-72 count    126.000000\n",
      "mean       2.753968\n",
      "std        0.935406\n",
      "min        1.000000\n",
      "25%        2.000000\n",
      "50%        3.000000\n",
      "75%        3.000000\n",
      "max        5.000000\n",
      "Name: sclact, dtype: float64\n",
      "\n",
      "CH age 72-115 count    159.000000\n",
      "mean       2.672956\n",
      "std        1.009429\n",
      "min        1.000000\n",
      "25%        2.000000\n",
      "50%        3.000000\n",
      "75%        3.000000\n",
      "max        5.000000\n",
      "Name: sclact, dtype: float64\n",
      "\n",
      "CZ age 0-22 count    116.000000\n",
      "mean       3.051724\n",
      "std        0.789549\n",
      "min        1.000000\n",
      "25%        3.000000\n",
      "50%        3.000000\n",
      "75%        3.000000\n",
      "max        5.000000\n",
      "Name: sclact, dtype: float64\n",
      "\n",
      "CZ age 22-29 count    110.000000\n",
      "mean       2.954545\n",
      "std        0.770873\n",
      "min        1.000000\n",
      "25%        3.000000\n",
      "50%        3.000000\n",
      "75%        3.000000\n",
      "max        5.000000\n",
      "Name: sclact, dtype: float64\n",
      "\n",
      "CZ age 29-36 count    139.000000\n",
      "mean       2.618705\n",
      "std        0.854618\n",
      "min        1.000000\n",
      "25%        2.000000\n",
      "50%        3.000000\n",
      "75%        3.000000\n",
      "max        5.000000\n",
      "Name: sclact, dtype: float64\n",
      "\n",
      "CZ age 36-42 count    151.000000\n",
      "mean       2.615894\n",
      "std        0.790451\n",
      "min        1.000000\n",
      "25%        2.000000\n",
      "50%        3.000000\n",
      "75%        3.000000\n",
      "max        4.000000\n",
      "Name: sclact, dtype: float64\n",
      "\n",
      "CZ age 42-47 count    138.000000\n",
      "mean       2.615942\n",
      "std        0.822338\n",
      "min        1.000000\n",
      "25%        2.000000\n",
      "50%        3.000000\n",
      "75%        3.000000\n",
      "max        5.000000\n",
      "Name: sclact, dtype: float64\n",
      "\n",
      "CZ age 47-53 count    122.000000\n",
      "mean       2.491803\n",
      "std        0.938135\n",
      "min        1.000000\n",
      "25%        2.000000\n",
      "50%        3.000000\n",
      "75%        3.000000\n",
      "max        5.000000\n",
      "Name: sclact, dtype: float64\n",
      "\n",
      "CZ age 53-58 count    136.000000\n",
      "mean       2.639706\n",
      "std        0.857842\n",
      "min        1.000000\n",
      "25%        2.000000\n",
      "50%        3.000000\n",
      "75%        3.000000\n",
      "max        5.000000\n",
      "Name: sclact, dtype: float64\n",
      "\n",
      "CZ age 58-65 count    157.000000\n",
      "mean       2.624204\n",
      "std        0.963527\n",
      "min        1.000000\n",
      "25%        2.000000\n",
      "50%        3.000000\n",
      "75%        3.000000\n",
      "max        5.000000\n",
      "Name: sclact, dtype: float64\n",
      "\n",
      "CZ age 65-72 count    114.000000\n",
      "mean       2.675439\n",
      "std        0.991072\n",
      "min        1.000000\n",
      "25%        2.000000\n",
      "50%        3.000000\n",
      "75%        3.000000\n",
      "max        5.000000\n",
      "Name: sclact, dtype: float64\n",
      "\n",
      "CZ age 72-115 count    81.000000\n",
      "mean      2.358025\n",
      "std       1.003851\n",
      "min       1.000000\n",
      "25%       2.000000\n",
      "50%       2.000000\n",
      "75%       3.000000\n",
      "max       5.000000\n",
      "Name: sclact, dtype: float64\n",
      "\n",
      "DE age 0-22 count    0.0\n",
      "mean     NaN\n",
      "std      NaN\n",
      "min      NaN\n",
      "25%      NaN\n",
      "50%      NaN\n",
      "75%      NaN\n",
      "max      NaN\n",
      "Name: sclact, dtype: float64\n",
      "\n",
      "DE age 22-29 count    2.000000\n",
      "mean     2.500000\n",
      "std      0.707107\n",
      "min      2.000000\n",
      "25%      2.250000\n",
      "50%      2.500000\n",
      "75%      2.750000\n",
      "max      3.000000\n",
      "Name: sclact, dtype: float64\n",
      "\n",
      "DE age 29-36 count    2.0\n",
      "mean     3.0\n",
      "std      0.0\n",
      "min      3.0\n",
      "25%      3.0\n",
      "50%      3.0\n",
      "75%      3.0\n",
      "max      3.0\n",
      "Name: sclact, dtype: float64\n",
      "\n",
      "DE age 36-42 count    2.0\n",
      "mean     3.0\n",
      "std      0.0\n",
      "min      3.0\n",
      "25%      3.0\n",
      "50%      3.0\n",
      "75%      3.0\n",
      "max      3.0\n",
      "Name: sclact, dtype: float64\n",
      "\n",
      "DE age 42-47 count    0.0\n",
      "mean     NaN\n",
      "std      NaN\n",
      "min      NaN\n",
      "25%      NaN\n",
      "50%      NaN\n",
      "75%      NaN\n",
      "max      NaN\n",
      "Name: sclact, dtype: float64\n",
      "\n",
      "DE age 47-53 count    5.00000\n",
      "mean     2.80000\n",
      "std      0.83666\n",
      "min      2.00000\n",
      "25%      2.00000\n",
      "50%      3.00000\n",
      "75%      3.00000\n",
      "max      4.00000\n",
      "Name: sclact, dtype: float64\n",
      "\n",
      "DE age 53-58 count    5.000000\n",
      "mean     2.600000\n",
      "std      1.140175\n",
      "min      1.000000\n",
      "25%      2.000000\n",
      "50%      3.000000\n",
      "75%      3.000000\n",
      "max      4.000000\n",
      "Name: sclact, dtype: float64\n",
      "\n",
      "DE age 58-65 count    3.000000\n",
      "mean     3.666667\n",
      "std      1.527525\n",
      "min      2.000000\n",
      "25%      3.000000\n",
      "50%      4.000000\n",
      "75%      4.500000\n",
      "max      5.000000\n",
      "Name: sclact, dtype: float64\n",
      "\n",
      "DE age 65-72 count    5.000000\n",
      "mean     2.600000\n",
      "std      0.547723\n",
      "min      2.000000\n",
      "25%      2.000000\n",
      "50%      3.000000\n",
      "75%      3.000000\n",
      "max      3.000000\n",
      "Name: sclact, dtype: float64\n",
      "\n",
      "DE age 72-115 count    4.0\n",
      "mean     2.5\n",
      "std      1.0\n",
      "min      1.0\n",
      "25%      2.5\n",
      "50%      3.0\n",
      "75%      3.0\n",
      "max      3.0\n",
      "Name: sclact, dtype: float64\n",
      "\n",
      "ES age 0-22 count    185.000000\n",
      "mean       2.740541\n",
      "std        0.819418\n",
      "min        1.000000\n",
      "25%        2.000000\n",
      "50%        3.000000\n",
      "75%        3.000000\n",
      "max        5.000000\n",
      "Name: sclact, dtype: float64\n",
      "\n",
      "ES age 22-29 count    194.000000\n",
      "mean       2.701031\n",
      "std        0.993919\n",
      "min        1.000000\n",
      "25%        2.000000\n",
      "50%        3.000000\n",
      "75%        3.000000\n",
      "max        5.000000\n",
      "Name: sclact, dtype: float64\n",
      "\n",
      "ES age 29-36 count    285.000000\n",
      "mean       2.585965\n",
      "std        0.882426\n",
      "min        1.000000\n",
      "25%        2.000000\n",
      "50%        3.000000\n",
      "75%        3.000000\n",
      "max        5.000000\n",
      "Name: sclact, dtype: float64\n",
      "\n",
      "ES age 36-42 count    269.000000\n",
      "mean       2.628253\n",
      "std        0.919980\n",
      "min        1.000000\n",
      "25%        2.000000\n",
      "50%        3.000000\n",
      "75%        3.000000\n",
      "max        5.000000\n",
      "Name: sclact, dtype: float64\n",
      "\n",
      "ES age 42-47 count    235.000000\n",
      "mean       2.600000\n",
      "std        0.863307\n",
      "min        1.000000\n",
      "25%        2.000000\n",
      "50%        3.000000\n",
      "75%        3.000000\n",
      "max        5.000000\n",
      "Name: sclact, dtype: float64\n",
      "\n",
      "ES age 47-53 count    264.000000\n",
      "mean       2.594697\n",
      "std        0.970345\n",
      "min        1.000000\n",
      "25%        2.000000\n",
      "50%        3.000000\n",
      "75%        3.000000\n",
      "max        5.000000\n",
      "Name: sclact, dtype: float64\n",
      "\n",
      "ES age 53-58 count    203.000000\n",
      "mean       2.600985\n",
      "std        0.991748\n",
      "min        1.000000\n",
      "25%        2.000000\n",
      "50%        3.000000\n",
      "75%        3.000000\n",
      "max        5.000000\n",
      "Name: sclact, dtype: float64\n",
      "\n",
      "ES age 58-65 count    246.000000\n",
      "mean       2.621951\n",
      "std        0.985282\n",
      "min        1.000000\n",
      "25%        2.000000\n",
      "50%        3.000000\n",
      "75%        3.000000\n",
      "max        5.000000\n",
      "Name: sclact, dtype: float64\n",
      "\n",
      "ES age 65-72 count    166.000000\n",
      "mean       2.578313\n",
      "std        1.045863\n",
      "min        1.000000\n",
      "25%        2.000000\n",
      "50%        3.000000\n",
      "75%        3.000000\n",
      "max        5.000000\n",
      "Name: sclact, dtype: float64\n",
      "\n",
      "ES age 72-115 count    277.000000\n",
      "mean       2.382671\n",
      "std        1.092525\n",
      "min        1.000000\n",
      "25%        1.000000\n",
      "50%        2.000000\n",
      "75%        3.000000\n",
      "max        5.000000\n",
      "Name: sclact, dtype: float64\n",
      "\n",
      "NO age 0-22 count    148.000000\n",
      "mean       3.020270\n",
      "std        0.803645\n",
      "min        1.000000\n",
      "25%        3.000000\n",
      "50%        3.000000\n",
      "75%        3.000000\n",
      "max        5.000000\n",
      "Name: sclact, dtype: float64\n",
      "\n",
      "NO age 22-29 count    146.000000\n",
      "mean       2.952055\n",
      "std        0.807996\n",
      "min        1.000000\n",
      "25%        3.000000\n",
      "50%        3.000000\n",
      "75%        3.000000\n",
      "max        5.000000\n",
      "Name: sclact, dtype: float64\n",
      "\n",
      "NO age 29-36 count    131.00000\n",
      "mean       2.89313\n",
      "std        0.71524\n",
      "min        1.00000\n",
      "25%        2.00000\n",
      "50%        3.00000\n",
      "75%        3.00000\n",
      "max        4.00000\n",
      "Name: sclact, dtype: float64\n",
      "\n"
     ]
    },
    {
     "name": "stdout",
     "output_type": "stream",
     "text": [
      "NO age 36-42 count    143.000000\n",
      "mean       2.797203\n",
      "std        0.783271\n",
      "min        1.000000\n",
      "25%        2.000000\n",
      "50%        3.000000\n",
      "75%        3.000000\n",
      "max        5.000000\n",
      "Name: sclact, dtype: float64\n",
      "\n",
      "NO age 42-47 count    156.000000\n",
      "mean       2.858974\n",
      "std        0.748751\n",
      "min        1.000000\n",
      "25%        2.000000\n",
      "50%        3.000000\n",
      "75%        3.000000\n",
      "max        5.000000\n",
      "Name: sclact, dtype: float64\n",
      "\n",
      "NO age 47-53 count    170.000000\n",
      "mean       2.923529\n",
      "std        0.799430\n",
      "min        1.000000\n",
      "25%        3.000000\n",
      "50%        3.000000\n",
      "75%        3.000000\n",
      "max        5.000000\n",
      "Name: sclact, dtype: float64\n",
      "\n",
      "NO age 53-58 count    119.000000\n",
      "mean       2.865546\n",
      "std        0.723976\n",
      "min        1.000000\n",
      "25%        2.500000\n",
      "50%        3.000000\n",
      "75%        3.000000\n",
      "max        5.000000\n",
      "Name: sclact, dtype: float64\n",
      "\n",
      "NO age 58-65 count    160.000000\n",
      "mean       2.881250\n",
      "std        0.771928\n",
      "min        1.000000\n",
      "25%        2.000000\n",
      "50%        3.000000\n",
      "75%        3.000000\n",
      "max        5.000000\n",
      "Name: sclact, dtype: float64\n",
      "\n",
      "NO age 65-72 count    127.000000\n",
      "mean       2.968504\n",
      "std        0.844563\n",
      "min        1.000000\n",
      "25%        2.000000\n",
      "50%        3.000000\n",
      "75%        3.500000\n",
      "max        5.000000\n",
      "Name: sclact, dtype: float64\n",
      "\n",
      "NO age 72-115 count    131.000000\n",
      "mean       2.946565\n",
      "std        0.897115\n",
      "min        1.000000\n",
      "25%        2.000000\n",
      "50%        3.000000\n",
      "75%        3.000000\n",
      "max        5.000000\n",
      "Name: sclact, dtype: float64\n",
      "\n",
      "SE age 0-22 count    172.000000\n",
      "mean       3.046512\n",
      "std        0.800686\n",
      "min        1.000000\n",
      "25%        3.000000\n",
      "50%        3.000000\n",
      "75%        4.000000\n",
      "max        5.000000\n",
      "Name: sclact, dtype: float64\n",
      "\n",
      "SE age 22-29 count    191.000000\n",
      "mean       2.884817\n",
      "std        0.831821\n",
      "min        1.000000\n",
      "25%        2.000000\n",
      "50%        3.000000\n",
      "75%        3.000000\n",
      "max        5.000000\n",
      "Name: sclact, dtype: float64\n",
      "\n",
      "SE age 29-36 count    145.000000\n",
      "mean       2.965517\n",
      "std        0.877289\n",
      "min        1.000000\n",
      "25%        2.000000\n",
      "50%        3.000000\n",
      "75%        4.000000\n",
      "max        5.000000\n",
      "Name: sclact, dtype: float64\n",
      "\n",
      "SE age 36-42 count    141.000000\n",
      "mean       2.829787\n",
      "std        0.827712\n",
      "min        1.000000\n",
      "25%        2.000000\n",
      "50%        3.000000\n",
      "75%        3.000000\n",
      "max        5.000000\n",
      "Name: sclact, dtype: float64\n",
      "\n",
      "SE age 42-47 count    112.000000\n",
      "mean       2.892857\n",
      "std        0.883861\n",
      "min        1.000000\n",
      "25%        2.000000\n",
      "50%        3.000000\n",
      "75%        3.000000\n",
      "max        5.000000\n",
      "Name: sclact, dtype: float64\n",
      "\n",
      "SE age 47-53 count    165.000000\n",
      "mean       2.890909\n",
      "std        0.930632\n",
      "min        1.000000\n",
      "25%        2.000000\n",
      "50%        3.000000\n",
      "75%        3.000000\n",
      "max        5.000000\n",
      "Name: sclact, dtype: float64\n",
      "\n",
      "SE age 53-58 count    149.000000\n",
      "mean       2.751678\n",
      "std        0.761453\n",
      "min        1.000000\n",
      "25%        2.000000\n",
      "50%        3.000000\n",
      "75%        3.000000\n",
      "max        5.000000\n",
      "Name: sclact, dtype: float64\n",
      "\n",
      "SE age 58-65 count    212.000000\n",
      "mean       2.863208\n",
      "std        0.889733\n",
      "min        1.000000\n",
      "25%        2.000000\n",
      "50%        3.000000\n",
      "75%        3.000000\n",
      "max        5.000000\n",
      "Name: sclact, dtype: float64\n",
      "\n",
      "SE age 65-72 count    219.000000\n",
      "mean       2.940639\n",
      "std        0.909250\n",
      "min        1.000000\n",
      "25%        2.000000\n",
      "50%        3.000000\n",
      "75%        3.000000\n",
      "max        5.000000\n",
      "Name: sclact, dtype: float64\n",
      "\n",
      "SE age 72-115 count    232.000000\n",
      "mean       2.849138\n",
      "std        0.992875\n",
      "min        1.000000\n",
      "25%        2.000000\n",
      "50%        3.000000\n",
      "75%        3.000000\n",
      "max        5.000000\n",
      "Name: sclact, dtype: float64\n",
      "\n"
     ]
    }
   ],
   "source": [
    "for country in countrys:\n",
    "    # Isolating data from each country\n",
    "    data_temp = ess[ess.cntry == country]\n",
    "    for bin in age_bins:\n",
    "        try:\n",
    "            print(country, str('age ' + bin), data_temp[data_temp['age_groups'] == bin].sclact.describe())\n",
    "        except ValueError:\n",
    "            None\n",
    "        print()"
   ]
  },
  {
   "cell_type": "markdown",
   "metadata": {},
   "source": [
    "Young people tend to engage in more social activities, probably because they have more time. \n",
    "Apart from that across the board the Scandinavian countries tend to be more social."
   ]
  },
  {
   "cell_type": "code",
   "execution_count": 90,
   "metadata": {},
   "outputs": [
    {
     "data": {
      "image/png": "[encoded data removed]",
      "text/plain": [
       "<Figure size 1296x2160 with 60 Axes>"
      ]
     },
     "metadata": {
      "needs_background": "light"
     },
     "output_type": "display_data"
    }
   ],
   "source": [
    "g = sns.FacetGrid(ess, row='age_groups', col='cntry', dropna=True, sharey=False)\n",
    "g = g.map(plt.hist, 'sclact', alpha=0.8, color='teal', bins=5)"
   ]
  },
  {
   "cell_type": "markdown",
   "metadata": {},
   "source": [
    "These are broadly approximating binomial distributions. Depending on your way of looking at this a number of approaches are possible:\n",
    "\n",
    "\n",
    "## Approach 1:\n",
    "n is significantly high to assume that these are approximating normal distributions and accordingly a T-Test can be utilized.\n",
    "\n",
    "## Approach 2:\n",
    "Data is not normally distributed and accordingly, a 1-way ANOVA or Kruskal-Wallis could be used on the age groups (we've already done countries) and then countries.\n",
    "\n",
    "## Approach 2\n",
    "A 2-Way Anova could be used to explore country*age interactions."
   ]
  },
  {
   "cell_type": "code",
   "execution_count": null,
   "metadata": {},
   "outputs": [],
   "source": []
  }
 ],
 "metadata": {
  "kernelspec": {
   "display_name": "Python 3",
   "language": "python",
   "name": "python3"
  },
  "language_info": {
   "codemirror_mode": {
    "name": "ipython",
    "version": 3
   },
   "file_extension": ".py",
   "mimetype": "text/x-python",
   "name": "python",
   "nbconvert_exporter": "python",
   "pygments_lexer": "ipython3",
   "version": "3.6.8"
  }
 },
 "nbformat": 4,
 "nbformat_minor": 2
}
