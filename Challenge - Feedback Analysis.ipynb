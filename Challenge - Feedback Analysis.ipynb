{
 "cells": [
  {
   "cell_type": "code",
   "execution_count": 1,
   "metadata": {},
   "outputs": [],
   "source": [
    "%matplotlib inline\n",
    "import numpy as np\n",
    "import pandas as pd\n",
    "import scipy\n",
    "import sklearn\n",
    "import matplotlib.pyplot as plt\n",
    "import seaborn as sns"
   ]
  },
  {
   "cell_type": "code",
   "execution_count": 2,
   "metadata": {
    "scrolled": true
   },
   "outputs": [
    {
     "name": "stdout",
     "output_type": "stream",
     "text": [
      "                                           review_text  review_status\n",
      "0    So there is no way for me to plug it in here i...              0\n",
      "1                          Good case, Excellent value.              1\n",
      "2                               Great for the jawbone.              1\n",
      "3    Tied to charger for conversations lasting more...              0\n",
      "4                                    The mic is great.              1\n",
      "5    I have to jiggle the plug to get it to line up...              0\n",
      "6    If you have several dozen or several hundred c...              0\n",
      "7          If you are Razr owner...you must have this!              1\n",
      "8                  Needless to say, I wasted my money.              0\n",
      "9                     What a waste of money and time!.              0\n",
      "10                     And the sound quality is great.              1\n",
      "11   He was very impressed when going from the orig...              1\n",
      "12   If the two were seperated by a mere 5+ ft I st...              0\n",
      "13                            Very good quality though              1\n",
      "14   The design is very odd, as the ear \"clip\" is n...              0\n",
      "15   Highly recommend for any one who has a blue to...              1\n",
      "16                 I advise EVERYONE DO NOT BE FOOLED!              0\n",
      "17                                    So Far So Good!.              1\n",
      "18                                       Works great!.              1\n",
      "19   It clicks into place in a way that makes you w...              0\n",
      "20   I went on Motorola's website and followed all ...              0\n",
      "21   I bought this to use with my Kindle Fire and a...              1\n",
      "22            The commercials are the most misleading.              0\n",
      "23   I have yet to run this new battery below two b...              1\n",
      "24   I bought it for my mother and she had a proble...              0\n",
      "25                Great Pocket PC / phone combination.              1\n",
      "26   I've owned this phone for 7 months now and can...              1\n",
      "27   I didn't think that the instructions provided ...              0\n",
      "28   People couldnt hear me talk and I had to pull ...              0\n",
      "29                                Doesn't hold charge.              0\n",
      "..                                                 ...            ...\n",
      "970  I plugged it in only to find out not a darn th...              0\n",
      "971                                 Excellent product.              1\n",
      "972                        Earbud piece breaks easily.              0\n",
      "973                                     Lousy product.              0\n",
      "974  This phone tries very hard to do everything bu...              0\n",
      "975  It is the best charger I have seen on the mark...              1\n",
      "976                                  SWEETEST PHONE!!!              1\n",
      "977             :-)Oh, the charger seems to work fine.              1\n",
      "978  It fits so securely that the ear hook does not...              1\n",
      "979                                 Not enough volume.              0\n",
      "980                Echo Problem....Very unsatisfactory              0\n",
      "981  you could only take 2 videos at a time and the...              0\n",
      "982                            don't waste your money.              0\n",
      "983  I am going to have to be the first to negative...              0\n",
      "984  Adapter does not provide enough charging current.              0\n",
      "985  There was so much hype over this phone that I ...              0\n",
      "986  You also cannot take pictures with it in the c...              0\n",
      "987                            Phone falls out easily.              0\n",
      "988  It didn't work, people can not hear me when I ...              0\n",
      "989  The text messaging feature is really tricky to...              0\n",
      "990  I'm really disappointed all I have now is a ch...              0\n",
      "991                                Painful on the ear.              0\n",
      "992                   Lasted one day and then blew up.              0\n",
      "993                                      disappointed.              0\n",
      "994                              Kind of flops around.              0\n",
      "995  The screen does get smudged easily because it ...              0\n",
      "996  What a piece of junk.. I lose more calls on th...              0\n",
      "997                       Item Does Not Match Picture.              0\n",
      "998  The only thing that disappoint me is the infra...              0\n",
      "999  You can not answer calls with the unit, never ...              0\n",
      "\n",
      "[1000 rows x 2 columns]\n"
     ]
    }
   ],
   "source": [
    "# Grab and process the raw data.\n",
    "amazon_reviews_df= pd.read_csv('amazon_cells_labelled.txt', sep='\\t', header=None)\n",
    "#sms_raw = pd.read_csv(reviews, delimiter= '\\t', header=None)\n",
    "amazon_reviews_df.columns = ['review_text', 'review_status']\n",
    "\n",
    "#0 = bad review, 1 = good review \n",
    "\n",
    "print(amazon_reviews_df)"
   ]
  },
  {
   "cell_type": "code",
   "execution_count": 3,
   "metadata": {},
   "outputs": [],
   "source": [
    "keywords = ['refund', 'return', 'garbage', 'negative', 'painful', 'not match', 'problem',\n",
    "            'do not', 'junk', 'dissapointed', 'dissapoint','waste', 'wasted', 'time', 'fooled',  \n",
    "            'problem', 'died', 'dead', 'dying' 'broke', 'breaks', 'broken', 'don\\'t', 'won\\'t',\n",
    "            'will not', 'zero', 'hate', 'terrible', 'do not buy', 'too quiet', 'can\\'t hear',\n",
    "           'useless', 'crap', 'echo', 'plastic', 'unreliable', 'chinese', 'bad', 'not enough', 'badly', 'lousy',\n",
    "           'wouldn\\'t','couldn\\'t', 'not', 'worst', 'crappy']\n",
    "\n",
    "\n",
    "\n",
    "for key in keywords:\n",
    "    # Note that we add spaces around the key so that we're getting the word,\n",
    "    # not just pattern matching.\n",
    "    amazon_reviews_df[str(key)] = amazon_reviews_df.review_text.str.contains(\n",
    "        ' ' + str(key) + ' ',\n",
    "        case=False\n",
    "    )\n",
    "    \n",
    "    amazon_reviews_df['allcaps'] = amazon_reviews_df.review_text.str.isupper()"
   ]
  },
  {
   "cell_type": "code",
   "execution_count": 4,
   "metadata": {},
   "outputs": [
    {
     "data": {
      "text/plain": [
       "<matplotlib.axes._subplots.AxesSubplot at 0x1a9feda4cf8>"
      ]
     },
     "execution_count": 4,
     "metadata": {},
     "output_type": "execute_result"
    },
    {
     "data": {
      "image/png": "[encoded data removed]",
      "text/plain": [
       "<Figure size 432x288 with 2 Axes>"
      ]
     },
     "metadata": {
      "needs_background": "light"
     },
     "output_type": "display_data"
    }
   ],
   "source": [
    "sns.heatmap(amazon_reviews_df.corr())"
   ]
  },
  {
   "cell_type": "code",
   "execution_count": 5,
   "metadata": {},
   "outputs": [],
   "source": [
    "data = amazon_reviews_df[keywords + ['allcaps']]\n",
    "target = amazon_reviews_df['review_status']"
   ]
  },
  {
   "cell_type": "code",
   "execution_count": 6,
   "metadata": {},
   "outputs": [
    {
     "name": "stdout",
     "output_type": "stream",
     "text": [
      "Number of mislabeled points out of a total 1000 points : 366\n",
      "Predictive accuracy is : 63.4%\n"
     ]
    }
   ],
   "source": [
    "# data is biinary so use BernoulliNB function from sklearn.naive_bayes\n",
    "from sklearn.naive_bayes import BernoulliNB\n",
    "\n",
    "\n",
    "amazon_review_model = BernoulliNB()\n",
    "\n",
    "# Fit our model to the data.\n",
    "amazon_review_model.fit(data, target)\n",
    "\n",
    "# Classify, storing the result in a new variable.\n",
    "y_pred = amazon_review_model.predict(data)\n",
    "\n",
    "# Display our results.\n",
    "print(\"Number of mislabeled points out of a total {} points : {}\".format(\n",
    "    data.shape[0],\n",
    "    (target != y_pred).sum()\n",
    "))\n",
    "\n",
    "print(\"Predictive accuracy is : {}%\".format(\n",
    "    amazon_review_model.score(data, target) * 100\n",
    "))"
   ]
  },
  {
   "cell_type": "markdown",
   "metadata": {},
   "source": [
    "## Test on other model"
   ]
  },
  {
   "cell_type": "code",
   "execution_count": 7,
   "metadata": {},
   "outputs": [
    {
     "name": "stdout",
     "output_type": "stream",
     "text": [
      "                                           review_text  review_status\n",
      "0                             Wow... Loved this place.              1\n",
      "1                                   Crust is not good.              0\n",
      "2            Not tasty and the texture was just nasty.              0\n",
      "3    Stopped by during the late May bank holiday of...              1\n",
      "4    The selection on the menu was great and so wer...              1\n",
      "5       Now I am getting angry and I want my damn pho.              0\n",
      "6                Honeslty it didn't taste THAT fresh.)              0\n",
      "7    The potatoes were like rubber and you could te...              0\n",
      "8                            The fries were great too.              1\n",
      "9                                       A great touch.              1\n",
      "10                            Service was very prompt.              1\n",
      "11                                  Would not go back.              0\n",
      "12   The cashier had no care what so ever on what I...              0\n",
      "13   I tried the Cape Cod ravoli, chicken,with cran...              1\n",
      "14   I was disgusted because I was pretty sure that...              0\n",
      "15   I was shocked because no signs indicate cash o...              0\n",
      "16                                 Highly recommended.              1\n",
      "17              Waitress was a little slow in service.              0\n",
      "18   This place is not worth your time, let alone V...              0\n",
      "19                                did not like at all.              0\n",
      "20                                 The Burrittos Blah!              0\n",
      "21                                  The food, amazing.              1\n",
      "22                               Service is also cute.              1\n",
      "23   I could care less... The interior is just beau...              1\n",
      "24                                  So they performed.              1\n",
      "25   That's right....the red velvet cake.....ohhh t...              1\n",
      "26          - They never brought a salad we asked for.              0\n",
      "27   This hole in the wall has great Mexican street...              1\n",
      "28   Took an hour to get our food only 4 tables in ...              0\n",
      "29                   The worst was the salmon sashimi.              0\n",
      "..                                                 ...            ...\n",
      "970  I immediately said I wanted to talk to the man...              0\n",
      "971                    The ambiance isn't much better.              0\n",
      "972  Unfortunately, it only set us up for disapppoi...              0\n",
      "973                              The food wasn't good.              0\n",
      "974  Your servers suck, wait, correction, our serve...              0\n",
      "975      What happened next was pretty....off putting.              0\n",
      "976  too bad cause I know it's family owned, I real...              0\n",
      "977               Overpriced for what you are getting.              0\n",
      "978               I vomited in the bathroom mid lunch.              0\n",
      "979  I kept looking at the time and it had soon bec...              0\n",
      "980  I have been to very few places to eat that und...              0\n",
      "981  We started with the tuna sashimi which was bro...              0\n",
      "982                            Food was below average.              0\n",
      "983  It sure does beat the nachos at the movies but...              0\n",
      "984       All in all, Ha Long Bay was a bit of a flop.              0\n",
      "985  The problem I have is that they charge $11.99 ...              0\n",
      "986  Shrimp- When I unwrapped it (I live only 1/2 a...              0\n",
      "987     It lacked flavor, seemed undercooked, and dry.              0\n",
      "988  It really is impressive that the place hasn't ...              0\n",
      "989  I would avoid this place if you are staying in...              0\n",
      "990  The refried beans that came with my meal were ...              0\n",
      "991         Spend your money and time some place else.              0\n",
      "992  A lady at the table next to us found a live gr...              0\n",
      "993            the presentation of the food was awful.              0\n",
      "994           I can't tell you how disappointed I was.              0\n",
      "995  I think food should have flavor and texture an...              0\n",
      "996                           Appetite instantly gone.              0\n",
      "997  Overall I was not impressed and would not go b...              0\n",
      "998  The whole experience was underwhelming, and I ...              0\n",
      "999  Then, as if I hadn't wasted enough of my life ...              0\n",
      "\n",
      "[1000 rows x 2 columns]\n"
     ]
    }
   ],
   "source": [
    "# Grab and process the raw data.\n",
    "yelp_reviews_df= pd.read_csv('yelp_labelled.txt', sep='\\t', header=None)\n",
    "#sms_raw = pd.read_csv(reviews, delimiter= '\\t', header=None)\n",
    "yelp_reviews_df.columns = ['review_text', 'review_status']\n",
    "\n",
    "#0 = bad review, 1 = good review \n",
    "\n",
    "print(yelp_reviews_df)"
   ]
  },
  {
   "cell_type": "code",
   "execution_count": 105,
   "metadata": {},
   "outputs": [
    {
     "name": "stdout",
     "output_type": "stream",
     "text": [
      "Number of mislabeled points out of a total 1000 points for Yelp reviews : 390\n",
      "Predictive accuracy for Yelp reviews is : 61.0%\n",
      "     0    1\n",
      "0  161  339\n",
      "1   27  473\n",
      "sensitivity for Amazon reviews = 94.6%\n",
      "specificity for Amazon reviews= 32.2%\n"
     ]
    }
   ],
   "source": [
    "for key in keywords:\n",
    "    # Note that we add spaces around the key so that we're getting the word,\n",
    "    # not just pattern matching.\n",
    "    yelp_reviews_df[str(key)] = yelp_reviews_df.review_text.str.contains(\n",
    "        ' ' + str(key) + ' ',\n",
    "        case=False\n",
    "    )\n",
    "    \n",
    "    yelp_reviews_df['allcaps'] = yelp_reviews_df.review_text.str.isupper()\n",
    "    \n",
    "#setup data for model\n",
    "\n",
    "yelpdata = yelp_reviews_df[keywords + ['allcaps']]\n",
    "yelptarget = yelp_reviews_df['review_status']\n",
    "\n",
    "#run model\n",
    "\n",
    "yelp_review_model = BernoulliNB()\n",
    "\n",
    "# Fit our model to the data.\n",
    "yelp_review_model.fit(yelpdata, yelptarget)\n",
    "\n",
    "# Classify, storing the result in a new variable.\n",
    "yelp_y_pred = yelp_review_model.predict(data)\n",
    "\n",
    "# Display our results.\n",
    "print(\"Number of mislabeled points out of a total {} points for Yelp reviews : {}\".format(\n",
    "    data.shape[0],\n",
    "    (target != yelp_y_pred).sum()\n",
    "))\n",
    "\n",
    "print(\"Predictive accuracy for Yelp reviews is : {}%\".format(\n",
    "    yelp_review_model.score(data, target) * 100\n",
    "))\n",
    "\n",
    "from sklearn.metrics import confusion_matrix\n",
    "amazon_cm_df=pd.DataFrame(confusion_matrix(target, y_pred))\n",
    "\n",
    "goodneg=(amazon_cm_df.iloc[0].loc[0])\n",
    "goodpos=(amazon_cm_df.iloc[1].loc[1])\n",
    "falseneg=(amazon_cm_df.iloc[0].loc[1])\n",
    "falsepos=(amazon_cm_df.iloc[1].loc[0])\n",
    "\n",
    "sensitivity=(goodpos/(goodpos+falsepos))\n",
    "\n",
    "specificity=(goodneg/(goodneg+falseneg))\n",
    "\n",
    "print(amazon_cm_df)\n",
    "\n",
    "print('sensitivity for Amazon reviews = ' + str(sensitivity*100) + '%')\n",
    "print('specificity for Amazon reviews= ' + str(specificity*100) + '%')\n",
    "\n"
   ]
  },
  {
   "cell_type": "markdown",
   "metadata": {},
   "source": [
    "It seems we are good at predicting positive reviews but not at predicting negative reviews. Next we should check that assumption by making sure are groups are evenly balanced.\n"
   ]
  },
  {
   "cell_type": "code",
   "execution_count": 26,
   "metadata": {},
   "outputs": [
    {
     "name": "stdout",
     "output_type": "stream",
     "text": [
      "500\n",
      "500\n"
     ]
    }
   ],
   "source": [
    "amazon_review_pos_df = amazon_reviews_df[amazon_reviews_df['review_status'] == 1]\n",
    "amazon_review_neg_df = amazon_reviews_df[amazon_reviews_df['review_status'] == 0]\n",
    "print(len(amazon_review_pos_df))\n",
    "print(len(amazon_review_neg_df))"
   ]
  },
  {
   "cell_type": "code",
   "execution_count": 45,
   "metadata": {},
   "outputs": [
    {
     "name": "stdout",
     "output_type": "stream",
     "text": [
      "              0\n",
      "count  9.000000\n",
      "mean   0.621988\n",
      "std    0.027224\n",
      "min    0.589286\n",
      "25%    0.590909\n",
      "50%    0.625000\n",
      "75%    0.636364\n",
      "max    0.660714\n",
      "0.9469453376205788\n",
      "1.0627009646302252\n"
     ]
    }
   ],
   "source": [
    "from sklearn.model_selection import cross_val_score\n",
    "amazon_crossval_scores=pd.DataFrame(cross_val_score(amazon_review_model, data, target, cv=9))\n",
    "\n",
    "print(amazon_crossval_scores.describe())\n",
    "\n",
    "print(.589/.622)\n",
    "print(.661/.622)"
   ]
  },
  {
   "cell_type": "markdown",
   "metadata": {},
   "source": [
    "# Writeup\n",
    "\n",
    "I tried to incorporate function words such as 'not' and conditional verbs like 'would' and 'could' and their respective contractions as I thought these words word come up often. Other than that I included adjectives that seemed to pop up often. The predictive accuracy is about the same. I have about a 12% alpha with respect to a coin flip. I wonder what the upper limit of predictive power of this model,in this context is?\n",
    "\n",
    "With regards to the evaluation and validation; My model shows has 94.6% sensitivity and 32.3% specificity. The cross validation shows a maximum variance of about 6% of the total predictive effect size in both directions, accordingly it can be assumed that the model is neither over nor under fit."
   ]
  },
  {
   "cell_type": "markdown",
   "metadata": {},
   "source": [
    "Then go back and iterate by engineering new features, removing poor features, or tuning parameters. Repeat this process until you have five different versions of your classifier. Once you've iterated, answer these questions to compare the performance of each:\n",
    "\n",
    "Do any of your classifiers seem to overfit?\n",
    "Which seem to perform the best? Why?\n",
    "Which features seemed to be most impactful to performance?"
   ]
  },
  {
   "cell_type": "markdown",
   "metadata": {},
   "source": [
    "## Classifier iteration 2"
   ]
  },
  {
   "cell_type": "code",
   "execution_count": 104,
   "metadata": {},
   "outputs": [
    {
     "name": "stdout",
     "output_type": "stream",
     "text": [
      "Number of mislabeled points out of a total 1000 points : 421\n",
      "Predictive accuracy is : 57.9%\n",
      "     0   1\n",
      "0  487  13\n",
      "1  408  92\n",
      "sensitivity for Amazon reviews = 18.4%\n",
      "specificity for Amazon reviews= 97.39999999999999%\n"
     ]
    }
   ],
   "source": [
    "amazon_reviews_df2= pd.read_csv('amazon_cells_labelled.txt', sep='\\t', header=None)\n",
    "#sms_raw = pd.read_csv(reviews, delimiter= '\\t', header=None)\n",
    "amazon_reviews_df2.columns = ['review_text', 'review_status']\n",
    "\n",
    "keywords_2 = [ 'excellent', 'good', 'great', 'love', 'loved' ]\n",
    "\n",
    "\n",
    "\n",
    "for key in keywords_2:\n",
    "    # Note that we add spaces around the key so that we're getting the word,\n",
    "    # not just pattern matching.\n",
    "    amazon_reviews_df2[str(key)] = amazon_reviews_df2.review_text.str.contains(\n",
    "        ' ' + str(key) + ' ',\n",
    "        case=False\n",
    "    )\n",
    "    \n",
    "    amazon_reviews_df2['allcaps'] = amazon_reviews_df2.review_text.str.isupper()\n",
    "\n",
    "#setup data\n",
    "data2 = amazon_reviews_df2[keywords_2 + ['allcaps']]\n",
    "target2 = amazon_reviews_df2['review_status']\n",
    "\n",
    "# data is biinary so use BernoulliNB function from sklearn.naive_bayes\n",
    "from sklearn.naive_bayes import BernoulliNB\n",
    "\n",
    "\n",
    "amazon_review_model_2 = BernoulliNB()\n",
    "\n",
    "# Fit our model to the data.\n",
    "amazon_review_model_2.fit(data2, target2)\n",
    "\n",
    "# Classify, storing the result in a new variable.\n",
    "y_pred2 = amazon_review_model_2.predict(data2)\n",
    "\n",
    "# Display our results.\n",
    "print(\"Number of mislabeled points out of a total {} points : {}\".format(\n",
    "    data.shape[0],\n",
    "    (target != y_pred2).sum()\n",
    "))\n",
    "\n",
    "print(\"Predictive accuracy is : {}%\".format(\n",
    "    amazon_review_model_2.score(data2, target2) * 100\n",
    "))\n",
    "\n",
    "from sklearn.metrics import confusion_matrix\n",
    "amazon_cm_df2=pd.DataFrame(confusion_matrix(target2, y_pred2))\n",
    "\n",
    "goodneg2=(amazon_cm_df2.iloc[0].loc[0])\n",
    "goodpos2=(amazon_cm_df2.iloc[1].loc[1])\n",
    "falseneg2=(amazon_cm_df2.iloc[0].loc[1])\n",
    "falsepos2=(amazon_cm_df2.iloc[1].loc[0])\n",
    "\n",
    "sensitivity2=(goodpos2/(goodpos2+falsepos2))\n",
    "\n",
    "specificity2=(goodneg2/(goodneg2+falseneg2))\n",
    "\n",
    "print(amazon_cm_df2)\n",
    "\n",
    "print('sensitivity for Amazon reviews = ' + str(sensitivity2*100) + '%')\n",
    "print('specificity for Amazon reviews= ' + str(specificity2*100) + '%')\n"
   ]
  },
  {
   "cell_type": "markdown",
   "metadata": {},
   "source": [
    "This model has a lower sensitivity but a higher specificity. Let's iterate over the original model with the changes made to this model and see how it fares:\n",
    "\n",
    "## Classifier iteration 3"
   ]
  },
  {
   "cell_type": "code",
   "execution_count": 106,
   "metadata": {},
   "outputs": [
    {
     "name": "stdout",
     "output_type": "stream",
     "text": [
      "Number of mislabeled points out of a total 1000 points : 421\n",
      "Predictive accuracy is : 57.9%\n",
      "     0   1\n",
      "0  487  13\n",
      "1  408  92\n",
      "sensitivity for Amazon reviews = 18.4%\n",
      "specificity for Amazon reviews= 97.39999999999999%\n"
     ]
    }
   ],
   "source": [
    "amazon_reviews_df3= pd.read_csv('amazon_cells_labelled.txt', sep='\\t', header=None)\n",
    "#sms_raw = pd.read_csv(reviews, delimiter= '\\t', header=None)\n",
    "amazon_reviews_df3.columns = ['review_text', 'review_status']\n",
    "\n",
    "keywords_3 = [ 'excellent', 'good', 'great', 'love', 'loved', 'fine'\n",
    "             'refund', 'return', 'garbage', 'negative', 'painful', 'not match', 'problem',\n",
    "            'do not', 'junk', 'dissapointed', 'dissapoint','waste', 'wasted', 'time', 'fooled',  \n",
    "            'problem', 'died', 'dead', 'dying' 'broke', 'breaks', 'broken', 'don\\'t', 'won\\'t',\n",
    "            'will not', 'zero', 'hate', 'terrible', 'do not buy', 'too quiet', 'can\\'t hear',\n",
    "           'useless', 'crap', 'echo', 'plastic', 'unreliable', 'chinese', 'bad', 'not enough', 'badly', 'lousy',\n",
    "           'wouldn\\'t','couldn\\'t', 'not', 'worst', 'crappy']\n",
    "\n",
    "\n",
    "\n",
    "for key in keywords_3:\n",
    "    # Note that we add spaces around the key so that we're getting the word,\n",
    "    # not just pattern matching.\n",
    "    amazon_reviews_df3[str(key)] = amazon_reviews_df3.review_text.str.contains(\n",
    "        ' ' + str(key) + ' ',\n",
    "        case=False\n",
    "    )\n",
    "    \n",
    "    amazon_reviews_df3['allcaps'] = amazon_reviews_df3.review_text.str.isupper()\n",
    "\n",
    "#setup data\n",
    "data3 = amazon_reviews_df3[keywords_2 + ['allcaps']]\n",
    "target3 = amazon_reviews_df3['review_status']\n",
    "\n",
    "# data is biinary so use BernoulliNB function from sklearn.naive_bayes\n",
    "from sklearn.naive_bayes import BernoulliNB\n",
    "\n",
    "\n",
    "amazon_review_model_3 = BernoulliNB()\n",
    "\n",
    "# Fit our model to the data.\n",
    "amazon_review_model_3.fit(data3, target3)\n",
    "\n",
    "# Classify, storing the result in a new variable.\n",
    "y_pred3 = amazon_review_model_3.predict(data2)\n",
    "\n",
    "# Display our results.\n",
    "print(\"Number of mislabeled points out of a total {} points : {}\".format(\n",
    "    data.shape[0],\n",
    "    (target != y_pred3).sum()\n",
    "))\n",
    "\n",
    "print(\"Predictive accuracy is : {}%\".format(\n",
    "    amazon_review_model_3.score(data3, target3) * 100\n",
    "))\n",
    "\n",
    "from sklearn.metrics import confusion_matrix\n",
    "amazon_cm_df3=pd.DataFrame(confusion_matrix(target3, y_pred3))\n",
    "\n",
    "goodneg3=(amazon_cm_df3.iloc[0].loc[0])\n",
    "goodpos3=(amazon_cm_df3.iloc[1].loc[1])\n",
    "falseneg3=(amazon_cm_df3.iloc[0].loc[1])\n",
    "falsepos3=(amazon_cm_df3.iloc[1].loc[0])\n",
    "\n",
    "sensitivity3=(goodpos3/(goodpos3+falsepos3))\n",
    "\n",
    "specificity3=(goodneg3/(goodneg3+falseneg3))\n",
    "\n",
    "print(amazon_cm_df3)\n",
    "\n",
    "print('sensitivity for Amazon reviews = ' + str(sensitivity3*100) + '%')\n",
    "print('specificity for Amazon reviews= ' + str(specificity3*100) + '%')\n"
   ]
  },
  {
   "cell_type": "markdown",
   "metadata": {},
   "source": [
    "No real difference here. Let's try to add number of words as a feature.\n",
    "\n",
    "## Classifier iteration 4"
   ]
  },
  {
   "cell_type": "code",
   "execution_count": 103,
   "metadata": {},
   "outputs": [
    {
     "name": "stdout",
     "output_type": "stream",
     "text": [
      "Number of mislabeled points out of a total 1000 points : 367\n",
      "Predictive accuracy is : 63.3%\n",
      "     0    1\n",
      "0  159  341\n",
      "1   26  474\n",
      "sensitivity for Amazon reviews = 94.8%\n",
      "specificity for Amazon reviews= 31.8%\n"
     ]
    },
    {
     "data": {
      "text/plain": [
       "<matplotlib.axes._subplots.AxesSubplot at 0x1a985104278>"
      ]
     },
     "execution_count": 103,
     "metadata": {},
     "output_type": "execute_result"
    },
    {
     "data": {
      "image/png": "[encoded data removed]",
      "text/plain": [
       "<Figure size 432x288 with 2 Axes>"
      ]
     },
     "metadata": {
      "needs_background": "light"
     },
     "output_type": "display_data"
    }
   ],
   "source": [
    "amazon_reviews_df3= pd.read_csv('amazon_cells_labelled.txt', sep='\\t', header=None)\n",
    "#sms_raw = pd.read_csv(reviews, delimiter= '\\t', header=None)\n",
    "amazon_reviews_df3.columns = ['review_text', 'review_status']\n",
    "\n",
    "keywords_3 = [ 'excellent', 'good', 'great', 'love', 'loved', 'fine'\n",
    "             'refund', 'return', 'garbage', 'negative', 'painful', 'not match', 'problem',\n",
    "            'do not', 'junk', 'dissapointed', 'dissapoint','waste', 'wasted', 'time', 'fooled',  \n",
    "            'problem', 'died', 'dead', 'dying' 'broke', 'breaks', 'broken', 'don\\'t', 'won\\'t',\n",
    "            'will not', 'zero', 'hate', 'terrible', 'do not buy', 'too quiet', 'can\\'t hear',\n",
    "           'useless', 'crap', 'echo', 'plastic', 'unreliable', 'chinese', 'bad', 'not enough', 'badly', 'lousy',\n",
    "           'wouldn\\'t','couldn\\'t', 'not', 'worst', 'crappy']\n",
    "\n",
    "\n",
    "\n",
    "for key in keywords_3:\n",
    "    # Note that we add spaces around the key so that we're getting the word,\n",
    "    # not just pattern matching.\n",
    "    amazon_reviews_df3[str(key)] = amazon_reviews_df3.review_text.str.contains(\n",
    "        ' ' + str(key) + ' ',\n",
    "        case=False\n",
    "    )\n",
    "    \n",
    "amazon_reviews_df3['allcaps'] = amazon_reviews_df3.review_text.str.isupper()\n",
    "\n",
    "amazon_reviews_df3['wordcount']=amazon_reviews_df3['review_text'].str.count(' ') + 1\n",
    "\n",
    "#setup data\n",
    "data3 = amazon_reviews_df3[keywords_3 + ['allcaps'] + ['wordcount']]\n",
    "target3 = amazon_reviews_df3['review_status']\n",
    "\n",
    "# data is biinary so use BernoulliNB function from sklearn.naive_bayes\n",
    "from sklearn.naive_bayes import BernoulliNB\n",
    "\n",
    "\n",
    "amazon_review_model_3 = BernoulliNB()\n",
    "\n",
    "# Fit our model to the data.\n",
    "amazon_review_model_3.fit(data3, target3)\n",
    "\n",
    "# Classify, storing the result in a new variable.\n",
    "y_pred3 = amazon_review_model_3.predict(data3)\n",
    "\n",
    "# Display our results.\n",
    "print(\"Number of mislabeled points out of a total {} points : {}\".format(\n",
    "    data.shape[0],\n",
    "    (target != y_pred3).sum()\n",
    "))\n",
    "\n",
    "print(\"Predictive accuracy is : {}%\".format(\n",
    "    amazon_review_model_3.score(data3, target3) * 100\n",
    "))\n",
    "\n",
    "from sklearn.metrics import confusion_matrix\n",
    "amazon_cm_df3=pd.DataFrame(confusion_matrix(target3, y_pred3))\n",
    "\n",
    "goodneg3=(amazon_cm_df3.iloc[0].loc[0])\n",
    "goodpos3=(amazon_cm_df3.iloc[1].loc[1])\n",
    "falseneg3=(amazon_cm_df3.iloc[0].loc[1])\n",
    "falsepos3=(amazon_cm_df3.iloc[1].loc[0])\n",
    "\n",
    "sensitivity3=(goodpos3/(goodpos3+falsepos3))\n",
    "\n",
    "specificity3=(goodneg3/(goodneg3+falseneg3))\n",
    "\n",
    "print(amazon_cm_df3)\n",
    "\n",
    "print('sensitivity for Amazon reviews = ' + str(sensitivity3*100) + '%')\n",
    "print('specificity for Amazon reviews= ' + str(specificity3*100) + '%')\n",
    "\n",
    "\n",
    "sns.heatmap(amazon_reviews_df3.corr())"
   ]
  },
  {
   "cell_type": "markdown",
   "metadata": {},
   "source": [
    "This looks like it was initially!! I'm going to try to take out the positive words.\n",
    "\n",
    "## Classifier Iteration 5"
   ]
  },
  {
   "cell_type": "code",
   "execution_count": 109,
   "metadata": {},
   "outputs": [
    {
     "name": "stdout",
     "output_type": "stream",
     "text": [
      "Number of mislabeled points out of a total 1000 points : 366\n",
      "Predictive accuracy is : 63.4%\n",
      "     0    1\n",
      "0  161  339\n",
      "1   27  473\n",
      "sensitivity for Amazon reviews = 94.6%\n",
      "specificity for Amazon reviews= 32.2%\n"
     ]
    },
    {
     "data": {
      "text/plain": [
       "<matplotlib.axes._subplots.AxesSubplot at 0x1a98534d828>"
      ]
     },
     "execution_count": 109,
     "metadata": {},
     "output_type": "execute_result"
    },
    {
     "data": {
      "image/png": "[encoded data removed]",
      "text/plain": [
       "<Figure size 432x288 with 2 Axes>"
      ]
     },
     "metadata": {
      "needs_background": "light"
     },
     "output_type": "display_data"
    }
   ],
   "source": [
    "amazon_reviews_df3= pd.read_csv('amazon_cells_labelled.txt', sep='\\t', header=None)\n",
    "#sms_raw = pd.read_csv(reviews, delimiter= '\\t', header=None)\n",
    "amazon_reviews_df3.columns = ['review_text', 'review_status']\n",
    "\n",
    "keywords_3 = [\n",
    "             'refund', 'return', 'garbage', 'negative', 'painful', 'not match', 'problem',\n",
    "            'do not', 'junk', 'dissapointed', 'dissapoint','waste', 'wasted', 'time', 'fooled',  \n",
    "            'problem', 'died', 'dead', 'dying' 'broke', 'breaks', 'broken', 'don\\'t', 'won\\'t',\n",
    "            'will not', 'zero', 'hate', 'terrible', 'do not buy', 'too quiet', 'can\\'t hear',\n",
    "           'useless', 'crap', 'echo', 'plastic', 'unreliable', 'chinese', 'bad', 'not enough', 'badly', 'lousy',\n",
    "           'wouldn\\'t','couldn\\'t', 'not', 'worst', 'crappy']\n",
    "\n",
    "\n",
    "\n",
    "for key in keywords_3:\n",
    "    # Note that we add spaces around the key so that we're getting the word,\n",
    "    # not just pattern matching.\n",
    "    amazon_reviews_df3[str(key)] = amazon_reviews_df3.review_text.str.contains(\n",
    "        ' ' + str(key) + ' ',\n",
    "        case=False\n",
    "    )\n",
    "    \n",
    "amazon_reviews_df3['allcaps'] = amazon_reviews_df3.review_text.str.isupper()\n",
    "\n",
    "amazon_reviews_df3['wordcount']=amazon_reviews_df3['review_text'].str.count(' ') + 1\n",
    "\n",
    "#setup data\n",
    "data3 = amazon_reviews_df3[keywords_3 + ['allcaps'] + ['wordcount']]\n",
    "target3 = amazon_reviews_df3['review_status']\n",
    "\n",
    "# data is biinary so use BernoulliNB function from sklearn.naive_bayes\n",
    "from sklearn.naive_bayes import BernoulliNB\n",
    "\n",
    "\n",
    "amazon_review_model_3 = BernoulliNB()\n",
    "\n",
    "# Fit our model to the data.\n",
    "amazon_review_model_3.fit(data3, target3)\n",
    "\n",
    "# Classify, storing the result in a new variable.\n",
    "y_pred3 = amazon_review_model_3.predict(data3)\n",
    "\n",
    "# Display our results.\n",
    "print(\"Number of mislabeled points out of a total {} points : {}\".format(\n",
    "    data.shape[0],\n",
    "    (target != y_pred3).sum()\n",
    "))\n",
    "\n",
    "print(\"Predictive accuracy is : {}%\".format(\n",
    "    amazon_review_model_3.score(data3, target3) * 100\n",
    "))\n",
    "\n",
    "from sklearn.metrics import confusion_matrix\n",
    "amazon_cm_df3=pd.DataFrame(confusion_matrix(target3, y_pred3))\n",
    "\n",
    "goodneg3=(amazon_cm_df3.iloc[0].loc[0])\n",
    "goodpos3=(amazon_cm_df3.iloc[1].loc[1])\n",
    "falseneg3=(amazon_cm_df3.iloc[0].loc[1])\n",
    "falsepos3=(amazon_cm_df3.iloc[1].loc[0])\n",
    "\n",
    "sensitivity3=(goodpos3/(goodpos3+falsepos3))\n",
    "\n",
    "specificity3=(goodneg3/(goodneg3+falseneg3))\n",
    "\n",
    "print(amazon_cm_df3)\n",
    "\n",
    "print('sensitivity for Amazon reviews = ' + str(sensitivity3*100) + '%')\n",
    "print('specificity for Amazon reviews= ' + str(specificity3*100) + '%')\n",
    "\n",
    "\n",
    "sns.heatmap(amazon_reviews_df3.corr())"
   ]
  },
  {
   "cell_type": "markdown",
   "metadata": {},
   "source": [
    "Again, this is back to what I initially had. Right now, in lieu of creating any more models - I would suggest building 2 seperate models - one optimized for sensitivity and one optimized for specificity. These could be run in tandem and then cross referenced. A third algorithm could investigate the outputs where there is disagreement and give a probabilistic output or label the reviews as ambigious."
   ]
  }
 ],
 "metadata": {
  "kernelspec": {
   "display_name": "Python 3",
   "language": "python",
   "name": "python3"
  },
  "language_info": {
   "codemirror_mode": {
    "name": "ipython",
    "version": 3
   },
   "file_extension": ".py",
   "mimetype": "text/x-python",
   "name": "python",
   "nbconvert_exporter": "python",
   "pygments_lexer": "ipython3",
   "version": "3.7.1"
  }
 },
 "nbformat": 4,
 "nbformat_minor": 2
}
