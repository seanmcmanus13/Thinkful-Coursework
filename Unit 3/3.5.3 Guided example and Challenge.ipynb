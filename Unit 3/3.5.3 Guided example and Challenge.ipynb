{
 "cells": [
  {
   "cell_type": "code",
   "execution_count": 1,
   "metadata": {
    "run_control": {
     "frozen": false,
     "read_only": false
    }
   },
   "outputs": [],
   "source": [
    "import pandas as pd\n",
    "import numpy as np\n",
    "import scipy\n",
    "import matplotlib.pyplot as plt\n",
    "%matplotlib inline\n",
    "\n",
    "from sklearn import ensemble\n",
    "from sklearn import datasets\n",
    "from sklearn.utils import shuffle\n",
    "from sklearn.metrics import mean_squared_error"
   ]
  },
  {
   "cell_type": "markdown",
   "metadata": {},
   "source": [
    "### Gradient boost guided example\n",
    "\n",
    "Having walked through gradient boost by hand, now let's try it with SKlearn.  We'll still use the European Social Survey Data, but now with a categorical outcome: Whether or not someone lives with a partner."
   ]
  },
  {
   "cell_type": "code",
   "execution_count": 2,
   "metadata": {},
   "outputs": [],
   "source": [
    "df = pd.read_csv((\n",
    "    \"https://raw.githubusercontent.com/Thinkful-Ed/data-201-resources/\"\n",
    "    \"master/ESS_practice_data/ESSdata_Thinkful.csv\")).dropna()\n",
    "\n",
    "# Definine outcome and predictors.\n",
    "# Set our outcome to 0 and 1.\n",
    "y = df['partner'] - 1\n",
    "X = df.loc[:, ~df.columns.isin(['partner', 'cntry', 'idno'])]\n",
    "\n",
    "# Make the categorical variable 'country' into dummies.\n",
    "X = pd.concat([X, pd.get_dummies(df['cntry'])], axis=1)\n",
    "\n",
    "# Create training and test sets.\n",
    "offset = int(X.shape[0] * 0.9)\n",
    "\n",
    "# Put 90% of the data in the training set.\n",
    "X_train, y_train = X[:offset], y[:offset]\n",
    "\n",
    "# And put 10% in the test set.\n",
    "X_test, y_test = X[offset:], y[offset:]"
   ]
  },
  {
   "cell_type": "code",
   "execution_count": 4,
   "metadata": {},
   "outputs": [
    {
     "name": "stdout",
     "output_type": "stream",
     "text": [
      "      year  tvtot  ppltrst  pplfair  pplhlp  happy  sclmeet  sclact  gndr  \\\n",
      "0        6    3.0      3.0     10.0     5.0    8.0      5.0     4.0   2.0   \n",
      "1        6    6.0      5.0      7.0     5.0    9.0      3.0     2.0   2.0   \n",
      "2        6    1.0      8.0      8.0     8.0    7.0      6.0     3.0   1.0   \n",
      "3        6    4.0      6.0      6.0     7.0   10.0      6.0     2.0   2.0   \n",
      "4        6    5.0      6.0      7.0     5.0    8.0      7.0     2.0   2.0   \n",
      "6        6    3.0      0.0      5.0     2.0    0.0      2.0     2.0   1.0   \n",
      "7        6    2.0      4.0      5.0     3.0   10.0      5.0     2.0   2.0   \n",
      "8        6    2.0      8.0      8.0     8.0    9.0      6.0     4.0   2.0   \n",
      "9        6    4.0      4.0      4.0     8.0    7.0      4.0     2.0   2.0   \n",
      "10       6    1.0      6.0      7.0     7.0    9.0      5.0     2.0   2.0   \n",
      "11       6    4.0      5.0      7.0     7.0    7.0      5.0     3.0   1.0   \n",
      "12       6    4.0      7.0      7.0     4.0    9.0      6.0     2.0   1.0   \n",
      "13       6    2.0      1.0      9.0     7.0    8.0      4.0     3.0   1.0   \n",
      "14       6    4.0      4.0      5.0     3.0    8.0      1.0     2.0   2.0   \n",
      "15       6    5.0      4.0      5.0     5.0    9.0      3.0     3.0   2.0   \n",
      "16       6    4.0      5.0      7.0     7.0    8.0      3.0     3.0   1.0   \n",
      "17       6    2.0      7.0      7.0     7.0    6.0      6.0     3.0   1.0   \n",
      "18       6    0.0      9.0      7.0     8.0    9.0      5.0     4.0   1.0   \n",
      "19       6    2.0      6.0      6.0     6.0    8.0      4.0     3.0   2.0   \n",
      "20       6    7.0      3.0      4.0     4.0    7.0      6.0     4.0   1.0   \n",
      "21       6    1.0      8.0      8.0     6.0    8.0      7.0     4.0   1.0   \n",
      "22       6    2.0      7.0      7.0     8.0    9.0      6.0     3.0   1.0   \n",
      "23       6    2.0      4.0      8.0     8.0    9.0      6.0     2.0   2.0   \n",
      "24       6    0.0      7.0      7.0     4.0    9.0      4.0     2.0   2.0   \n",
      "25       6    0.0      6.0      7.0     5.0    7.0      6.0     2.0   2.0   \n",
      "26       6    2.0      7.0      6.0     5.0    8.0      4.0     3.0   2.0   \n",
      "27       6    0.0      5.0      8.0     6.0    9.0      4.0     2.0   2.0   \n",
      "28       6    2.0      8.0      8.0     8.0   10.0      6.0     3.0   2.0   \n",
      "29       6    7.0      8.0      5.0     5.0    8.0      5.0     3.0   2.0   \n",
      "30       6    6.0      8.0      8.0     3.0    5.0      6.0     1.0   2.0   \n",
      "...    ...    ...      ...      ...     ...    ...      ...     ...   ...   \n",
      "8564     7    2.0      1.0      5.0     4.0   10.0      7.0     4.0   1.0   \n",
      "8565     7    5.0      5.0      3.0     4.0    5.0      6.0     1.0   2.0   \n",
      "8566     7    2.0      7.0      8.0     6.0    8.0      7.0     3.0   2.0   \n",
      "8567     7    2.0      4.0      8.0     7.0    9.0      7.0     4.0   2.0   \n",
      "8568     7    1.0      2.0      8.0     6.0    9.0      7.0     3.0   2.0   \n",
      "8569     7    6.0      5.0      3.0     4.0    9.0      6.0     4.0   1.0   \n",
      "8570     7    1.0      5.0      7.0     7.0    8.0      7.0     4.0   1.0   \n",
      "8571     7    3.0      4.0      9.0     7.0    8.0      6.0     3.0   1.0   \n",
      "8572     7    5.0      7.0      8.0     5.0    8.0      3.0     1.0   1.0   \n",
      "8573     7    1.0      8.0      8.0     6.0    9.0      7.0     3.0   2.0   \n",
      "8574     7    1.0      4.0      5.0     6.0    7.0      7.0     3.0   2.0   \n",
      "8575     7    3.0      8.0      7.0     7.0    8.0      7.0     3.0   1.0   \n",
      "8576     7    4.0      5.0      4.0     4.0    7.0      6.0     3.0   1.0   \n",
      "8577     7    6.0      6.0      9.0     7.0    5.0      4.0     2.0   2.0   \n",
      "8578     7    1.0      5.0      5.0     5.0    7.0      5.0     4.0   2.0   \n",
      "8579     7    2.0      8.0      9.0     7.0    9.0      7.0     3.0   2.0   \n",
      "8580     7    4.0      7.0      8.0     5.0   10.0      4.0     1.0   1.0   \n",
      "8581     7    1.0      6.0      7.0     6.0    8.0      6.0     3.0   1.0   \n",
      "8582     7    6.0      7.0      7.0     6.0    8.0      7.0     3.0   1.0   \n",
      "8583     7    2.0      6.0      8.0     5.0   10.0      6.0     5.0   1.0   \n",
      "8584     7    2.0      8.0     10.0     6.0    9.0      6.0     2.0   1.0   \n",
      "8585     7    1.0      3.0      6.0     4.0    9.0      7.0     3.0   1.0   \n",
      "8586     7    2.0      4.0      6.0     3.0    7.0      7.0     3.0   2.0   \n",
      "8587     7    4.0      4.0      6.0     7.0    9.0      7.0     3.0   1.0   \n",
      "8588     7    1.0      6.0      5.0     5.0   10.0      7.0     2.0   1.0   \n",
      "8589     7    3.0      4.0      5.0     3.0    6.0      6.0     2.0   1.0   \n",
      "8590     7    5.0      6.0      4.0     4.0   10.0      6.0     3.0   1.0   \n",
      "8591     7    4.0      5.0      7.0     6.0    8.0      6.0     3.0   1.0   \n",
      "8592     7    5.0      8.0      8.0     6.0    9.0      7.0     3.0   1.0   \n",
      "8593     7    2.0      6.0      7.0     5.0    7.0      7.0     4.0   2.0   \n",
      "\n",
      "      agea  CH  CZ  DE  ES  NO  SE  \n",
      "0     60.0   1   0   0   0   0   0  \n",
      "1     59.0   1   0   0   0   0   0  \n",
      "2     24.0   1   0   0   0   0   0  \n",
      "3     64.0   1   0   0   0   0   0  \n",
      "4     55.0   1   0   0   0   0   0  \n",
      "6     76.0   1   0   0   0   0   0  \n",
      "7     30.0   1   0   0   0   0   0  \n",
      "8     84.0   1   0   0   0   0   0  \n",
      "9     62.0   1   0   0   0   0   0  \n",
      "10    33.0   1   0   0   0   0   0  \n",
      "11    40.0   1   0   0   0   0   0  \n",
      "12    69.0   1   0   0   0   0   0  \n",
      "13    59.0   1   0   0   0   0   0  \n",
      "14    32.0   1   0   0   0   0   0  \n",
      "15    70.0   1   0   0   0   0   0  \n",
      "16    61.0   1   0   0   0   0   0  \n",
      "17    30.0   1   0   0   0   0   0  \n",
      "18    21.0   1   0   0   0   0   0  \n",
      "19    36.0   1   0   0   0   0   0  \n",
      "20    51.0   1   0   0   0   0   0  \n",
      "21    25.0   1   0   0   0   0   0  \n",
      "22    62.0   1   0   0   0   0   0  \n",
      "23    20.0   1   0   0   0   0   0  \n",
      "24    22.0   1   0   0   0   0   0  \n",
      "25    32.0   1   0   0   0   0   0  \n",
      "26    35.0   1   0   0   0   0   0  \n",
      "27    26.0   1   0   0   0   0   0  \n",
      "28    35.0   1   0   0   0   0   0  \n",
      "29    54.0   1   0   0   0   0   0  \n",
      "30    38.0   1   0   0   0   0   0  \n",
      "...    ...  ..  ..  ..  ..  ..  ..  \n",
      "8564  17.0   0   0   0   0   0   1  \n",
      "8565  17.0   0   0   0   0   0   1  \n",
      "8566  17.0   0   0   0   0   0   1  \n",
      "8567  17.0   0   0   0   0   0   1  \n",
      "8568  17.0   0   0   0   0   0   1  \n",
      "8569  17.0   0   0   0   0   0   1  \n",
      "8570  16.0   0   0   0   0   0   1  \n",
      "8571  16.0   0   0   0   0   0   1  \n",
      "8572  16.0   0   0   0   0   0   1  \n",
      "8573  16.0   0   0   0   0   0   1  \n",
      "8574  16.0   0   0   0   0   0   1  \n",
      "8575  16.0   0   0   0   0   0   1  \n",
      "8576  16.0   0   0   0   0   0   1  \n",
      "8577  16.0   0   0   0   0   0   1  \n",
      "8578  16.0   0   0   0   0   0   1  \n",
      "8579  16.0   0   0   0   0   0   1  \n",
      "8580  16.0   0   0   0   0   0   1  \n",
      "8581  16.0   0   0   0   0   0   1  \n",
      "8582  16.0   0   0   0   0   0   1  \n",
      "8583  16.0   0   0   0   0   0   1  \n",
      "8584  16.0   0   0   0   0   0   1  \n",
      "8585  16.0   0   0   0   0   0   1  \n",
      "8586  15.0   0   0   0   0   0   1  \n",
      "8587  15.0   0   0   0   0   0   1  \n",
      "8588  15.0   0   0   0   0   0   1  \n",
      "8589  18.0   0   0   0   0   0   1  \n",
      "8590  15.0   0   0   0   0   0   1  \n",
      "8591  44.0   0   0   0   0   0   1  \n",
      "8592  15.0   0   0   0   0   0   1  \n",
      "8593  15.0   0   0   0   0   0   1  \n",
      "\n",
      "[8147 rows x 16 columns]\n"
     ]
    }
   ],
   "source": [
    "print(X)"
   ]
  },
  {
   "cell_type": "markdown",
   "metadata": {},
   "source": [
    "Since we're now working with a binary outcome, we've switched to a classifier.  Now our loss function can't be the residuals.  Our options are \"deviance\", or \"exponential\".  Deviance is used for logistic regression, and we'll try that here."
   ]
  },
  {
   "cell_type": "code",
   "execution_count": 3,
   "metadata": {},
   "outputs": [
    {
     "name": "stdout",
     "output_type": "stream",
     "text": [
      "Training set accuracy:\n",
      "Percent Type I errors: 0.04650845608292417\n",
      "Percent Type II errors: 0.17607746863066012\n",
      "\n",
      "Test set accuracy:\n",
      "Percent Type I errors: 0.06257668711656442\n",
      "Percent Type II errors: 0.18527607361963191\n"
     ]
    }
   ],
   "source": [
    "# We'll make 500 iterations, use 2-deep trees, and set our loss function.\n",
    "params = {'n_estimators': 500,\n",
    "          'max_depth': 2,\n",
    "          'loss': 'deviance'}\n",
    "\n",
    "# Initialize and fit the model.\n",
    "clf = ensemble.GradientBoostingClassifier(**params)\n",
    "clf.fit(X_train, y_train)\n",
    "\n",
    "predict_train = clf.predict(X_train)\n",
    "predict_test = clf.predict(X_test)\n",
    "\n",
    "# Accuracy tables.\n",
    "table_train = pd.crosstab(y_train, predict_train, margins=True)\n",
    "table_test = pd.crosstab(y_test, predict_test, margins=True)\n",
    "\n",
    "train_tI_errors = table_train.loc[0.0,1.0] / table_train.loc['All','All']\n",
    "train_tII_errors = table_train.loc[1.0,0.0] / table_train.loc['All','All']\n",
    "\n",
    "test_tI_errors = table_test.loc[0.0,1.0]/table_test.loc['All','All']\n",
    "test_tII_errors = table_test.loc[1.0,0.0]/table_test.loc['All','All']\n",
    "\n",
    "print((\n",
    "    'Training set accuracy:\\n'\n",
    "    'Percent Type I errors: {}\\n'\n",
    "    'Percent Type II errors: {}\\n\\n'\n",
    "    'Test set accuracy:\\n'\n",
    "    'Percent Type I errors: {}\\n'\n",
    "    'Percent Type II errors: {}'\n",
    ").format(train_tI_errors, train_tII_errors, test_tI_errors, test_tII_errors))\n"
   ]
  },
  {
   "cell_type": "markdown",
   "metadata": {},
   "source": [
    "Unlike decision trees, gradient boost solutions are not terribly easy to interpret on the surface.  But they aren't quite a black box.  We can get a measure of how important various features are by counting how many times a feature is used over the course of many decision trees."
   ]
  },
  {
   "cell_type": "code",
   "execution_count": 4,
   "metadata": {},
   "outputs": [
    {
     "data": {
      "image/png": "[encoded data removed]",
      "text/plain": [
       "<Figure size 432x288 with 1 Axes>"
      ]
     },
     "metadata": {
      "needs_background": "light"
     },
     "output_type": "display_data"
    }
   ],
   "source": [
    "feature_importance = clf.feature_importances_\n",
    "\n",
    "# Make importances relative to max importance.\n",
    "feature_importance = 100.0 * (feature_importance / feature_importance.max())\n",
    "sorted_idx = np.argsort(feature_importance)\n",
    "pos = np.arange(sorted_idx.shape[0]) + .5\n",
    "plt.subplot(1, 2, 2)\n",
    "plt.barh(pos, feature_importance[sorted_idx], align='center')\n",
    "plt.yticks(pos, X.columns[sorted_idx])\n",
    "plt.xlabel('Relative Importance')\n",
    "plt.title('Variable Importance')\n",
    "plt.show()"
   ]
  },
  {
   "cell_type": "markdown",
   "metadata": {},
   "source": [
    "It appears that age and happiness are the most important features in predicting whether or not someone lives with a partner."
   ]
  },
  {
   "cell_type": "markdown",
   "metadata": {
    "collapsed": true
   },
   "source": [
    "### DRILL: Improve this gradient boost model\n",
    "\n",
    "While this model is already doing alright, we've seen from the Type I and Type II error rates that there is definitely room for improvement.  Your task is to see how low you can get the error rates to go in the test set, based on your model in the training set.  Strategies you might use include:\n",
    "\n",
    "* Creating new features\n",
    "* Applying more overfitting-prevention strategies like subsampling\n",
    "* More iterations\n",
    "* Trying a different loss function\n",
    "* Changing the structure of the weak learner: Allowing more leaves in the tree, or other modifications\n",
    "\n",
    "Have fun!"
   ]
  },
  {
   "cell_type": "markdown",
   "metadata": {},
   "source": [
    "# Feature exploration"
   ]
  },
  {
   "cell_type": "code",
   "execution_count": 13,
   "metadata": {},
   "outputs": [
    {
     "name": "stdout",
     "output_type": "stream",
     "text": [
      "partner                 1.000000\n",
      "agea                    0.256670\n",
      "sclmeet                 0.162970\n",
      "agesocialinteraction    0.149124\n",
      "happy                   0.145061\n",
      "ppltrst                 0.034371\n",
      "pplfair                 0.034054\n",
      "gndr                    0.033984\n",
      "tvtot                   0.028816\n",
      "pplhlp                  0.022069\n",
      "Name: partner, dtype: float64\n"
     ]
    }
   ],
   "source": [
    "corrmatrix = df.corr()\n",
    "print(corrmatrix['partner'].abs().sort_values(ascending=False).head(10))"
   ]
  },
  {
   "cell_type": "code",
   "execution_count": 8,
   "metadata": {},
   "outputs": [
    {
     "name": "stdout",
     "output_type": "stream",
     "text": [
      "partner    1.000000\n",
      "agea       0.256670\n",
      "sclmeet    0.162970\n",
      "happy      0.145061\n",
      "ppltrst    0.034371\n",
      "pplfair    0.034054\n",
      "gndr       0.033984\n",
      "tvtot      0.028816\n",
      "pplhlp     0.022069\n",
      "year       0.018689\n",
      "Name: partner, dtype: float64\n"
     ]
    }
   ],
   "source": []
  },
  {
   "cell_type": "code",
   "execution_count": 22,
   "metadata": {},
   "outputs": [],
   "source": [
    "df['agesocialinteraction']=df['agea']*df['sclmeet']"
   ]
  },
  {
   "cell_type": "code",
   "execution_count": 24,
   "metadata": {},
   "outputs": [
    {
     "name": "stdout",
     "output_type": "stream",
     "text": [
      "partner                 1.000000\n",
      "agea                    0.256670\n",
      "sclmeet                 0.162970\n",
      "agesocialinteraction    0.149124\n",
      "happy                   0.145061\n",
      "ppltrst                 0.034371\n",
      "pplfair                 0.034054\n",
      "gndr                    0.033984\n",
      "tvtot                   0.028816\n",
      "pplhlp                  0.022069\n",
      "Name: partner, dtype: float64\n"
     ]
    }
   ],
   "source": [
    "corrmatrix = df.corr()\n",
    "print(corrmatrix['partner'].abs().sort_values(ascending=False).head(10))"
   ]
  },
  {
   "cell_type": "code",
   "execution_count": 47,
   "metadata": {},
   "outputs": [],
   "source": [
    "# Definine outcome and predictors.\n",
    "# Set our outcome to 0 and 1.\n",
    "y = df['partner'] - 1\n",
    "X = df.loc[:, ~df.columns.isin(['partner', 'cntry', 'idno'])]\n",
    "\n",
    "# Make the categorical variable 'country' into dummies.\n",
    "X = pd.concat([X, pd.get_dummies(df['cntry'])], axis=1)\n",
    "\n",
    "# Create training and test sets.\n",
    "offset = int(X.shape[0] * 0.6)\n",
    "\n",
    "# Put 90% of the data in the training set.\n",
    "X_train, y_train = X[:offset], y[:offset]\n",
    "\n",
    "# And put 10% in the test set.\n",
    "X_test, y_test = X[offset:], y[offset:]"
   ]
  },
  {
   "cell_type": "code",
   "execution_count": 31,
   "metadata": {},
   "outputs": [
    {
     "name": "stdout",
     "output_type": "stream",
     "text": [
      "Training set accuracy:\n",
      "Percent Type I errors: 0.002182214948172395\n",
      "Percent Type II errors: 0.02823240589198036\n",
      "\n",
      "Test set accuracy:\n",
      "Percent Type I errors: 0.11901840490797547\n",
      "Percent Type II errors: 0.17791411042944785\n"
     ]
    }
   ],
   "source": [
    "# We'll make 500 iterations, use 2-deep trees, and set our loss function.\n",
    "params = {'n_estimators': 500,\n",
    "          'max_depth': 2,\n",
    "          'loss': 'deviance'}\n",
    "\n",
    "# Initialize and fit the model.\n",
    "clf = ensemble.GradientBoostingClassifier(n_estimators=)\n",
    "clf.fit(X_train, y_train)\n",
    "\n",
    "predict_train = clf.predict(X_train)\n",
    "predict_test = clf.predict(X_test)\n",
    "\n",
    "# Accuracy tables.\n",
    "table_train = pd.crosstab(y_train, predict_train, margins=True)\n",
    "table_test = pd.crosstab(y_test, predict_test, margins=True)\n",
    "\n",
    "train_tI_errors = table_train.loc[0.0,1.0] / table_train.loc['All','All']\n",
    "train_tII_errors = table_train.loc[1.0,0.0] / table_train.loc['All','All']\n",
    "\n",
    "test_tI_errors = table_test.loc[0.0,1.0]/table_test.loc['All','All']\n",
    "test_tII_errors = table_test.loc[1.0,0.0]/table_test.loc['All','All']\n",
    "\n",
    "print((\n",
    "    'Training set accuracy:\\n'\n",
    "    'Percent Type I errors: {}\\n'\n",
    "    'Percent Type II errors: {}\\n\\n'\n",
    "    'Test set accuracy:\\n'\n",
    "    'Percent Type I errors: {}\\n'\n",
    "    'Percent Type II errors: {}'\n",
    ").format(train_tI_errors, train_tII_errors, test_tI_errors, test_tII_errors))\n"
   ]
  },
  {
   "cell_type": "markdown",
   "metadata": {},
   "source": [
    "#optimize for max depth"
   ]
  },
  {
   "cell_type": "code",
   "execution_count": 35,
   "metadata": {},
   "outputs": [
    {
     "name": "stdout",
     "output_type": "stream",
     "text": [
      "maxdepth=2\n",
      "Training set accuracy:\n",
      "Percent Type I errors: 0.044189852700491\n",
      "Percent Type II errors: 0.1740316421167485\n",
      "Test set accuracy:\n",
      "Percent Type I errors: 0.05766871165644172\n",
      "Percent Type II errors: 0.18773006134969325\n",
      "\n",
      "\n",
      "maxdepth=3\n",
      "Training set accuracy:\n",
      "Percent Type I errors: 0.031642116748499725\n",
      "Percent Type II errors: 0.14361702127659576\n",
      "Test set accuracy:\n",
      "Percent Type I errors: 0.08834355828220859\n",
      "Percent Type II errors: 0.1754601226993865\n",
      "\n",
      "\n",
      "maxdepth=4\n",
      "Training set accuracy:\n",
      "Percent Type I errors: 0.016639388979814512\n",
      "Percent Type II errors: 0.10065466448445172\n",
      "Test set accuracy:\n",
      "Percent Type I errors: 0.09447852760736196\n",
      "Percent Type II errors: 0.17423312883435582\n",
      "\n",
      "\n",
      "maxdepth=5\n",
      "Training set accuracy:\n",
      "Percent Type I errors: 0.006001091107474086\n",
      "Percent Type II errors: 0.04841789416257501\n",
      "Test set accuracy:\n",
      "Percent Type I errors: 0.11411042944785275\n",
      "Percent Type II errors: 0.16809815950920245\n",
      "\n",
      "\n",
      "maxdepth=6\n",
      "Training set accuracy:\n",
      "Percent Type I errors: 0.00027277686852154935\n",
      "Percent Type II errors: 0.00872885979268958\n",
      "Test set accuracy:\n",
      "Percent Type I errors: 0.11779141104294479\n",
      "Percent Type II errors: 0.1668711656441718\n",
      "\n",
      "\n"
     ]
    }
   ],
   "source": [
    "md= [2,3,4,5,6]\n",
    "# Initialize and fit the model.\n",
    "for m in md:\n",
    "    clf = ensemble.GradientBoostingClassifier(n_estimators=500, max_depth=m, loss='deviance')\n",
    "    clf.fit(X_train, y_train)\n",
    "\n",
    "    predict_train = clf.predict(X_train)\n",
    "    predict_test = clf.predict(X_test)\n",
    "\n",
    "# Accuracy tables.\n",
    "    table_train = pd.crosstab(y_train, predict_train, margins=True)\n",
    "    table_test = pd.crosstab(y_test, predict_test, margins=True)\n",
    "\n",
    "    train_tI_errors = table_train.loc[0.0,1.0] / table_train.loc['All','All']\n",
    "    train_tII_errors = table_train.loc[1.0,0.0] / table_train.loc['All','All']\n",
    "\n",
    "    test_tI_errors = table_test.loc[0.0,1.0]/table_test.loc['All','All']\n",
    "    test_tII_errors = table_test.loc[1.0,0.0]/table_test.loc['All','All']\n",
    "\n",
    "    print((\n",
    "    'maxdepth={}\\n'\n",
    "    'Training set accuracy:\\n'\n",
    "    'Percent Type I errors: {}\\n'\n",
    "    'Percent Type II errors: {}\\n'\n",
    "    'Test set accuracy:\\n'\n",
    "    'Percent Type I errors: {}\\n'\n",
    "    'Percent Type II errors: {}\\n\\n'\n",
    "    ).format(m, train_tI_errors, train_tII_errors, test_tI_errors, test_tII_errors))\n",
    "    "
   ]
  },
  {
   "cell_type": "markdown",
   "metadata": {},
   "source": [
    "Looks like max depth = 4 is optimal. After that the model becomes overfit. Let's try to optimize for the number of estimators.\n",
    "\n",
    "# Optimize for estimators"
   ]
  },
  {
   "cell_type": "code",
   "execution_count": 41,
   "metadata": {},
   "outputs": [
    {
     "name": "stdout",
     "output_type": "stream",
     "text": [
      "maxdepth=4\n",
      "estimators=400\n",
      "Training set accuracy:\n",
      "Percent Type I errors: 0.020185488270594652\n",
      "Percent Type II errors: 0.11361156573922532\n",
      "Test set accuracy:\n",
      "Percent Type I errors: 0.0834355828220859\n",
      "Percent Type II errors: 0.1754601226993865\n",
      "\n",
      "\n",
      "maxdepth=4\n",
      "estimators=500\n",
      "Training set accuracy:\n",
      "Percent Type I errors: 0.016639388979814512\n",
      "Percent Type II errors: 0.10065466448445172\n",
      "Test set accuracy:\n",
      "Percent Type I errors: 0.09325153374233129\n",
      "Percent Type II errors: 0.17423312883435582\n",
      "\n",
      "\n",
      "maxdepth=4\n",
      "estimators=600\n",
      "Training set accuracy:\n",
      "Percent Type I errors: 0.013229678123295145\n",
      "Percent Type II errors: 0.0894708128750682\n",
      "Test set accuracy:\n",
      "Percent Type I errors: 0.09079754601226994\n",
      "Percent Type II errors: 0.18036809815950922\n",
      "\n",
      "\n",
      "maxdepth=4\n",
      "estimators=700\n",
      "Training set accuracy:\n",
      "Percent Type I errors: 0.012138570649208947\n",
      "Percent Type II errors: 0.07733224222585924\n",
      "Test set accuracy:\n",
      "Percent Type I errors: 0.09938650306748466\n",
      "Percent Type II errors: 0.18036809815950922\n",
      "\n",
      "\n",
      "maxdepth=4\n",
      "estimators=800\n",
      "Training set accuracy:\n",
      "Percent Type I errors: 0.011320240043644299\n",
      "Percent Type II errors: 0.07078559738134206\n",
      "Test set accuracy:\n",
      "Percent Type I errors: 0.10429447852760736\n",
      "Percent Type II errors: 0.18159509202453988\n",
      "\n",
      "\n",
      "maxdepth=4\n",
      "estimators=900\n",
      "Training set accuracy:\n",
      "Percent Type I errors: 0.009683578832515003\n",
      "Percent Type II errors: 0.062465902891434805\n",
      "Test set accuracy:\n",
      "Percent Type I errors: 0.1067484662576687\n",
      "Percent Type II errors: 0.18404907975460122\n",
      "\n",
      "\n"
     ]
    }
   ],
   "source": [
    "n_est= [400, 500, 600, 700, 800, 900]\n",
    "# Initialize and fit the model.\n",
    "for n in n_est:\n",
    "    clf = ensemble.GradientBoostingClassifier(n_estimators=n, max_depth=4, loss='deviance')\n",
    "    clf.fit(X_train, y_train)\n",
    "\n",
    "    predict_train = clf.predict(X_train)\n",
    "    predict_test = clf.predict(X_test)\n",
    "\n",
    "# Accuracy tables.\n",
    "    table_train = pd.crosstab(y_train, predict_train, margins=True)\n",
    "    table_test = pd.crosstab(y_test, predict_test, margins=True)\n",
    "\n",
    "    train_tI_errors = table_train.loc[0.0,1.0] / table_train.loc['All','All']\n",
    "    train_tII_errors = table_train.loc[1.0,0.0] / table_train.loc['All','All']\n",
    "\n",
    "    test_tI_errors = table_test.loc[0.0,1.0]/table_test.loc['All','All']\n",
    "    test_tII_errors = table_test.loc[1.0,0.0]/table_test.loc['All','All']\n",
    "\n",
    "    print((\n",
    "    'maxdepth={}\\n'\n",
    "    'estimators={}\\n'\n",
    "    'Training set accuracy:\\n'\n",
    "    'Percent Type I errors: {}\\n'\n",
    "    'Percent Type II errors: {}\\n'\n",
    "    'Test set accuracy:\\n'\n",
    "    'Percent Type I errors: {}\\n'\n",
    "    'Percent Type II errors: {}\\n\\n'\n",
    "    ).format(4, n, train_tI_errors, train_tII_errors, test_tI_errors, test_tII_errors))\n",
    "    "
   ]
  },
  {
   "cell_type": "markdown",
   "metadata": {},
   "source": [
    "Estimators of 600 give an optimate result here - they substantially reduce type II errors at a cost of marginal overfitting...let's try changing the loss function:\n",
    "\n",
    "# Optimizing for loss function"
   ]
  },
  {
   "cell_type": "code",
   "execution_count": 42,
   "metadata": {},
   "outputs": [
    {
     "name": "stdout",
     "output_type": "stream",
     "text": [
      "lossfunction=deviance\n",
      "maxdepth=4\n",
      "estimators=600\n",
      "Training set accuracy:\n",
      "Percent Type I errors: 0.013229678123295145\n",
      "Percent Type II errors: 0.0894708128750682\n",
      "Test set accuracy:\n",
      "Percent Type I errors: 0.09202453987730061\n",
      "Percent Type II errors: 0.18036809815950922\n",
      "\n",
      "\n",
      "lossfunction=exponential\n",
      "maxdepth=4\n",
      "estimators=600\n",
      "Training set accuracy:\n",
      "Percent Type I errors: 0.01568466993998909\n",
      "Percent Type II errors: 0.1039279869067103\n",
      "Test set accuracy:\n",
      "Percent Type I errors: 0.09570552147239264\n",
      "Percent Type II errors: 0.1754601226993865\n",
      "\n",
      "\n"
     ]
    }
   ],
   "source": [
    "loss_list= ['deviance', 'exponential']\n",
    "# Initialize and fit the model.\n",
    "for l in loss_list:\n",
    "    clf = ensemble.GradientBoostingClassifier(n_estimators=600, max_depth=4, loss=l)\n",
    "    clf.fit(X_train, y_train)\n",
    "\n",
    "    predict_train = clf.predict(X_train)\n",
    "    predict_test = clf.predict(X_test)\n",
    "\n",
    "# Accuracy tables.\n",
    "    table_train = pd.crosstab(y_train, predict_train, margins=True)\n",
    "    table_test = pd.crosstab(y_test, predict_test, margins=True)\n",
    "\n",
    "    train_tI_errors = table_train.loc[0.0,1.0] / table_train.loc['All','All']\n",
    "    train_tII_errors = table_train.loc[1.0,0.0] / table_train.loc['All','All']\n",
    "\n",
    "    test_tI_errors = table_test.loc[0.0,1.0]/table_test.loc['All','All']\n",
    "    test_tII_errors = table_test.loc[1.0,0.0]/table_test.loc['All','All']\n",
    "\n",
    "    print((\n",
    "    'lossfunction={}\\n'\n",
    "    'maxdepth={}\\n'\n",
    "    'estimators={}\\n'\n",
    "    'Training set accuracy:\\n'\n",
    "    'Percent Type I errors: {}\\n'\n",
    "    'Percent Type II errors: {}\\n'\n",
    "    'Test set accuracy:\\n'\n",
    "    'Percent Type I errors: {}\\n'\n",
    "    'Percent Type II errors: {}\\n\\n'\n",
    "    ).format(l, 4, 600, train_tI_errors, train_tII_errors, test_tI_errors, test_tII_errors))\n",
    "    "
   ]
  },
  {
   "cell_type": "markdown",
   "metadata": {},
   "source": [
    "Ok, so we've optimized our model. let's do some cross validation here...\n",
    "I think our high type ii errors on the test set may be a product of low sample size."
   ]
  },
  {
   "cell_type": "code",
   "execution_count": 48,
   "metadata": {},
   "outputs": [
    {
     "name": "stdout",
     "output_type": "stream",
     "text": [
      "lossfunction=exponential\n",
      "maxdepth=4\n",
      "estimators=600\n",
      "Training set accuracy:\n",
      "Percent Type I errors: 0.008183306055646482\n",
      "Percent Type II errors: 0.07405891980360066\n",
      "Test set accuracy:\n",
      "Percent Type I errors: 0.08254065664314207\n",
      "Percent Type II errors: 0.18502608162012887\n",
      "\n",
      "\n"
     ]
    }
   ],
   "source": [
    "clf = ensemble.GradientBoostingClassifier(n_estimators=600, max_depth=4, loss=l)\n",
    "clf.fit(X_train, y_train)\n",
    "\n",
    "predict_train = clf.predict(X_train)\n",
    "predict_test = clf.predict(X_test)\n",
    "\n",
    "# Accuracy tables.\n",
    "table_train = pd.crosstab(y_train, predict_train, margins=True)\n",
    "table_test = pd.crosstab(y_test, predict_test, margins=True)\n",
    "\n",
    "train_tI_errors = table_train.loc[0.0,1.0] / table_train.loc['All','All']\n",
    "train_tII_errors = table_train.loc[1.0,0.0] / table_train.loc['All','All']\n",
    "\n",
    "test_tI_errors = table_test.loc[0.0,1.0]/table_test.loc['All','All']\n",
    "test_tII_errors = table_test.loc[1.0,0.0]/table_test.loc['All','All']\n",
    "\n",
    "print((\n",
    "'lossfunction={}\\n'\n",
    "'maxdepth={}\\n'\n",
    "'estimators={}\\n'\n",
    "'Training set accuracy:\\n'\n",
    "'Percent Type I errors: {}\\n'\n",
    "'Percent Type II errors: {}\\n'\n",
    "'Test set accuracy:\\n'\n",
    "'Percent Type I errors: {}\\n'\n",
    "'Percent Type II errors: {}\\n\\n'\n",
    ").format(l, 4, 600, train_tI_errors, train_tII_errors, test_tI_errors, test_tII_errors))\n",
    "    "
   ]
  },
  {
   "cell_type": "code",
   "execution_count": 49,
   "metadata": {},
   "outputs": [
    {
     "data": {
      "text/plain": [
       "0.7324332617367291"
      ]
     },
     "execution_count": 49,
     "metadata": {},
     "output_type": "execute_result"
    }
   ],
   "source": [
    "clf.score(X_test, y_test)"
   ]
  },
  {
   "cell_type": "code",
   "execution_count": 44,
   "metadata": {},
   "outputs": [
    {
     "data": {
      "text/plain": [
       "array([0.7607362 , 0.69815951, 0.7398773 , 0.73050952, 0.69164619])"
      ]
     },
     "execution_count": 44,
     "metadata": {},
     "output_type": "execute_result"
    }
   ],
   "source": [
    "from sklearn.model_selection import cross_val_score\n",
    "cross_val_score(clf, X, y, cv=5)"
   ]
  },
  {
   "cell_type": "markdown",
   "metadata": {},
   "source": [
    "# Discussion:\n",
    "\n",
    "Here is a summary of the changes that we've made :\n",
    "\n",
    "Training set accuracy:\n",
    "Percent Type I errors: 0.04650845608292417 ----> 0.008\n",
    "Percent Type II errors: 0.17607746863066012 ----> 0.074\n",
    "\n",
    "Test set accuracy:\n",
    "Percent Type I errors: 0.06257668711656442  ---> 0.08\n",
    "Percent Type II errors: 0.18527607361963191 ---> 0.185\n",
    "\n",
    "Our model looks slightly more overfit, but it predicts the whole dataset with greater accuracy."
   ]
  }
 ],
 "metadata": {
  "hide_input": false,
  "kernelspec": {
   "display_name": "Python 3",
   "language": "python",
   "name": "python3"
  },
  "language_info": {
   "codemirror_mode": {
    "name": "ipython",
    "version": 3
   },
   "file_extension": ".py",
   "mimetype": "text/x-python",
   "name": "python",
   "nbconvert_exporter": "python",
   "pygments_lexer": "ipython3",
   "version": "3.7.1"
  },
  "toc": {
   "colors": {
    "hover_highlight": "#DAA520",
    "running_highlight": "#FF0000",
    "selected_highlight": "#FFD700"
   },
   "moveMenuLeft": true,
   "nav_menu": {
    "height": "59px",
    "width": "252px"
   },
   "navigate_menu": true,
   "number_sections": true,
   "sideBar": true,
   "threshold": 4,
   "toc_cell": false,
   "toc_section_display": "block",
   "toc_window_display": false
  }
 },
 "nbformat": 4,
 "nbformat_minor": 2
}
