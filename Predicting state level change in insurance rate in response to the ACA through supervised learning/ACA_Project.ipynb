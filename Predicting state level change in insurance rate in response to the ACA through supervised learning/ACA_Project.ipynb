{
 "cells": [
  {
   "cell_type": "markdown",
   "metadata": {},
   "source": [
    "# What variables differentially affect change in state uninsured rates post Affordable Care Act?"
   ]
  },
  {
   "cell_type": "code",
   "execution_count": 16,
   "metadata": {},
   "outputs": [],
   "source": [
    "import pandas as pd\n",
    "import numpy as np\n",
    "import matplotlib.pyplot as plt\n",
    "import seaborn as sns\n",
    "import re #regular expressions\n",
    "import scipy.stats\n",
    "import datetime as dt\n",
    "%matplotlib inline\n",
    "import math\n",
    "from matplotlib.mlab import PCA as mlabPCA\n",
    "from sklearn  import preprocessing\n",
    "from sklearn.decomposition import PCA \n",
    "from sklearn import ensemble\n",
    "from sklearn.model_selection import cross_val_score, GridSearchCV"
   ]
  },
  {
   "cell_type": "code",
   "execution_count": 163,
   "metadata": {},
   "outputs": [
    {
     "data": {
      "text/html": [
       "<script>\n",
       "code_show=true; \n",
       "function code_toggle() {\n",
       " if (code_show){\n",
       " $('div.input').hide();\n",
       " } else {\n",
       " $('div.input').show();\n",
       " }\n",
       " code_show = !code_show\n",
       "} \n",
       "$( document ).ready(code_toggle);\n",
       "</script>\n",
       "The raw code for this Jupyter notebook is by default hidden for easier reading.\n",
       "To toggle on/off the raw code, click <a href=\"javascript:code_toggle()\">here</a>."
      ],
      "text/plain": [
       "<IPython.core.display.HTML object>"
      ]
     },
     "execution_count": 163,
     "metadata": {},
     "output_type": "execute_result"
    }
   ],
   "source": [
    "from IPython.display import HTML\n",
    "HTML('''<script>\n",
    "code_show=true; \n",
    "function code_toggle() {\n",
    " if (code_show){\n",
    " $('div.input').hide();\n",
    " } else {\n",
    " $('div.input').show();\n",
    " }\n",
    " code_show = !code_show\n",
    "} \n",
    "$( document ).ready(code_toggle);\n",
    "</script>\n",
    "The raw code for this Jupyter notebook is by default hidden for easier reading.\n",
    "To toggle on/off the raw code, click <a href=\"javascript:code_toggle()\">here</a>.''')"
   ]
  },
  {
   "cell_type": "markdown",
   "metadata": {},
   "source": [
    "The rate of uninsured individuals fell considerably post implementation of the Affordable Care Act. There is large variability in the effect size between states. This project will aim to explore what variables can potentially describe the variance in effect size. Understanding the variance in these changes could inform future legislation and could also be used to target externalities in the provision of healthcare."
   ]
  },
  {
   "cell_type": "code",
   "execution_count": 17,
   "metadata": {},
   "outputs": [],
   "source": [
    "state_aca_df = pd.read_csv('states.csv')"
   ]
  },
  {
   "cell_type": "code",
   "execution_count": 3,
   "metadata": {},
   "outputs": [
    {
     "data": {
      "text/html": [
       "<div>\n",
       "<style scoped>\n",
       "    .dataframe tbody tr th:only-of-type {\n",
       "        vertical-align: middle;\n",
       "    }\n",
       "\n",
       "    .dataframe tbody tr th {\n",
       "        vertical-align: top;\n",
       "    }\n",
       "\n",
       "    .dataframe thead th {\n",
       "        text-align: right;\n",
       "    }\n",
       "</style>\n",
       "<table border=\"1\" class=\"dataframe\">\n",
       "  <thead>\n",
       "    <tr style=\"text-align: right;\">\n",
       "      <th></th>\n",
       "      <th>State</th>\n",
       "      <th>uninsured_rate_2010</th>\n",
       "      <th>uninsured_rate_2015</th>\n",
       "      <th>uninsured_rate_change</th>\n",
       "      <th>insurance_coverage_change</th>\n",
       "      <th>employer_health_coverage_2015</th>\n",
       "      <th>marketplace_health_coverage_2016</th>\n",
       "      <th>marketplace_tax_credits_2016</th>\n",
       "      <th>average_monthly_tax_credit_2016</th>\n",
       "      <th>medicaid_expansion</th>\n",
       "      <th>medicaid_enrollment_2013</th>\n",
       "      <th>medicaid_enrollment_2016</th>\n",
       "      <th>medicaid_enrollment_change</th>\n",
       "      <th>medicare_enrollment_2016</th>\n",
       "    </tr>\n",
       "  </thead>\n",
       "  <tbody>\n",
       "    <tr>\n",
       "      <th>0</th>\n",
       "      <td>Alabama</td>\n",
       "      <td>14.60%</td>\n",
       "      <td>10.10%</td>\n",
       "      <td>-4.50%</td>\n",
       "      <td>215000</td>\n",
       "      <td>2545000</td>\n",
       "      <td>165534</td>\n",
       "      <td>152206</td>\n",
       "      <td>$310</td>\n",
       "      <td>False</td>\n",
       "      <td>799176.0</td>\n",
       "      <td>910775</td>\n",
       "      <td>111599.0</td>\n",
       "      <td>989855</td>\n",
       "    </tr>\n",
       "    <tr>\n",
       "      <th>1</th>\n",
       "      <td>Alaska</td>\n",
       "      <td>19.90%</td>\n",
       "      <td>14.90%</td>\n",
       "      <td>-5%</td>\n",
       "      <td>36000</td>\n",
       "      <td>390000</td>\n",
       "      <td>17995</td>\n",
       "      <td>16205</td>\n",
       "      <td>$750</td>\n",
       "      <td>True</td>\n",
       "      <td>122334.0</td>\n",
       "      <td>166625</td>\n",
       "      <td>44291.0</td>\n",
       "      <td>88966</td>\n",
       "    </tr>\n",
       "    <tr>\n",
       "      <th>2</th>\n",
       "      <td>Arizona</td>\n",
       "      <td>16.90%</td>\n",
       "      <td>10.80%</td>\n",
       "      <td>-6.10%</td>\n",
       "      <td>410000</td>\n",
       "      <td>3288000</td>\n",
       "      <td>179445</td>\n",
       "      <td>124346</td>\n",
       "      <td>$230</td>\n",
       "      <td>True</td>\n",
       "      <td>1201770.0</td>\n",
       "      <td>1716198</td>\n",
       "      <td>514428.0</td>\n",
       "      <td>1175624</td>\n",
       "    </tr>\n",
       "    <tr>\n",
       "      <th>3</th>\n",
       "      <td>Arkansas</td>\n",
       "      <td>17.50%</td>\n",
       "      <td>9.50%</td>\n",
       "      <td>-8%</td>\n",
       "      <td>234000</td>\n",
       "      <td>1365000</td>\n",
       "      <td>63357</td>\n",
       "      <td>56843</td>\n",
       "      <td>$306</td>\n",
       "      <td>True</td>\n",
       "      <td>556851.0</td>\n",
       "      <td>920194</td>\n",
       "      <td>363343.0</td>\n",
       "      <td>606146</td>\n",
       "    </tr>\n",
       "    <tr>\n",
       "      <th>4</th>\n",
       "      <td>California</td>\n",
       "      <td>18.50%</td>\n",
       "      <td>8.60%</td>\n",
       "      <td>-9.90%</td>\n",
       "      <td>3826000</td>\n",
       "      <td>19552000</td>\n",
       "      <td>1415428</td>\n",
       "      <td>1239893</td>\n",
       "      <td>$309</td>\n",
       "      <td>True</td>\n",
       "      <td>7755381.0</td>\n",
       "      <td>11843081</td>\n",
       "      <td>4087700.0</td>\n",
       "      <td>5829777</td>\n",
       "    </tr>\n",
       "  </tbody>\n",
       "</table>\n",
       "</div>"
      ],
      "text/plain": [
       "        State uninsured_rate_2010 uninsured_rate_2015 uninsured_rate_change  \\\n",
       "0    Alabama               14.60%              10.10%                -4.50%   \n",
       "1     Alaska               19.90%              14.90%                   -5%   \n",
       "2    Arizona               16.90%              10.80%                -6.10%   \n",
       "3   Arkansas               17.50%               9.50%                   -8%   \n",
       "4  California              18.50%               8.60%                -9.90%   \n",
       "\n",
       "   insurance_coverage_change  employer_health_coverage_2015  \\\n",
       "0                     215000                        2545000   \n",
       "1                      36000                         390000   \n",
       "2                     410000                        3288000   \n",
       "3                     234000                        1365000   \n",
       "4                    3826000                       19552000   \n",
       "\n",
       "   marketplace_health_coverage_2016  marketplace_tax_credits_2016  \\\n",
       "0                            165534                        152206   \n",
       "1                             17995                         16205   \n",
       "2                            179445                        124346   \n",
       "3                             63357                         56843   \n",
       "4                           1415428                       1239893   \n",
       "\n",
       "  average_monthly_tax_credit_2016  medicaid_expansion  \\\n",
       "0                           $310                False   \n",
       "1                           $750                 True   \n",
       "2                           $230                 True   \n",
       "3                           $306                 True   \n",
       "4                           $309                 True   \n",
       "\n",
       "   medicaid_enrollment_2013  medicaid_enrollment_2016  \\\n",
       "0                  799176.0                    910775   \n",
       "1                  122334.0                    166625   \n",
       "2                 1201770.0                   1716198   \n",
       "3                  556851.0                    920194   \n",
       "4                 7755381.0                  11843081   \n",
       "\n",
       "   medicaid_enrollment_change  medicare_enrollment_2016  \n",
       "0                    111599.0                    989855  \n",
       "1                     44291.0                     88966  \n",
       "2                    514428.0                   1175624  \n",
       "3                    363343.0                    606146  \n",
       "4                   4087700.0                   5829777  "
      ]
     },
     "execution_count": 3,
     "metadata": {},
     "output_type": "execute_result"
    }
   ],
   "source": [
    "state_aca_df.head()"
   ]
  },
  {
   "cell_type": "code",
   "execution_count": 165,
   "metadata": {},
   "outputs": [],
   "source": [
    "#need to convert percentage strings to integer\n",
    "\n",
    "state_aca_df['uninsured_rate_change']=state_aca_df.uninsured_rate_change.str.replace(\"%\", \"\")\n",
    "\n",
    "state_aca_df['uninsured_rate_change']=state_aca_df['uninsured_rate_change'].apply(pd.to_numeric)\n",
    "\n",
    "state_aca_df['uninsured_rate_2010']=state_aca_df.uninsured_rate_2010.str.replace(\"%\", \"\")\n",
    "\n",
    "state_aca_df['uninsured_rate_2010']=state_aca_df['uninsured_rate_2010'].apply(pd.to_numeric)\n",
    "\n",
    "state_aca_df['uninsured_rate_2015']=state_aca_df.uninsured_rate_2015.str.replace(\"%\", \"\")\n",
    "\n",
    "state_aca_df['uninsured_rate_2015']=state_aca_df['uninsured_rate_2015'].apply(pd.to_numeric)\n",
    "\n",
    "#quick check\n",
    "\n",
    "#state_aca_df.head()\n"
   ]
  },
  {
   "cell_type": "markdown",
   "metadata": {},
   "source": [
    "------------------------------------------------------------------------------------------------------\n",
    "\n",
    "------------------------------------------------------------------------------------------------------\n",
    "------------------------------------------------------------------------------------------------------\n",
    "\n",
    "------------------------------------------------------------------------------------------------------"
   ]
  },
  {
   "cell_type": "markdown",
   "metadata": {},
   "source": [
    "## Feature Engineering and cleaning"
   ]
  },
  {
   "cell_type": "code",
   "execution_count": 19,
   "metadata": {},
   "outputs": [
    {
     "name": "stdout",
     "output_type": "stream",
     "text": [
      "0     0\n",
      "1     0\n",
      "2     0\n",
      "3     1\n",
      "4     2\n",
      "5     1\n",
      "6     1\n",
      "7     2\n",
      "8     1\n",
      "9     1\n",
      "10    1\n",
      "11    2\n",
      "12    1\n",
      "13    2\n",
      "14    0\n",
      "15    1\n",
      "16    0\n",
      "17    1\n",
      "18    1\n",
      "19    2\n",
      "20    2\n",
      "21    1\n",
      "22    2\n",
      "23    1\n",
      "24    1\n",
      "25    1\n",
      "26    0\n",
      "27    0\n",
      "28    1\n",
      "29    2\n",
      "30    2\n",
      "31    2\n",
      "32    2\n",
      "33    1\n",
      "34    0\n",
      "35    1\n",
      "36    1\n",
      "37    2\n",
      "38    2\n",
      "39    2\n",
      "40    1\n",
      "41    0\n",
      "42    0\n",
      "43    1\n",
      "44    0\n",
      "45    2\n",
      "46    1\n",
      "47    2\n",
      "48    1\n",
      "49    1\n",
      "50    0\n",
      "Name: political_lean, dtype: object\n"
     ]
    }
   ],
   "source": [
    "#create variable that describes politcal lean of state\n",
    "#data taken from https://news.gallup.com/poll/181475/massachusetts-maryland-democratic-states.aspx?utm_source=Politics&utm_medium=newsfeed&utm_campaign=tiles\n",
    "state_aca_df['State']=state_aca_df.State.str.replace(\" \", \"\")\n",
    "state_aca_df['State']=state_aca_df.State.str.lower()\n",
    "\n",
    "#Create new binrary variable for political lean\n",
    "#state_aca_df['political_lean']=np.where((state_aca_df['State'].isin(['california','washington','newmexico',\n",
    "                                                                     #'michigan','illinois','oregon','pennsylvania', 'newyork',\n",
    "                                                                     #'maryland','delaware','newjersey','conneticut','rhodeisland',\n",
    "                                                                     #'massacheusets','vermont','newhampshire','maine','hawaii'])), 1, 0)\n",
    "\n",
    "#might be better to create a categorical variable that includes neutral states\n",
    "political_lean=[]\n",
    "\n",
    "for row in state_aca_df['State']:\n",
    "    # if more than a value,\n",
    "    if row in ['california','washington','newmexico','michigan','illinois','oregon','pennsylvania', 'newyork',\n",
    "               'maryland','delaware','newjersey','conneticut','rhodeisland','massacheusets','vermont','newhampshire','maine','hawaii']:\n",
    "        # Append a scaled variable where 2=left leaning\n",
    "        political_lean.append('2')\n",
    "    # else, if more than a value,\n",
    "    elif row in ['alaska','utah','wyoming','indiana','arizona','tennessee','montana','northdakota','southdakota','nebraska','kansas','mississipi','alabama']:\n",
    "        # Append a scaled variable where 0= right leaning\n",
    "        political_lean.append('0')\n",
    "    # append a scaled variable where 1=neutral political lean\n",
    "    else:\n",
    "        political_lean.append('1')\n",
    "    #create a column based on this output\n",
    "state_aca_df['political_lean'] = political_lean\n",
    "            \n",
    "            \n",
    "#quick check\n",
    "print(state_aca_df['political_lean'])"
   ]
  },
  {
   "cell_type": "code",
   "execution_count": 20,
   "metadata": {},
   "outputs": [],
   "source": [
    "#type above is an object..need to cast that to an integer\n",
    "\n",
    "state_aca_df['political_lean']=state_aca_df['political_lean'].apply(pd.to_numeric)\n",
    "\n",
    "#create a variable that describes state GDP per capita\n",
    "\n",
    "gdp_per_cap_df = pd.read_csv('gdp_per_capita_USA_2010_2015.csv')\n",
    "\n",
    "state_aca_df['gdppercap_2010']=gdp_per_cap_df['gdppercap_2010']\n",
    "state_aca_df['gdppercap_2011']=gdp_per_cap_df['gdppercap_2011']\n",
    "state_aca_df['gdppercap_2012']=gdp_per_cap_df['gdppercap_2012']\n",
    "state_aca_df['gdppercap_2013']=gdp_per_cap_df['gdppercap_2013']\n",
    "state_aca_df['gdppercap_2014']=gdp_per_cap_df['gdppercap_2014']\n",
    "state_aca_df['gdppercap_2015']=gdp_per_cap_df['gdppercap_2015']\n",
    "\n",
    "#KFF.org has a lot of descriptive data on state healthcare status, i'm going to add some of that data for future analyses\n",
    "\n",
    "kff_df= pd.read_csv('kff_data.csv')\n",
    "#remove $ signs\n",
    "kff_df['health_expense_per_cap_2014']=kff_df.health_expense_per_cap_2014.str.replace(\"$\", \"\")\n",
    "kff_df['health_expense_per_cap_2013']=kff_df.health_expense_per_cap_2013.str.replace(\"$\", \"\")\n",
    "kff_df['health_expense_per_cap_2012']=kff_df.health_expense_per_cap_2012.str.replace(\"$\", \"\")\n",
    "kff_df['health_expense_per_cap_2011']=kff_df.health_expense_per_cap_2011.str.replace(\"$\", \"\")\n",
    "kff_df['health_expense_per_cap_2010']=kff_df.health_expense_per_cap_2010.str.replace(\"$\", \"\")\n",
    "kff_df['health_expense_per_cap_2009']=kff_df.health_expense_per_cap_2009.str.replace(\"$\", \"\")\n",
    "kff_df['private_health_insurance_spending_millions']=kff_df.private_health_insurance_spending_millions.str.replace(\"$\", \"\")\n",
    "#remove ,\n",
    "kff_df['health_expense_per_cap_2014']=kff_df.health_expense_per_cap_2014.str.replace(\",\", \"\")\n",
    "kff_df['health_expense_per_cap_2013']=kff_df.health_expense_per_cap_2013.str.replace(\",\", \"\")\n",
    "kff_df['health_expense_per_cap_2012']=kff_df.health_expense_per_cap_2012.str.replace(\",\", \"\")\n",
    "kff_df['health_expense_per_cap_2011']=kff_df.health_expense_per_cap_2011.str.replace(\",\", \"\")\n",
    "kff_df['health_expense_per_cap_2010']=kff_df.health_expense_per_cap_2010.str.replace(\",\", \"\")\n",
    "kff_df['health_expense_per_cap_2009']=kff_df.health_expense_per_cap_2009.str.replace(\",\", \"\")\n",
    "kff_df['private_health_insurance_spending_millions']=kff_df.private_health_insurance_spending_millions.str.replace(\",\", \"\")\n",
    "#create corresponding variables in original database\n",
    "state_aca_df['health_expense_per_cap_2014']=kff_df['health_expense_per_cap_2014'].apply(pd.to_numeric)\n",
    "state_aca_df['health_expense_per_cap_2013']=kff_df['health_expense_per_cap_2013'].apply(pd.to_numeric)\n",
    "state_aca_df['health_expense_per_cap_2012']=kff_df['health_expense_per_cap_2012'].apply(pd.to_numeric)\n",
    "state_aca_df['health_expense_per_cap_2011']=kff_df['health_expense_per_cap_2011'].apply(pd.to_numeric)\n",
    "state_aca_df['health_expense_per_cap_2010']=kff_df['health_expense_per_cap_2010'].apply(pd.to_numeric)\n",
    "state_aca_df['health_expense_per_cap_2009']=kff_df['health_expense_per_cap_2009'].apply(pd.to_numeric)\n",
    "state_aca_df['private_health_insurance_spending_millions']=kff_df['private_health_insurance_spending_millions'].apply(pd.to_numeric)\n",
    "\n",
    "#add federal poverty line distributions for each state\n",
    "state_aca_df['2015_under_fed_pl']=kff_df['2015_under_fed_pl']\n",
    "state_aca_df['2010_under_fed_pl']=kff_df['2010_under_fed_pl']\n",
    "\n",
    "state_aca_df['2015_100_199_fedpl']=kff_df['2015_100_199_fedpl']\n",
    "state_aca_df['2010_100_199_fedpl']=kff_df['2010_100_199_fedpl']\n",
    "\n",
    "state_aca_df['2015_200_399_fedpl']=kff_df['2015_200_399_fedpl']\n",
    "state_aca_df['2010_200_399_fedpl']=kff_df['2010_200_399_fedpl']\n",
    "\n",
    "state_aca_df['2015_over400_pl']=kff_df['2015_over400_pl']\n",
    "state_aca_df['2010_over400_pl']=kff_df['2010_over400_pl']"
   ]
  },
  {
   "cell_type": "code",
   "execution_count": 21,
   "metadata": {},
   "outputs": [],
   "source": [
    "#cleaning I missed\n",
    "\n",
    "state_aca_df['average_monthly_tax_credit_2016']=state_aca_df['average_monthly_tax_credit_2016'].str.replace(\"$\", \"\")\n",
    "state_aca_df['average_monthly_tax_credit_2016']=state_aca_df['average_monthly_tax_credit_2016'].apply(pd.to_numeric)"
   ]
  },
  {
   "cell_type": "markdown",
   "metadata": {},
   "source": [
    "------------------------------------------------------------------------------------------------------\n",
    "\n",
    "------------------------------------------------------------------------------------------------------\n",
    "------------------------------------------------------------------------------------------------------\n",
    "\n",
    "------------------------------------------------------------------------------------------------------"
   ]
  },
  {
   "cell_type": "markdown",
   "metadata": {},
   "source": [
    "# Data Exploration\n",
    "\n",
    "First we need to take a look at variance and distribution of effect size in rate change and which variables correlated with this rate change."
   ]
  },
  {
   "cell_type": "markdown",
   "metadata": {},
   "source": [
    "## How does the uninsured rate and the change in uninsured rate pre and post ACA vary by state?"
   ]
  },
  {
   "cell_type": "code",
   "execution_count": 153,
   "metadata": {},
   "outputs": [
    {
     "name": "stderr",
     "output_type": "stream",
     "text": [
      "D:\\Anaconda\\lib\\site-packages\\IPython\\core\\display.py:689: UserWarning:\n",
      "\n",
      "Consider using IPython.display.IFrame instead\n",
      "\n"
     ]
    },
    {
     "data": {
      "text/html": [
       "<iframe id=\"igraph\" scrolling=\"no\" style=\"border:none;\" seamless=\"seamless\" src=\"https://plot.ly/~mcmanusdatascience/10.embed\" height=\"525px\" width=\"100%\"></iframe>"
      ],
      "text/plain": [
       "<chart_studio.tools.PlotlyDisplay object>"
      ]
     },
     "execution_count": 153,
     "metadata": {},
     "output_type": "execute_result"
    }
   ],
   "source": [
    "import plotly.plotly as py\n",
    "import plotly.graph_objs as go\n",
    "\n",
    "import numpy as np\n",
    "\n",
    "\n",
    "data = [go.Histogram(x=state_aca_df['uninsured_rate_change'])]\n",
    "\n",
    "nbinsx=12\n",
    "\n",
    "layout = go.Layout(\n",
    "    title='Distribution of change in % individuals uninsured by state',\n",
    "    xaxis=dict(\n",
    "        title='Change in % of individuals uninsured'\n",
    "    ),\n",
    "    yaxis=dict(\n",
    "        title='# of states'\n",
    "    ),\n",
    "    bargap=0.1,\n",
    "    bargroupgap=0.1\n",
    ")\n",
    "fig = go.Figure(data=data, layout=layout)\n",
    "py.iplot(fig, filename='styled histogram')\n"
   ]
  },
  {
   "cell_type": "code",
   "execution_count": 161,
   "metadata": {},
   "outputs": [
    {
     "name": "stderr",
     "output_type": "stream",
     "text": [
      "D:\\Anaconda\\lib\\site-packages\\IPython\\core\\display.py:689: UserWarning:\n",
      "\n",
      "Consider using IPython.display.IFrame instead\n",
      "\n"
     ]
    },
    {
     "data": {
      "text/html": [
       "<iframe id=\"igraph\" scrolling=\"no\" style=\"border:none;\" seamless=\"seamless\" src=\"https://plot.ly/~mcmanusdatascience/32.embed\" height=\"525px\" width=\"100%\"></iframe>"
      ],
      "text/plain": [
       "<chart_studio.tools.PlotlyDisplay object>"
      ]
     },
     "execution_count": 161,
     "metadata": {},
     "output_type": "execute_result"
    }
   ],
   "source": [
    "trace1 = go.Histogram(\n",
    "    x=state_aca_df['uninsured_rate_2010'],\n",
    "    opacity=0.6,\n",
    "    name = '2010 % individuals uninsured',\n",
    "    xbins=dict(\n",
    "        size=1\n",
    "    )\n",
    ")\n",
    "trace2 = go.Histogram(\n",
    "    x=state_aca_df['uninsured_rate_2015'],\n",
    "    opacity=0.75,\n",
    "    name = '2015 % individuals uninsured',\n",
    "    xbins=dict(\n",
    "        size=1\n",
    "    )\n",
    ")\n",
    "\n",
    "data = [trace1, trace2]\n",
    "layout = go.Layout(barmode='overlay', title = 'Distribution of uninsured rate by state in 2010 and 2015' )\n",
    "\n",
    "\n",
    "fig = go.Figure(data=data, layout=layout)\n",
    "\n",
    "py.iplot(fig, filename='overlaid histogram')"
   ]
  },
  {
   "cell_type": "markdown",
   "metadata": {},
   "source": [
    "The data looks normally distributed as expected. The range in rate change is from -10.0% to +5.0%. By eye, it is hard to tell if the variance in uninsured rates is consistent between pre and post ACA measures. Let's take a closer look at the descriptive statistical variables to ensure that this is the case."
   ]
  },
  {
   "cell_type": "code",
   "execution_count": 167,
   "metadata": {},
   "outputs": [
    {
     "name": "stdout",
     "output_type": "stream",
     "text": [
      "count    51.000000\n",
      "mean     -5.433333\n",
      "std       2.133229\n",
      "min     -10.300000\n",
      "25%      -6.600000\n",
      "50%      -5.000000\n",
      "75%      -3.950000\n",
      "max      -1.600000\n",
      "Name: uninsured_rate_change, dtype: float64\n"
     ]
    }
   ],
   "source": [
    "print(state_aca_df['uninsured_rate_change'].describe())"
   ]
  },
  {
   "cell_type": "markdown",
   "metadata": {},
   "source": [
    "The mean and 50% percentile are quite close together. Let's take a quick look at how the states below and above the 50% percentile compare to each other:"
   ]
  },
  {
   "cell_type": "code",
   "execution_count": 171,
   "metadata": {},
   "outputs": [
    {
     "name": "stdout",
     "output_type": "stream",
     "text": [
      "       uninsured_rate_2010  uninsured_rate_2015  uninsured_rate_change  \\\n",
      "count             25.00000             25.00000              25.000000   \n",
      "mean              11.01600              7.26400              -3.752000   \n",
      "std                2.69887              2.47805               0.979847   \n",
      "min                4.40000              2.80000              -4.800000   \n",
      "25%                9.30000              5.70000              -4.500000   \n",
      "50%               11.10000              7.10000              -3.900000   \n",
      "75%               13.20000              9.10000              -3.400000   \n",
      "max               15.30000             11.50000              -1.600000   \n",
      "\n",
      "       insurance_coverage_change  employer_health_coverage_2015  \\\n",
      "count                  25.000000                   2.500000e+01   \n",
      "mean               181440.000000                   2.655640e+06   \n",
      "std                203192.658988                   2.540824e+06   \n",
      "min                 15000.000000                   3.350000e+05   \n",
      "25%                 35000.000000                   7.020000e+05   \n",
      "50%                132000.000000                   1.897000e+06   \n",
      "75%                250000.000000                   3.521000e+06   \n",
      "max                939000.000000                   1.089500e+07   \n",
      "\n",
      "       marketplace_health_coverage_2016  marketplace_tax_credits_2016  \\\n",
      "count                         25.000000                     25.000000   \n",
      "mean                      132652.760000                 106874.040000   \n",
      "std                       114297.225363                  94345.813789   \n",
      "min                        13313.000000                   1224.000000   \n",
      "25%                        27883.000000                  22005.000000   \n",
      "50%                        89566.000000                  75815.000000   \n",
      "75%                       224014.000000                 157751.000000   \n",
      "max                       412347.000000                 321345.000000   \n",
      "\n",
      "       average_monthly_tax_credit_2016  medicaid_enrollment_2013  \\\n",
      "count                        25.000000              2.300000e+01   \n",
      "mean                        280.960000              8.645080e+05   \n",
      "std                          64.592621              1.189123e+06   \n",
      "min                         178.000000              6.751800e+04   \n",
      "25%                         247.000000              2.295550e+05   \n",
      "50%                         296.000000              4.935150e+05   \n",
      "75%                         315.000000              9.604825e+05   \n",
      "max                         459.000000              5.678417e+06   \n",
      "\n",
      "       medicaid_enrollment_2016  ...  2015_over400_pl  2010_over400_pl  \\\n",
      "count              2.500000e+01  ...        25.000000        25.000000   \n",
      "mean               9.892520e+05  ...         0.432800         0.404800   \n",
      "std                1.324324e+06  ...         0.073797         0.075229   \n",
      "min                6.358300e+04  ...         0.310000         0.290000   \n",
      "25%                2.427020e+05  ...         0.380000         0.350000   \n",
      "50%                6.190550e+05  ...         0.440000         0.390000   \n",
      "75%                1.051509e+06  ...         0.490000         0.460000   \n",
      "max                6.431165e+06  ...         0.540000         0.530000   \n",
      "\n",
      "       medicaidXpolitics  2015_under199_fed_pl  2015_over200_fed_pl  \\\n",
      "count          25.000000              25.00000            25.000000   \n",
      "mean           14.040000               0.25680             0.744800   \n",
      "std             0.840635               0.04679             0.046018   \n",
      "min            13.000000               0.18000             0.630000   \n",
      "25%            13.000000               0.23000             0.720000   \n",
      "50%            14.000000               0.26000             0.740000   \n",
      "75%            15.000000               0.28000             0.780000   \n",
      "max            15.000000               0.38000             0.820000   \n",
      "\n",
      "       ratio_rich_to_poor        PC1        PC2        PC3  \\\n",
      "count           25.000000  25.000000  25.000000  25.000000   \n",
      "mean             3.019024  -0.951646  -0.264420   0.018599   \n",
      "std              0.697457   1.492696   1.014508   0.582524   \n",
      "min              1.657895  -3.361404  -1.819128  -1.023254   \n",
      "25%              2.571429  -1.889872  -1.077034  -0.291456   \n",
      "50%              2.846154  -1.032225  -0.376011  -0.138211   \n",
      "75%              3.391304   0.110051   0.696387   0.215116   \n",
      "max              4.555556   2.508151   1.279851   1.674926   \n",
      "\n",
      "       uninsured_change_cat  \n",
      "count             25.000000  \n",
      "mean               3.040000  \n",
      "std                1.428286  \n",
      "min                1.000000  \n",
      "25%                2.000000  \n",
      "50%                3.000000  \n",
      "75%                4.000000  \n",
      "max                5.000000  \n",
      "\n",
      "[8 rows x 42 columns]\n"
     ]
    }
   ],
   "source": [
    "lowestchange_df = state_aca_df[state_aca_df['uninsured_rate_change'] > -5]\n",
    "highestchange_df = state_aca_df[state_aca_df['uninsured_rate_change'] < -5]\n",
    "\n",
    "print(lowestchange_df.describe())\n"
   ]
  },
  {
   "cell_type": "code",
   "execution_count": 172,
   "metadata": {},
   "outputs": [
    {
     "name": "stdout",
     "output_type": "stream",
     "text": [
      "       uninsured_rate_2010  uninsured_rate_2015  uninsured_rate_change  \\\n",
      "count            24.000000            24.000000              24.000000   \n",
      "mean             16.987500             9.766667              -7.220833   \n",
      "std               3.045497             3.032816               1.570926   \n",
      "min              12.200000             5.700000             -10.300000   \n",
      "25%              14.750000             6.900000              -8.150000   \n",
      "50%              17.200000            10.200000              -6.650000   \n",
      "75%              18.275000            11.675000              -5.875000   \n",
      "max              23.700000            17.100000              -5.200000   \n",
      "\n",
      "       insurance_coverage_change  employer_health_coverage_2015  \\\n",
      "count               2.400000e+01                   2.400000e+01   \n",
      "mean                6.177083e+05                   4.315125e+06   \n",
      "std                 8.043126e+05                   4.514756e+06   \n",
      "min                 5.800000e+04                   5.100000e+05   \n",
      "25%                 2.200000e+05                   1.355250e+06   \n",
      "50%                 4.035000e+05                   2.718000e+06   \n",
      "75%                 5.902500e+05                   5.399000e+06   \n",
      "max                 3.826000e+06                   1.955200e+07   \n",
      "\n",
      "       marketplace_health_coverage_2016  marketplace_tax_credits_2016  \\\n",
      "count                      2.400000e+01                  2.400000e+01   \n",
      "mean                       3.173682e+05                  2.745143e+05   \n",
      "std                        4.240745e+05                  3.823468e+05   \n",
      "min                        3.323500e+04                  2.916300e+04   \n",
      "25%                        7.697025e+04                  6.450725e+04   \n",
      "50%                        1.635645e+05                  1.174110e+05   \n",
      "75%                        3.186530e+05                  2.635458e+05   \n",
      "max                        1.531714e+06                  1.428712e+06   \n",
      "\n",
      "       average_monthly_tax_credit_2016  medicaid_enrollment_2013  \\\n",
      "count                        24.000000              2.400000e+01   \n",
      "mean                        284.500000              1.483184e+06   \n",
      "std                          49.112117              1.695182e+06   \n",
      "min                         212.000000              1.489740e+05   \n",
      "25%                         250.000000              5.320578e+05   \n",
      "50%                         269.500000              9.547655e+05   \n",
      "75%                         306.750000              1.674966e+06   \n",
      "max                         401.000000              7.755381e+06   \n",
      "\n",
      "       medicaid_enrollment_2016  ...  2015_over400_pl  2010_over400_pl  \\\n",
      "count              2.400000e+01  ...        24.000000        24.000000   \n",
      "mean               1.993603e+06  ...         0.350833         0.328333   \n",
      "std                2.384779e+06  ...         0.054924         0.049049   \n",
      "min                2.240480e+05  ...         0.250000         0.250000   \n",
      "25%                7.485162e+05  ...         0.310000         0.290000   \n",
      "50%                1.351986e+06  ...         0.340000         0.320000   \n",
      "75%                2.129451e+06  ...         0.372500         0.340000   \n",
      "max                1.184308e+07  ...         0.460000         0.430000   \n",
      "\n",
      "       medicaidXpolitics  2015_under199_fed_pl  2015_over200_fed_pl  \\\n",
      "count          24.000000             24.000000            24.000000   \n",
      "mean           14.166667              0.330833             0.671667   \n",
      "std             0.637022              0.045197             0.045365   \n",
      "min            13.000000              0.240000             0.570000   \n",
      "25%            14.000000              0.307500             0.650000   \n",
      "50%            14.000000              0.335000             0.670000   \n",
      "75%            15.000000              0.352500             0.700000   \n",
      "max            15.000000              0.420000             0.760000   \n",
      "\n",
      "       ratio_rich_to_poor        PC1        PC2        PC3  \\\n",
      "count           24.000000  24.000000  24.000000  24.000000   \n",
      "mean             2.087290   0.982744   0.342186  -0.017511   \n",
      "std              0.442495   1.280004   0.833183   0.402179   \n",
      "min              1.357143  -1.474805  -1.421425  -1.017844   \n",
      "25%              1.844246   0.208596   0.065505  -0.213668   \n",
      "50%              2.000446   1.160431   0.299279  -0.049920   \n",
      "75%              2.276882   1.812691   0.959489   0.336957   \n",
      "max              3.166667   3.403346   1.923393   0.687538   \n",
      "\n",
      "       uninsured_change_cat  \n",
      "count             24.000000  \n",
      "mean               8.291667  \n",
      "std                1.398109  \n",
      "min                6.000000  \n",
      "25%                7.000000  \n",
      "50%                8.500000  \n",
      "75%                9.250000  \n",
      "max               10.000000  \n",
      "\n",
      "[8 rows x 42 columns]\n"
     ]
    }
   ],
   "source": [
    "print(highestchange_df.describe())"
   ]
  },
  {
   "cell_type": "code",
   "execution_count": 23,
   "metadata": {},
   "outputs": [
    {
     "data": {
      "text/plain": [
       "Text(0, 0.5, 'Change in % Uninsured')"
      ]
     },
     "execution_count": 23,
     "metadata": {},
     "output_type": "execute_result"
    },
    {
     "data": {
      "image/png": "[encoded data removed]",
      "text/plain": [
       "<Figure size 1296x432 with 2 Axes>"
      ]
     },
     "metadata": {
      "needs_background": "light"
     },
     "output_type": "display_data"
    }
   ],
   "source": [
    "plt.figure(figsize=(18,6))\n",
    "\n",
    "plt.subplot(1, 2, 1)\n",
    "plt.suptitle('Correlation between % change and state level poverty line distributions in 2015')\n",
    "sns.set(style=\"darkgrid\")\n",
    "sns.regplot(state_aca_df['2015_under_fed_pl'], state_aca_df['uninsured_rate_change'])\n",
    "plt.title('Change in % Uninsured X distribution of individuals under federal poverty line', fontsize=14)\n",
    "plt.xlabel('State level distribution of individuals under federal poverty line')\n",
    "plt.ylabel('Change in % Uninsured')\n",
    "\n",
    "plt.subplot(1, 2, 2)\n",
    "sns.set(style=\"darkgrid\")\n",
    "sns.regplot(state_aca_df['2015_100_199_fedpl'], state_aca_df['uninsured_rate_change'])\n",
    "plt.title('Change in % Uninsured X distribution of individuals within 100-199% of federal poverty line', fontsize=14)\n",
    "plt.xlabel('State level distribution of individuals within 100 and 199% of federal poverty line')\n",
    "plt.ylabel('Change in % Uninsured')"
   ]
  },
  {
   "cell_type": "code",
   "execution_count": 9,
   "metadata": {},
   "outputs": [
    {
     "name": "stdout",
     "output_type": "stream",
     "text": [
      "State Uninsured Rate stats - 2010\n",
      "count    51.000000\n",
      "mean     14.154902\n",
      "std       4.201300\n",
      "min       4.400000\n",
      "25%      11.200000\n",
      "50%      14.200000\n",
      "75%      17.400000\n",
      "max      23.700000\n",
      "Name: uninsured_rate_2010, dtype: float64\n",
      "\n",
      "\n",
      "State Uninsured Rate stats - 2015\n",
      "count    51.000000\n",
      "mean      8.721569\n",
      "std       3.172527\n",
      "min       2.800000\n",
      "25%       6.200000\n",
      "50%       8.600000\n",
      "75%      10.900000\n",
      "max      17.100000\n",
      "Name: uninsured_rate_2015, dtype: float64\n",
      "\n",
      "\n",
      "Coefficient of Variation for Uninsured Rate in 2010\n",
      "0.2936371081145176\n",
      "\n",
      "\n",
      "Coefficient of Variation for Uninsured Rate in 2015\n",
      "0.3597958238571477\n"
     ]
    }
   ],
   "source": [
    "print('State Uninsured Rate stats - 2010')\n",
    "print(state_aca_df['uninsured_rate_2010'].describe())\n",
    "print(\"\\n\")\n",
    "print('State Uninsured Rate stats - 2015')\n",
    "print(state_aca_df['uninsured_rate_2015'].describe())\n",
    "\n",
    "#Ratio of stf to mean pre and post ACA\n",
    "print(\"\\n\")\n",
    "print('Coefficient of Variation for Uninsured Rate in 2010')\n",
    "print(4.164/14.180769)\n",
    "print(\"\\n\")\n",
    "print('Coefficient of Variation for Uninsured Rate in 2015')\n",
    "print(3.142678/8.734615)"
   ]
  },
  {
   "cell_type": "markdown",
   "metadata": {},
   "source": [
    "As expected there is larger relative variance in the state Uninsured Rate in 2015 as compared to 2010. This suggests that the effect of ACA wasn't homogenous among states. This is further corroborated by the distribution in Plot 1.\n",
    "\n",
    "Accordingly, it should be investigated if there are any variables that predict the variance in effect size. Before this, it would be prudent to feature engineere some additional variables into this dataset."
   ]
  },
  {
   "cell_type": "markdown",
   "metadata": {},
   "source": [
    "## What variables associate with the change in % uninsured pre and post-ACA"
   ]
  },
  {
   "cell_type": "code",
   "execution_count": 24,
   "metadata": {},
   "outputs": [
    {
     "data": {
      "text/plain": [
       "Text(0, 0.5, 'Change in % Uninsured')"
      ]
     },
     "execution_count": 24,
     "metadata": {},
     "output_type": "execute_result"
    },
    {
     "data": {
      "image/png": "[encoded data removed]",
      "text/plain": [
       "<Figure size 1296x432 with 2 Axes>"
      ]
     },
     "metadata": {},
     "output_type": "display_data"
    }
   ],
   "source": [
    "pol_labels= ['Republican leaning state', 'Purple state', 'Democrat leaning state']\n",
    "color_scheme= ['#E63946', 'darkorchid', 'mediumblue']\n",
    "binary_scheme = ['#E63946','mediumblue']\n",
    "\n",
    "\n",
    "plt.figure(figsize=(18,6))\n",
    "\n",
    "plt.subplot(1, 2, 1)\n",
    "sns.set(style=\"darkgrid\")\n",
    "sns.barplot(state_aca_df.medicaid_expansion, state_aca_df.uninsured_rate_change, palette=binary_scheme)\n",
    "plt.title('Average % change in uninsured individuals by state Medicaid Expansion Status', fontsize=14)\n",
    "plt.xlabel('State Medicaid Expansion Status')\n",
    "plt.ylabel('Change in % Uninsured')\n",
    "\n",
    "plt.subplot(1, 2, 2)\n",
    "sns.set(style=\"darkgrid\")\n",
    "sns.barplot(state_aca_df.political_lean, state_aca_df.uninsured_rate_change, palette=color_scheme)\n",
    "plt.title('Average % change in uninsured individuals by state Political Identity', fontsize=14)\n",
    "plt.xlabel('State Political Identity')\n",
    "plt.xticks([0,1,2], labels=pol_labels)\n",
    "plt.ylabel('Change in % Uninsured')\n",
    "\n"
   ]
  },
  {
   "cell_type": "code",
   "execution_count": 11,
   "metadata": {},
   "outputs": [
    {
     "data": {
      "image/png": "[encoded data removed]",
      "text/plain": [
       "<Figure size 432x288 with 1 Axes>"
      ]
     },
     "metadata": {},
     "output_type": "display_data"
    }
   ],
   "source": [
    "sns.swarmplot(x=\"political_lean\", y=\"uninsured_rate_change\", hue=\"medicaid_expansion\",\n",
    "              palette=['#E63946','mediumblue'], data=state_aca_df)\n",
    "sns.set(style=\"darkgrid\")\n",
    "plt.title('Average % change in uninsured individuals by state Political Identity', fontsize=14)\n",
    "plt.xlabel('State Political Identity')\n",
    "plt.xticks([0,1,2], labels=pol_labels)\n",
    "plt.ylabel('Change in % Uninsured')\n",
    "plt.show()"
   ]
  },
  {
   "cell_type": "code",
   "execution_count": null,
   "metadata": {},
   "outputs": [],
   "source": []
  },
  {
   "cell_type": "markdown",
   "metadata": {},
   "source": [
    "The results suggest that state Medicaid Expansion Status and state political leaning correlate with differences in the change in % of individual's uninsured in those states. These differences should be investigated by statistical analysis in order to establish if they reach statistical significance. Before we go any further, let's investigate what other variables in this dataset correlate together.\n",
    "\n",
    "It also seems that Medicaid Expansion status has high degree of co-variance with state political lean.\n"
   ]
  },
  {
   "cell_type": "code",
   "execution_count": 12,
   "metadata": {},
   "outputs": [
    {
     "data": {
      "image/png": "[encoded data removed]",
      "text/plain": [
       "<Figure size 864x648 with 2 Axes>"
      ]
     },
     "metadata": {},
     "output_type": "display_data"
    },
    {
     "name": "stdout",
     "output_type": "stream",
     "text": [
      "uninsured_rate_2010                -0.677093\n",
      "uninsured_rate_2015                -0.224251\n",
      "uninsured_rate_change               1.000000\n",
      "insurance_coverage_change          -0.454530\n",
      "employer_health_coverage_2015      -0.277582\n",
      "marketplace_health_coverage_2016   -0.305778\n",
      "marketplace_tax_credits_2016       -0.304350\n",
      "average_monthly_tax_credit_2016     0.064360\n",
      "medicaid_expansion                 -0.259846\n",
      "medicaid_enrollment_2013           -0.267051\n",
      "medicaid_enrollment_2016           -0.344929\n",
      "medicaid_enrollment_change         -0.441360\n",
      "medicare_enrollment_2016           -0.308899\n",
      "Name: uninsured_rate_change, dtype: float64\n"
     ]
    }
   ],
   "source": [
    "# Make the correlation matrix.\n",
    "corrmatrix = state_aca_df.corr()\n",
    "\n",
    "# Set up the matplotlib figure.\n",
    "f, ax = plt.subplots(figsize=(12, 9))\n",
    "\n",
    "# Draw the heatmap using seaborn.\n",
    "sns.heatmap(corrmatrix, vmax=.8, square=True, cmap='coolwarm')\n",
    "plt.show()\n",
    "\n",
    "print(corrmatrix['uninsured_rate_change'])"
   ]
  },
  {
   "cell_type": "markdown",
   "metadata": {},
   "source": [
    "It seems that most of the variables in this dataset, with the exception of the data on the distribution of individuals within 200% to 399% of the federal poverty line (2015_200_399_fedpl and 2010_200_399_fedpl) are either weakly or moderately correlated with the % change in insurance rate. There are a number of variables that reach moderate correlation namely:\n",
    "\n",
    "-2010_100_199_fedpl \n",
    "-2015_under_fed_pl \n",
    "-health_expense_per_cap\n",
    "-insurance_coverage_change\n",
    "-uninsured_rate_2010\n",
    "\n",
    "\n",
    "It may be worth plotting a scatterplot to visualize how these variables correlate."
   ]
  },
  {
   "cell_type": "markdown",
   "metadata": {},
   "source": [
    "The data seems to suggest that states with a greater share of individuals under the federal poverty line or within 100% of the federal poverty line, had greater changes in the percentage of uninsured. This seems to suggest that this endevour greatly affected the number of individuals at or near the poverty."
   ]
  },
  {
   "cell_type": "code",
   "execution_count": 14,
   "metadata": {},
   "outputs": [
    {
     "data": {
      "text/plain": [
       "Text(0, 0.5, 'Change in % Uninsured')"
      ]
     },
     "execution_count": 14,
     "metadata": {},
     "output_type": "execute_result"
    },
    {
     "data": {
      "image/png": "[encoded data removed]",
      "text/plain": [
       "<Figure size 1296x432 with 2 Axes>"
      ]
     },
     "metadata": {},
     "output_type": "display_data"
    }
   ],
   "source": [
    "plt.figure(figsize=(18,6))\n",
    "\n",
    "plt.subplot(1, 2, 1)\n",
    "plt.suptitle('Correlation between % change and state level poverty line distributions in 2015')\n",
    "sns.set(style=\"darkgrid\")\n",
    "sns.regplot(state_aca_df['2015_200_399_fedpl'], state_aca_df['uninsured_rate_change'])\n",
    "plt.title('Change in % Uninsured X distribution of individuals within 200-399% federal poverty line', fontsize=14)\n",
    "plt.xlabel('State level distribution of individuals within 200-399% federal poverty line')\n",
    "plt.ylabel('Change in % Uninsured')\n",
    "\n",
    "plt.subplot(1, 2, 2)\n",
    "sns.set(style=\"darkgrid\")\n",
    "sns.regplot(state_aca_df['2015_over400_pl'], state_aca_df['uninsured_rate_change'])\n",
    "plt.title('Change in % Uninsured X distribution of individuals over 400% of federal poverty line', fontsize=14)\n",
    "plt.xlabel('State level distribution of individuals over 400% of federal poverty line')\n",
    "plt.ylabel('Change in % Uninsured')"
   ]
  },
  {
   "cell_type": "markdown",
   "metadata": {},
   "source": [
    "This data however is suggestive that the state level percentage of middle class individuals (left graph) is not predictive of change in percentage uninsured. The states with higher percentages of individuals at 400% above the federal poverty line were negatively associated with changes in % uninsured. This is likely explained by the fact that these states did not have as much room to decrease the percentage of individuals without insurance (wealthy people tend to have health insurance). To compound this the ACA specifically gave marketplace incentives to individuals who fall under 400% of the federal poverty line, but not to those above."
   ]
  },
  {
   "cell_type": "markdown",
   "metadata": {},
   "source": [
    "## What is the correlation between state politics and state federal poverty level distributions?"
   ]
  },
  {
   "cell_type": "code",
   "execution_count": 32,
   "metadata": {},
   "outputs": [
    {
     "data": {
      "text/plain": [
       "[Text(0, 0.5, 'Distribution'), Text(0.5, 0, 'Politcal Lean')]"
      ]
     },
     "execution_count": 32,
     "metadata": {},
     "output_type": "execute_result"
    },
    {
     "data": {
      "image/png": "[encoded data removed]",
      "text/plain": [
       "<Figure size 1296x432 with 3 Axes>"
      ]
     },
     "metadata": {},
     "output_type": "display_data"
    }
   ],
   "source": [
    "\n",
    "plt.figure(figsize=(18,6))\n",
    "plt.suptitle('State level distribution of individuals within specific ranges of federal poverty line by state political lean')\n",
    "plt.subplot(1, 3, 1)\n",
    "ax = sns.boxplot(x='political_lean',y='2015_under_fed_pl',data=state_aca_df, palette=color_scheme)  \n",
    "plt.title('% Individuals under federal poverty line')\n",
    "sns.despine(offset=10, trim=True)\n",
    "plt.xticks([0,1,2], labels=pol_labels)\n",
    "ax.set(xlabel='Politcal Lean', ylabel='Distribution')\n",
    "\n",
    "plt.subplot(1, 3, 2)\n",
    "ax = sns.boxplot(x='political_lean',y='2015_100_199_fedpl',data=state_aca_df, palette=color_scheme)  \n",
    "plt.title('% Individuals within 100-199% of federal poverty line')\n",
    "sns.despine(offset=10, trim=True)\n",
    "plt.xticks([0,1,2], labels=pol_labels)\n",
    "ax.set(xlabel='Politcal Lean', ylabel='Distribution')\n",
    "\n",
    "plt.subplot(1, 3, 3)\n",
    "ax = sns.boxplot(x='political_lean',y='2015_over400_pl',data=state_aca_df, palette=color_scheme)  \n",
    "plt.title('% Individuals over 400% of federal poverty line')\n",
    "sns.despine(offset=10, trim=True)\n",
    "plt.xticks([0,1,2], labels=pol_labels)\n",
    "ax.set(xlabel='Politcal Lean', ylabel='Distribution')\n",
    "\n",
    "\n"
   ]
  },
  {
   "cell_type": "markdown",
   "metadata": {},
   "source": [
    "Previous data in this dataset has suggested 3 specific findings:\n",
    "\n",
    "-A negative correlation between % change in uninsured individuals and higher percentages of individuals at 400% or more of federal poverty line\n",
    "-A positive correlation between % change in uninsured individuals and higher percentages of individuals at 100-199% of federal poverty line and below the federal poverty line\n",
    "-Greater decreases in % of uninsured individuals in Democratic states when compared to Republican states.\n",
    "\n",
    "Based on the observations, one might predict that Republican led states could potentially have higher rates of individuals above 400% of the federal poverty line and lower rates of individuals below the 200% and 100% thresholds for the poverty line. In the case of the former (above the 400% threshold), Democratic states in fact have higher levels. Democratic states also have lower numbers of individuals within the 100-200% threshold and a comparable number of individuals below 100% of the federal poverty line. This observations warrant further investigation in order to establish those states which have a high degree of individuals with unmet medical coverage and that will have outsized effects by strategically crafted policy.\n"
   ]
  },
  {
   "cell_type": "markdown",
   "metadata": {},
   "source": [
    "------------------------------------------------------------------------------------------------------------------------------"
   ]
  },
  {
   "cell_type": "markdown",
   "metadata": {},
   "source": [
    "## Preparing dataset for modelling\n",
    "\n",
    "My outcome variable is change in percentage of uninsured individuals (by state) pre and post ACA.\n",
    "\n",
    "My feature variables will include:\n",
    "\n",
    "| Variable name in DF | Description of Variable                                  | Type      |\n",
    "|---------------------|----------------------------------------------------------|-----------|\n",
    "| political_lean      | Political Lean of State                                  | -0.241486 |\n",
    "| 2015_under_fed_pl   | % of individuals under federal poverty line              | -0.432882 |\n",
    "| 2015_100_199_fedpl  | % of individuals within 100-199% of federal poverty line | -0.512616 |\n",
    "| 2015_over400_pl     | % of individuals over 400% of federal poverty line      | 0.404311  |\n",
    "| uninsured_rate_2010 | The uninsured rate in 2010                               | -0.677093 |\n",
    "| gdppercap_2015      | GDP Per Capita in 2015                                   | 0.277     |\n",
    "\n",
    "\n",
    "My ten new features are generated below:"
   ]
  },
  {
   "cell_type": "markdown",
   "metadata": {},
   "source": [
    "## 10 new features"
   ]
  },
  {
   "cell_type": "code",
   "execution_count": 25,
   "metadata": {},
   "outputs": [
    {
     "name": "stderr",
     "output_type": "stream",
     "text": [
      "D:\\Anaconda\\lib\\site-packages\\ipykernel_launcher.py:8: DataConversionWarning: Data with input dtype int64, float64 were all converted to float64 by the scale function.\n",
      "  \n"
     ]
    }
   ],
   "source": [
    "politics_poverty = pd.DataFrame()\n",
    "politics_poverty['political_lean']=state_aca_df['political_lean']\n",
    "politics_poverty['underfpl']=state_aca_df['2015_under_fed_pl']\n",
    "politics_poverty['100199fpl']=state_aca_df['2015_100_199_fedpl']\n",
    "politics_poverty['over400fpl']=state_aca_df['2015_over400_pl']\n",
    "\n",
    "\n",
    "scaled_politics_poverty=preprocessing.scale(politics_poverty)\n",
    "\n",
    "pca = PCA()\n",
    "pca.fit(scaled_politics_poverty)\n",
    "pca_data = pca.transform(scaled_politics_poverty)\n",
    "\n",
    "per_var = np.round(pca.explained_variance_ratio_*100, decimals=1)\n",
    "labels = ['PC' + str(x) for x in range(1, len(per_var)+1)]"
   ]
  },
  {
   "cell_type": "code",
   "execution_count": 26,
   "metadata": {},
   "outputs": [
    {
     "data": {
      "image/png": "[encoded data removed]",
      "text/plain": [
       "<Figure size 432x288 with 1 Axes>"
      ]
     },
     "metadata": {},
     "output_type": "display_data"
    },
    {
     "name": "stdout",
     "output_type": "stream",
     "text": [
      "[[ 2.50815114e+00 -7.85628631e-01  8.56116469e-01 -6.29764062e-02]\n",
      " [-1.41382929e+00 -1.81749310e+00  1.16764887e-01  2.24015408e-01]\n",
      " [ 1.56678130e+00 -1.10336318e+00  3.60417597e-01  6.65105005e-02]\n",
      " [ 2.82469547e+00  5.59917616e-01  1.68225644e-01  1.03626999e-01]\n",
      " [-8.13642558e-02  1.26257574e+00 -2.10244989e-01  4.17196232e-01]\n",
      " [-1.37451159e+00 -4.28342186e-01 -3.94101706e-02 -3.26307476e-02]\n",
      " [-2.79986837e+00 -6.03593150e-01  5.71036758e-01  7.57780018e-02]\n",
      " [-1.23667068e+00  1.05837978e+00  1.29055133e-01 -2.36847819e-01]\n",
      " [-1.54989807e+00 -6.34063282e-02  1.67492607e+00  3.76424163e-01]\n",
      " [ 1.29164399e+00  1.18936687e-01 -2.98786214e-01  2.92587820e-01]\n",
      " [ 1.45345725e+00  2.86441663e-01  3.29137375e-01 -1.52644949e-02]\n",
      " [-2.51855720e+00  7.14315966e-01 -1.38211200e-01 -1.70329075e-01]\n",
      " [ 1.79783326e+00  7.43511218e-02 -1.01784424e+00  4.53530640e-01]\n",
      " [-7.21309907e-01  1.18195312e+00  1.62815537e-01 -2.08886153e-01]\n",
      " [ 1.02921820e+00 -1.32483455e+00 -6.04305872e-02 -1.01315828e-01]\n",
      " [-2.89671497e-01 -2.79420483e-01 -4.21424560e-01 -2.04007659e-01]\n",
      " [ 1.10050697e-01 -1.54467108e+00 -1.69041680e-01  1.68035742e-01]\n",
      " [ 1.85726397e+00  3.82704846e-01  4.03988064e-01 -3.12577731e-01]\n",
      " [ 2.06734123e+00  5.07586064e-01  6.87538141e-01  6.51262543e-02]\n",
      " [-5.01518767e-01  1.01281331e+00 -7.77345143e-01 -3.38211738e-01]\n",
      " [-3.01171564e+00  6.88640641e-01  2.15116175e-01 -5.84260771e-02]\n",
      " [-2.62502428e+00 -5.06349064e-01  8.33229701e-01  4.07715054e-02]\n",
      " [ 2.87209308e-01  1.33120179e+00 -1.56751434e-01 -2.92827485e-01]\n",
      " [-1.88987236e+00 -5.51915532e-01 -7.31705748e-02 -6.05924133e-02]\n",
      " [ 3.40334629e+00  7.53424885e-01  5.05269277e-01 -2.28692733e-01]\n",
      " [ 6.64729170e-01 -3.19468225e-02 -2.91456334e-01 -6.06487477e-02]\n",
      " [ 7.01732350e-01 -1.42142470e+00 -1.97728694e-01  1.08561828e-01]\n",
      " [ 1.86371577e-01 -1.54499805e+00 -2.31489098e-01  8.06001618e-02]\n",
      " [ 1.00524585e+00 -5.61756225e-03 -5.19888873e-01  2.31941439e-03]\n",
      " [-3.36140382e+00  4.94152469e-01 -3.09269711e-01  1.15869157e-02]\n",
      " [-2.38480082e+00  8.39524151e-01  2.07786295e-01  2.94810490e-01]\n",
      " [ 2.37085473e+00  1.92339320e+00  3.65377962e-01 -4.11161589e-02]\n",
      " [-6.99107575e-01  1.27985114e+00  5.49903317e-01 -6.90214902e-02]\n",
      " [ 1.54280896e+00  2.15853806e-01 -9.90406890e-02  1.70145743e-01]\n",
      " [-1.27421836e+00 -1.74788614e+00  3.57600697e-01 -2.23701570e-01]\n",
      " [ 4.99056578e-01  3.89680032e-02  1.99169149e-01 -1.58623406e-01]\n",
      " [ 1.61912984e+00  2.15526838e-01 -1.61488107e-01  8.27101636e-02]\n",
      " [-2.72457081e-02  1.16435075e+00 -6.59780187e-01  1.89895989e-01]\n",
      " [-8.19833118e-01  1.08438207e+00 -1.61824824e-01 -2.61315237e-01]\n",
      " [-1.02659342e+00  1.18326099e+00  4.12605210e-01  1.40856166e-01]\n",
      " [ 1.69545072e+00  2.15199870e-01 -2.23935525e-01 -4.72541623e-03]\n",
      " [ 6.66499185e-01 -1.44906183e+00 -2.19085828e-01 -3.04148654e-01]\n",
      " [ 1.90729799e+00 -1.07703392e+00  1.31985057e-01  1.29478663e-01]\n",
      " [ 9.51127305e-01  9.26074270e-02 -7.03536750e-02  2.29619657e-01]\n",
      " [ 2.40490125e-01 -1.64322304e+00 -6.81024296e-01 -1.46700081e-01]\n",
      " [-1.74817212e+00  6.96386629e-01 -1.02325434e+00  1.41017488e-01]\n",
      " [-1.71502827e+00 -4.54671446e-01  1.89022369e-01 -9.55989097e-02]\n",
      " [-1.47480482e+00  8.91201768e-01 -4.36421038e-01  1.58440075e-01]\n",
      " [ 1.94661569e+00  3.12116988e-01 -2.41900002e-02 -1.27167492e-01]\n",
      " [-6.17157346e-01 -3.76010633e-01 -5.58722667e-01  5.86999691e-03]\n",
      " [-1.03222489e+00 -1.81912793e+00 -1.95472204e-01 -2.13162491e-01]]\n"
     ]
    },
    {
     "data": {
      "image/png": "[encoded data removed]",
      "text/plain": [
       "<Figure size 432x288 with 1 Axes>"
      ]
     },
     "metadata": {},
     "output_type": "display_data"
    },
    {
     "data": {
      "image/png": "[encoded data removed]",
      "text/plain": [
       "<Figure size 432x288 with 1 Axes>"
      ]
     },
     "metadata": {},
     "output_type": "display_data"
    }
   ],
   "source": [
    "plt.bar(x=range(1, len(per_var)+1), height=per_var, tick_label=labels)\n",
    "plt.ylabel('Percentage of variance explained')\n",
    "plt.xlabel('Principal Component')\n",
    "plt.title('Scree plot')\n",
    "plt.show()\n",
    "\n",
    "# at 850 in video www.youtube.com/watch?v=Lsue2gEM9D0\n",
    "print(pca_data)\n",
    "\n",
    "politics_poverty_pca_df = pd.DataFrame(pca_data, columns=labels)\n",
    "\n",
    "plt.scatter(politics_poverty_pca_df.PC1, politics_poverty_pca_df.PC2)\n",
    "plt.title('PCA plot for political lean (PC1) and % under fpl (PC2)')\n",
    "plt.xlabel('PC1')\n",
    "plt.ylabel('PC2')\n",
    "plt.show()\n",
    "\n",
    "plt.scatter(politics_poverty_pca_df.PC2, politics_poverty_pca_df.PC3)\n",
    "plt.title('PCA plot for % under fpl (PC2) and % between 100-199 of FPL (PC3)')\n",
    "plt.xlabel('PC2')\n",
    "plt.ylabel('PC3')\n",
    "plt.show()"
   ]
  },
  {
   "cell_type": "code",
   "execution_count": null,
   "metadata": {},
   "outputs": [],
   "source": [
    "#Medicaid * Politics interaction\n",
    "\n",
    "medicaidXpolitics=state_aca_df['political_lean']\n",
    "\n",
    "for row in state_aca_df['medicaid_expansion']:\n",
    "    if row == False:\n",
    "       #when the row is false, they did not expand medicaid so subtract 1\n",
    "        medicaidXpolitics = medicaidXpolitics - 1\n",
    "    # else add 1 when they expanded medicaid\n",
    "    else:\n",
    "        medicaidXpolitics = medicaidXpolitics + 1\n",
    "\n",
    "state_aca_df['medicaidXpolitics'] = medicaidXpolitics\n",
    "\n",
    "#feature 5 - percentage of individuals under 199% of federal poverty line:\n",
    "\n",
    "state_aca_df['2015_under199_fed_pl'] = state_aca_df['2015_under_fed_pl'] + state_aca_df['2015_100_199_fedpl']\n",
    "\n",
    "#feature 6\n",
    "\n",
    "state_aca_df['2015_over200_fed_pl'] = state_aca_df['2015_200_399_fedpl'] + state_aca_df['2015_over400_pl']\n",
    "\n",
    "#feature 7\n",
    "\n",
    "state_aca_df['ratio_rich_to_poor']=state_aca_df['2015_over200_fed_pl']/state_aca_df['2015_under199_fed_pl']\n",
    "\n",
    "#add PCA results back into original table so we can do a new correlation matrix\n",
    "\n",
    "state_aca_df['PC1']=politics_poverty_pca_df['PC1'].apply(pd.to_numeric)\n",
    "state_aca_df['PC2']=politics_poverty_pca_df['PC2'].apply(pd.to_numeric)\n",
    "state_aca_df['PC3']=politics_poverty_pca_df['PC3'].apply(pd.to_numeric)\n",
    "\n",
    "\n"
   ]
  },
  {
   "cell_type": "markdown",
   "metadata": {},
   "source": [
    "My new features are:\n",
    "\n",
    "1) PC1, 2) PC2, 3) PC3 - the outputs of a PCA (with State Political Lean, % individuals under federal poverty line, between 100-199% of federal poverty line). PC4 was omitted as it was not a significant component of the shared variance within those samples.\n",
    "\n",
    "Reason: Reduces dimensionality, still retains shared variance of the included variables\n",
    "\n",
    "\n",
    "4) Medicaid X Politcs - a scalled categorical variable where:\n",
    "\n",
    "-1: Republican and did not expand medicaid\n",
    "0: Republic or Purple and did not expand medicaid\n",
    "1: Republican that expanded medicaid or purple that did not\n",
    "2: Purple state that expanded medicaid or democratic that did not.\n",
    "3: Democratic state that expanded medicaid\n",
    "\n",
    "Reason: Again, reduces dimensionality and includes the information of these two variables which have a clear interdependence.\n",
    "\n",
    "5) Percentage of individuals under 199% of federal poverty line\n",
    "\n",
    "Reason: Reduces dimensionality. Meaningful data as the cutoff put is 200% of the federal poverty line for market incentives.\n",
    "\n",
    "6) Percentage of individuals over 200% of federal poverty line\n",
    "\n",
    "Reason: See above\n",
    "\n",
    "Let's re do the correlation matrix with these variables:\n",
    "\n",
    "7) Ratio 'rich' to poor (ratio of individuals over 200% of federal poverty to individuals under 200% of federal poverty line\n",
    "\n",
    "Further reduces dimensionality includes key info pertaining to reduction in individuals uninsured.\n",
    "\n",
    "8, 9, 10: I've feature engineered lot's of features into this data set...i'm going to stop here for fear of encountering the curse of dimensionality..."
   ]
  },
  {
   "cell_type": "code",
   "execution_count": null,
   "metadata": {},
   "outputs": [],
   "source": [
    "# Make the correlation matrix.\n",
    "corrmatrix = state_aca_df.corr()\n",
    "\n",
    "# Set up the matplotlib figure.\n",
    "f, ax = plt.subplots(figsize=(12, 9))\n",
    "\n",
    "# Draw the heatmap using seaborn.\n",
    "sns.heatmap(corrmatrix, vmax=.8, square=True, cmap='coolwarm')\n",
    "plt.show()\n",
    "\n",
    "print(corrmatrix['uninsured_rate_change'].abs().sort_values(ascending=False))"
   ]
  },
  {
   "cell_type": "markdown",
   "metadata": {},
   "source": [
    "Top 5 are:\n",
    "\n",
    "uninsured_rate_2010                           0.677093\n",
    "2015_100_199_fedpl                            0.512616\n",
    "health_expense_per_cap_2011                   0.498907\n",
    "2015_under199_fed_pl                          0.496695\n",
    "health_expense_per_cap_2009                   0.496485\n",
    "\n",
    "I've picked these as they are the most correlated with the outcome variable."
   ]
  },
  {
   "cell_type": "markdown",
   "metadata": {},
   "source": [
    "------------------------------------------------------------------------------------------------------\n",
    "\n",
    "------------------------------------------------------------------------------------------------------\n",
    "------------------------------------------------------------------------------------------------------\n",
    "\n",
    "------------------------------------------------------------------------------------------------------"
   ]
  },
  {
   "cell_type": "markdown",
   "metadata": {},
   "source": [
    "# Modelling:\n",
    "\n",
    "My purpose here is to find the model that most accurately\n",
    "\n",
    "Decision's Trees,\n",
    "Random Forest, \n",
    "Gradient Boost,\n",
    "Linear regression (and if appropriate other forms of regression),\n",
    "Support Vector Machines,\n",
    "K-nearest neighbors.\n",
    "\n",
    "For each model, I will go through the following steps:\n",
    "\n",
    "Create a test-train split to test the model against overfitting.\n",
    "Evaluation metrics: cross-validation scores on the training data, as well as confusion matricies.\n",
    "Feature assessment and tweaking via PCA, GridSearchCV (where appropriate)\n",
    "\n",
    "Our ideal outcome model will:\n",
    "High predictive accuracy in predicting % change in uninsured individuals.\n",
    "Allow us to attribute the predictive accuracy of the model to particular features."
   ]
  },
  {
   "cell_type": "markdown",
   "metadata": {},
   "source": [
    "# Let's try random forest and decision trees and see how they do with this model.\n",
    "\n",
    "First of all, let's try running random forest on the whole dataset with just a few of the more lower correlated values removed. If we need to re-adjust the model so that we only use the most highly correlated variables (listed above), then let's persue that option. We will also adjust our outcome variable into 9 percentile groups and classify them based on which percentile range they fall into."
   ]
  },
  {
   "cell_type": "code",
   "execution_count": 29,
   "metadata": {},
   "outputs": [
    {
     "data": {
      "text/plain": [
       "-10.3"
      ]
     },
     "execution_count": 29,
     "metadata": {},
     "output_type": "execute_result"
    }
   ],
   "source": [
    "state_aca_df['uninsured_rate_change'].min()\n",
    "\n"
   ]
  },
  {
   "cell_type": "code",
   "execution_count": 30,
   "metadata": {},
   "outputs": [
    {
     "name": "stdout",
     "output_type": "stream",
     "text": [
      "0      4\n",
      "1      6\n",
      "2      7\n",
      "3      9\n",
      "4     10\n",
      "5      9\n",
      "6      1\n",
      "7      3\n",
      "8      3\n",
      "9      9\n",
      "10     7\n",
      "11     3\n",
      "12     9\n",
      "13     9\n",
      "14     6\n",
      "15     4\n",
      "16     5\n",
      "17    10\n",
      "18     7\n",
      "19     1\n",
      "20     5\n",
      "21     1\n",
      "22     8\n",
      "23     4\n",
      "24     6\n",
      "25     2\n",
      "26     7\n",
      "27     2\n",
      "28    10\n",
      "29     5\n",
      "30     4\n",
      "31    10\n",
      "32     5\n",
      "33     6\n",
      "34     1\n",
      "35     7\n",
      "36     6\n",
      "37    10\n",
      "38     3\n",
      "39     8\n",
      "40     8\n",
      "41     1\n",
      "42     3\n",
      "43     8\n",
      "44     5\n",
      "45     4\n",
      "46     3\n",
      "47     9\n",
      "48    10\n",
      "49     2\n",
      "50     2\n",
      "Name: uninsured_change_cat, dtype: int64\n"
     ]
    }
   ],
   "source": [
    "#might be better to create a categorical variable that includes neutral states\n",
    "uninsured_change_cat=[]\n",
    "\n",
    "for row in state_aca_df['uninsured_rate_change']:\n",
    "    if row >=-10.3 and row <=-8.6:\n",
    "        uninsured_change_cat.append(10)\n",
    "    elif row <= -6.7 and row >=-8.6:\n",
    "        uninsured_change_cat.append(9)\n",
    "    elif row <= -6.3 and row >=-6.7:\n",
    "        uninsured_change_cat.append(8)\n",
    "    elif row <= -5.7 and row >=-6.3:\n",
    "        uninsured_change_cat.append(7)\n",
    "    elif row <= -5.0 and row >=-5.7:\n",
    "        uninsured_change_cat.append(6)\n",
    "    elif row <= -4.7 and row >=-5.0:\n",
    "        uninsured_change_cat.append(5)\n",
    "    elif row <= -4.2 and row >=-4.7:\n",
    "        uninsured_change_cat.append(4)\n",
    "    elif row <= -3.8 and row >=-4.2:\n",
    "        uninsured_change_cat.append(3)\n",
    "    elif row <= -3.3 and row -3.8:\n",
    "        uninsured_change_cat.append(2)\n",
    "    elif row >= -3.3:\n",
    "        uninsured_change_cat.append(1)\n",
    "    \n",
    "    #create a column based on this output\n",
    "state_aca_df['uninsured_change_cat'] = uninsured_change_cat\n",
    "\n",
    "print(state_aca_df['uninsured_change_cat'])"
   ]
  },
  {
   "cell_type": "code",
   "execution_count": 65,
   "metadata": {},
   "outputs": [],
   "source": [
    "#remove any data relating to rate changes\n",
    "rf_regression_data=state_aca_df.drop('State', 1)\n",
    "#remove the 4 lowest correlates and the uninsured rate data and then let's run again\n",
    "rf_regression_data_reduced=rf_regression_data.drop('2010_200_399_fedpl', 1)\n",
    "rf_regression_data_reduced=rf_regression_data_reduced.drop('average_monthly_tax_credit_2016', 1)\n",
    "rf_regression_data_reduced=rf_regression_data_reduced.drop('2015_200_399_fedpl', 1)\n",
    "rf_regression_data_reduced=rf_regression_data_reduced.drop('PC3', 1)\n",
    "rf_regression_data_reduced=rf_regression_data_reduced.drop('uninsured_rate_2015', 1)\n",
    "rf_regression_data_reduced=rf_regression_data_reduced.drop('uninsured_change_cat', 1)\n",
    "rf_regression_data_reduced=rf_regression_data_reduced.drop('uninsured_rate_change', 1)"
   ]
  },
  {
   "cell_type": "code",
   "execution_count": 67,
   "metadata": {},
   "outputs": [
    {
     "data": {
      "text/html": [
       "<div>\n",
       "<style scoped>\n",
       "    .dataframe tbody tr th:only-of-type {\n",
       "        vertical-align: middle;\n",
       "    }\n",
       "\n",
       "    .dataframe tbody tr th {\n",
       "        vertical-align: top;\n",
       "    }\n",
       "\n",
       "    .dataframe thead th {\n",
       "        text-align: right;\n",
       "    }\n",
       "</style>\n",
       "<table border=\"1\" class=\"dataframe\">\n",
       "  <thead>\n",
       "    <tr style=\"text-align: right;\">\n",
       "      <th></th>\n",
       "      <th>uninsured_rate_2010</th>\n",
       "      <th>insurance_coverage_change</th>\n",
       "      <th>employer_health_coverage_2015</th>\n",
       "      <th>marketplace_health_coverage_2016</th>\n",
       "      <th>marketplace_tax_credits_2016</th>\n",
       "      <th>medicaid_expansion</th>\n",
       "      <th>medicaid_enrollment_2013</th>\n",
       "      <th>medicaid_enrollment_2016</th>\n",
       "      <th>medicaid_enrollment_change</th>\n",
       "      <th>medicare_enrollment_2016</th>\n",
       "      <th>...</th>\n",
       "      <th>2015_100_199_fedpl</th>\n",
       "      <th>2010_100_199_fedpl</th>\n",
       "      <th>2015_over400_pl</th>\n",
       "      <th>2010_over400_pl</th>\n",
       "      <th>medicaidXpolitics</th>\n",
       "      <th>2015_under199_fed_pl</th>\n",
       "      <th>2015_over200_fed_pl</th>\n",
       "      <th>ratio_rich_to_poor</th>\n",
       "      <th>PC1</th>\n",
       "      <th>PC2</th>\n",
       "    </tr>\n",
       "  </thead>\n",
       "  <tbody>\n",
       "    <tr>\n",
       "      <th>0</th>\n",
       "      <td>14.6</td>\n",
       "      <td>215000</td>\n",
       "      <td>2545000</td>\n",
       "      <td>165534</td>\n",
       "      <td>152206</td>\n",
       "      <td>False</td>\n",
       "      <td>799176.0</td>\n",
       "      <td>910775</td>\n",
       "      <td>111599.0</td>\n",
       "      <td>989855</td>\n",
       "      <td>...</td>\n",
       "      <td>0.21</td>\n",
       "      <td>0.21</td>\n",
       "      <td>0.31</td>\n",
       "      <td>0.30</td>\n",
       "      <td>13</td>\n",
       "      <td>0.38</td>\n",
       "      <td>0.63</td>\n",
       "      <td>1.657895</td>\n",
       "      <td>2.508151</td>\n",
       "      <td>-0.785629</td>\n",
       "    </tr>\n",
       "    <tr>\n",
       "      <th>1</th>\n",
       "      <td>19.9</td>\n",
       "      <td>36000</td>\n",
       "      <td>390000</td>\n",
       "      <td>17995</td>\n",
       "      <td>16205</td>\n",
       "      <td>True</td>\n",
       "      <td>122334.0</td>\n",
       "      <td>166625</td>\n",
       "      <td>44291.0</td>\n",
       "      <td>88966</td>\n",
       "      <td>...</td>\n",
       "      <td>0.15</td>\n",
       "      <td>0.16</td>\n",
       "      <td>0.47</td>\n",
       "      <td>0.46</td>\n",
       "      <td>13</td>\n",
       "      <td>0.23</td>\n",
       "      <td>0.77</td>\n",
       "      <td>3.347826</td>\n",
       "      <td>-1.413829</td>\n",
       "      <td>-1.817493</td>\n",
       "    </tr>\n",
       "    <tr>\n",
       "      <th>2</th>\n",
       "      <td>16.9</td>\n",
       "      <td>410000</td>\n",
       "      <td>3288000</td>\n",
       "      <td>179445</td>\n",
       "      <td>124346</td>\n",
       "      <td>True</td>\n",
       "      <td>1201770.0</td>\n",
       "      <td>1716198</td>\n",
       "      <td>514428.0</td>\n",
       "      <td>1175624</td>\n",
       "      <td>...</td>\n",
       "      <td>0.20</td>\n",
       "      <td>0.21</td>\n",
       "      <td>0.34</td>\n",
       "      <td>0.32</td>\n",
       "      <td>13</td>\n",
       "      <td>0.34</td>\n",
       "      <td>0.66</td>\n",
       "      <td>1.941176</td>\n",
       "      <td>1.566781</td>\n",
       "      <td>-1.103363</td>\n",
       "    </tr>\n",
       "    <tr>\n",
       "      <th>3</th>\n",
       "      <td>17.5</td>\n",
       "      <td>234000</td>\n",
       "      <td>1365000</td>\n",
       "      <td>63357</td>\n",
       "      <td>56843</td>\n",
       "      <td>True</td>\n",
       "      <td>556851.0</td>\n",
       "      <td>920194</td>\n",
       "      <td>363343.0</td>\n",
       "      <td>606146</td>\n",
       "      <td>...</td>\n",
       "      <td>0.23</td>\n",
       "      <td>0.25</td>\n",
       "      <td>0.28</td>\n",
       "      <td>0.27</td>\n",
       "      <td>14</td>\n",
       "      <td>0.40</td>\n",
       "      <td>0.61</td>\n",
       "      <td>1.525000</td>\n",
       "      <td>2.824695</td>\n",
       "      <td>0.559918</td>\n",
       "    </tr>\n",
       "    <tr>\n",
       "      <th>4</th>\n",
       "      <td>18.5</td>\n",
       "      <td>3826000</td>\n",
       "      <td>19552000</td>\n",
       "      <td>1415428</td>\n",
       "      <td>1239893</td>\n",
       "      <td>True</td>\n",
       "      <td>7755381.0</td>\n",
       "      <td>11843081</td>\n",
       "      <td>4087700.0</td>\n",
       "      <td>5829777</td>\n",
       "      <td>...</td>\n",
       "      <td>0.19</td>\n",
       "      <td>0.20</td>\n",
       "      <td>0.41</td>\n",
       "      <td>0.38</td>\n",
       "      <td>15</td>\n",
       "      <td>0.31</td>\n",
       "      <td>0.69</td>\n",
       "      <td>2.225806</td>\n",
       "      <td>-0.081364</td>\n",
       "      <td>1.262576</td>\n",
       "    </tr>\n",
       "  </tbody>\n",
       "</table>\n",
       "<p>5 rows × 36 columns</p>\n",
       "</div>"
      ],
      "text/plain": [
       "   uninsured_rate_2010  insurance_coverage_change  \\\n",
       "0                 14.6                     215000   \n",
       "1                 19.9                      36000   \n",
       "2                 16.9                     410000   \n",
       "3                 17.5                     234000   \n",
       "4                 18.5                    3826000   \n",
       "\n",
       "   employer_health_coverage_2015  marketplace_health_coverage_2016  \\\n",
       "0                        2545000                            165534   \n",
       "1                         390000                             17995   \n",
       "2                        3288000                            179445   \n",
       "3                        1365000                             63357   \n",
       "4                       19552000                           1415428   \n",
       "\n",
       "   marketplace_tax_credits_2016  medicaid_expansion  medicaid_enrollment_2013  \\\n",
       "0                        152206               False                  799176.0   \n",
       "1                         16205                True                  122334.0   \n",
       "2                        124346                True                 1201770.0   \n",
       "3                         56843                True                  556851.0   \n",
       "4                       1239893                True                 7755381.0   \n",
       "\n",
       "   medicaid_enrollment_2016  medicaid_enrollment_change  \\\n",
       "0                    910775                    111599.0   \n",
       "1                    166625                     44291.0   \n",
       "2                   1716198                    514428.0   \n",
       "3                    920194                    363343.0   \n",
       "4                  11843081                   4087700.0   \n",
       "\n",
       "   medicare_enrollment_2016  ...  2015_100_199_fedpl  2010_100_199_fedpl  \\\n",
       "0                    989855  ...                0.21                0.21   \n",
       "1                     88966  ...                0.15                0.16   \n",
       "2                   1175624  ...                0.20                0.21   \n",
       "3                    606146  ...                0.23                0.25   \n",
       "4                   5829777  ...                0.19                0.20   \n",
       "\n",
       "   2015_over400_pl  2010_over400_pl  medicaidXpolitics  2015_under199_fed_pl  \\\n",
       "0             0.31             0.30                 13                  0.38   \n",
       "1             0.47             0.46                 13                  0.23   \n",
       "2             0.34             0.32                 13                  0.34   \n",
       "3             0.28             0.27                 14                  0.40   \n",
       "4             0.41             0.38                 15                  0.31   \n",
       "\n",
       "   2015_over200_fed_pl  ratio_rich_to_poor       PC1       PC2  \n",
       "0                 0.63            1.657895  2.508151 -0.785629  \n",
       "1                 0.77            3.347826 -1.413829 -1.817493  \n",
       "2                 0.66            1.941176  1.566781 -1.103363  \n",
       "3                 0.61            1.525000  2.824695  0.559918  \n",
       "4                 0.69            2.225806 -0.081364  1.262576  \n",
       "\n",
       "[5 rows x 36 columns]"
      ]
     },
     "execution_count": 67,
     "metadata": {},
     "output_type": "execute_result"
    }
   ],
   "source": [
    "#quick check that everything is in order...\n",
    "rf_regression_data_reduced.head()\n",
    "\n"
   ]
  },
  {
   "cell_type": "markdown",
   "metadata": {},
   "source": [
    "<h1><center>Decision trees</center></h1>"
   ]
  },
  {
   "cell_type": "code",
   "execution_count": 66,
   "metadata": {},
   "outputs": [
    {
     "name": "stdout",
     "output_type": "stream",
     "text": [
      "Accuracy: 0.14285714285714285\n"
     ]
    }
   ],
   "source": [
    "# This is the starting model we will use\n",
    "from sklearn import tree\n",
    "from sklearn import metrics\n",
    "from sklearn.model_selection import train_test_split\n",
    "# A convenience for displaying visualizations.\n",
    "from IPython.display import Image\n",
    "\n",
    "# Packages for rendering our tree.\n",
    "import pydotplus\n",
    "import graphviz\n",
    "\n",
    "#split data\n",
    "\n",
    "X = rf_regression_data_reduced\n",
    "X = X.dropna(axis=1)\n",
    "\n",
    "X_train, X_test, y_train, y_test = train_test_split(X, state_aca_df['uninsured_change_cat'], test_size=0.4, random_state=1)\n",
    "\n",
    "\n",
    "# Initialize and train our tree.\n",
    "decision_tree = tree.DecisionTreeClassifier(\n",
    "    criterion='entropy',\n",
    "    max_features=1,\n",
    "    max_depth=4,\n",
    "    random_state = 1337\n",
    ")\n",
    "\n",
    "decision_tree.fit(X_train, y_train)\n",
    "\n",
    "y_pred = decision_tree.predict(X_test)\n",
    "\n",
    "print(\"Accuracy:\",metrics.accuracy_score(y_test, y_pred))\n"
   ]
  },
  {
   "cell_type": "markdown",
   "metadata": {},
   "source": [
    "Not especially, accurate. Let's try again."
   ]
  },
  {
   "cell_type": "code",
   "execution_count": 69,
   "metadata": {},
   "outputs": [
    {
     "name": "stdout",
     "output_type": "stream",
     "text": [
      "Accuracy: 0.09523809523809523\n"
     ]
    }
   ],
   "source": [
    "# Let's try changing the features\n",
    "from sklearn import tree\n",
    "from sklearn import metrics\n",
    "from sklearn.model_selection import train_test_split\n",
    "# A convenience for displaying visualizations.\n",
    "from IPython.display import Image\n",
    "\n",
    "# Packages for rendering our tree.\n",
    "import pydotplus\n",
    "import graphviz\n",
    "\n",
    "#split data\n",
    "\n",
    "X = rf_regression_data\n",
    "X = X.dropna(axis=1)\n",
    "\n",
    "X_train, X_test, y_train, y_test = train_test_split(X, state_aca_df['uninsured_change_cat'], test_size=0.4, random_state=1)\n",
    "\n",
    "\n",
    "# Initialize and train our tree.\n",
    "decision_tree = tree.DecisionTreeClassifier(\n",
    "    criterion='entropy',\n",
    "    max_features=4,\n",
    "    max_depth=4,\n",
    "    random_state = 1337\n",
    ")\n",
    "\n",
    "decision_tree.fit(X_train, y_train)\n",
    "\n",
    "y_pred = decision_tree.predict(X_test)\n",
    "\n",
    "print(\"Accuracy:\",metrics.accuracy_score(y_test, y_pred))\n"
   ]
  },
  {
   "cell_type": "code",
   "execution_count": 70,
   "metadata": {},
   "outputs": [
    {
     "name": "stdout",
     "output_type": "stream",
     "text": [
      "Accuracy: 0.09523809523809523\n"
     ]
    }
   ],
   "source": [
    "# Let's try changing the depth\n",
    "from sklearn import tree\n",
    "from sklearn import metrics\n",
    "from sklearn.model_selection import train_test_split\n",
    "# A convenience for displaying visualizations.\n",
    "from IPython.display import Image\n",
    "\n",
    "# Packages for rendering our tree.\n",
    "import pydotplus\n",
    "import graphviz\n",
    "\n",
    "#split data\n",
    "\n",
    "X = rf_regression_data\n",
    "X = X.dropna(axis=1)\n",
    "\n",
    "X_train, X_test, y_train, y_test = train_test_split(X, state_aca_df['uninsured_change_cat'], test_size=0.4, random_state=1)\n",
    "\n",
    "\n",
    "# Initialize and train our tree.\n",
    "decision_tree = tree.DecisionTreeClassifier(\n",
    "    criterion='entropy',\n",
    "    max_features=4,\n",
    "    max_depth=8,\n",
    "    random_state = 1337\n",
    ")\n",
    "\n",
    "decision_tree.fit(X_train, y_train)\n",
    "\n",
    "y_pred = decision_tree.predict(X_test)\n",
    "\n",
    "print(\"Accuracy:\",metrics.accuracy_score(y_test, y_pred))\n"
   ]
  },
  {
   "cell_type": "markdown",
   "metadata": {},
   "source": [
    "Using more features has no impact. "
   ]
  },
  {
   "cell_type": "markdown",
   "metadata": {},
   "source": [
    "Nor does changing max depth. As a final measure let's try to make the test size bigger as we're working with a small sample size."
   ]
  },
  {
   "cell_type": "code",
   "execution_count": 71,
   "metadata": {},
   "outputs": [
    {
     "name": "stdout",
     "output_type": "stream",
     "text": [
      "Accuracy: 0.1111111111111111\n",
      "--- 0.009943485260009766 seconds ---\n"
     ]
    }
   ],
   "source": [
    "# This is the model we'll be using.\n",
    "from sklearn import tree\n",
    "from sklearn import metrics\n",
    "from sklearn.model_selection import train_test_split\n",
    "# A convenience for displaying visualizations.\n",
    "from IPython.display import Image\n",
    "import time\n",
    "start_time = time.time()\n",
    "\n",
    "# Packages for rendering our tree.\n",
    "import pydotplus\n",
    "import graphviz\n",
    "\n",
    "#split data\n",
    "\n",
    "X = rf_regression_data_reduced\n",
    "X = X.dropna(axis=1)\n",
    "\n",
    "X_train, X_test, y_train, y_test = train_test_split(X, state_aca_df['uninsured_change_cat'], test_size=0.7, random_state=1)\n",
    "\n",
    "\n",
    "# Initialize and train our tree.\n",
    "decision_tree = tree.DecisionTreeClassifier(\n",
    "    criterion='entropy',\n",
    "    max_features=4,\n",
    "    max_depth=8,\n",
    "    random_state = 1337\n",
    ")\n",
    "\n",
    "decision_tree.fit(X_train, y_train)\n",
    "\n",
    "y_pred = decision_tree.predict(X_test)\n",
    "\n",
    "print(\"Accuracy:\",metrics.accuracy_score(y_test, y_pred))\n",
    "print(\"--- %s seconds ---\" % (time.time() - start_time))"
   ]
  },
  {
   "cell_type": "markdown",
   "metadata": {},
   "source": [
    "Try using gridsearchCV (?) - make a list of hyperparameters....gridsearch tries different combinations and helps optimize the hyperparameters..."
   ]
  },
  {
   "cell_type": "code",
   "execution_count": 111,
   "metadata": {},
   "outputs": [
    {
     "name": "stderr",
     "output_type": "stream",
     "text": [
      "D:\\Anaconda\\lib\\site-packages\\sklearn\\model_selection\\_split.py:652: Warning: The least populated class in y has only 4 members, which is too few. The minimum number of members in any class cannot be less than n_splits=8.\n",
      "  % (min_groups, self.n_splits)), Warning)\n"
     ]
    },
    {
     "name": "stdout",
     "output_type": "stream",
     "text": [
      "Best score: 0.216\n",
      "Best parameters set:\n",
      "\tcriterion: 'gini'\n",
      "\tmax_depth: 2\n",
      "\tmax_features: 2\n"
     ]
    },
    {
     "name": "stderr",
     "output_type": "stream",
     "text": [
      "D:\\Anaconda\\lib\\site-packages\\sklearn\\model_selection\\_search.py:841: DeprecationWarning: The default of the `iid` parameter will change from True to False in version 0.22 and will be removed in 0.24. This will change numeric results when test-set sizes are unequal.\n",
      "  DeprecationWarning)\n"
     ]
    }
   ],
   "source": [
    "#try grid search here\n",
    "\n",
    "# let's try gridsearch here...\n",
    "from sklearn import tree\n",
    "from sklearn import metrics\n",
    "from sklearn.model_selection import train_test_split\n",
    "# A convenience for displaying visualizations.\n",
    "from IPython.display import Image\n",
    "import time\n",
    "start_time = time.time()\n",
    "\n",
    "# Packages for rendering our tree.\n",
    "\n",
    "#split data\n",
    "\n",
    "X = rf_regression_data_reduced\n",
    "X = X.dropna(axis=1)\n",
    "Y=state_aca_df['uninsured_change_cat']\n",
    "\n",
    "X_train, X_test, y_train, y_test = train_test_split(X, state_aca_df['uninsured_change_cat'], test_size=0.7, random_state=1)\n",
    "\n",
    "\n",
    "# Initialize and train our tree using gridsearchcv\n",
    "\n",
    "decision_tree = tree.DecisionTreeClassifier()\n",
    "parameters = {'criterion': ['gini', 'entropy'], 'max_features': [2,4,8], 'max_depth':[2,4,8]}\n",
    "gridsearch  = GridSearchCV(estimator=decision_tree, param_grid=parameters, cv=8, n_jobs=-1)\n",
    "\n",
    "gridsearch.fit(X, Y)\n",
    "\n",
    "print(\"Best score: %0.3f\" % gridsearch.best_score_)\n",
    "print(\"Best parameters set:\")\n",
    "best_parameters=gridsearch.best_estimator_.get_params()\n",
    "for param_name in sorted(parameters.keys()):\n",
    "    print(\"\\t%s: %r\" % (param_name, best_parameters[param_name]))"
   ]
  },
  {
   "cell_type": "markdown",
   "metadata": {},
   "source": [
    "This is better, but not by much. Let's try and train and test this model with these settings:"
   ]
  },
  {
   "cell_type": "code",
   "execution_count": 116,
   "metadata": {},
   "outputs": [
    {
     "name": "stdout",
     "output_type": "stream",
     "text": [
      "Accuracy: 0.10869565217391304\n",
      "--- 0.008889913558959961 seconds ---\n"
     ]
    }
   ],
   "source": [
    "# This is the model we'll be using.\n",
    "from sklearn import tree\n",
    "from sklearn import metrics\n",
    "from sklearn.model_selection import train_test_split\n",
    "# A convenience for displaying visualizations.\n",
    "from IPython.display import Image\n",
    "import time\n",
    "start_time = time.time()\n",
    "\n",
    "# Packages for rendering our tree.\n",
    "import pydotplus\n",
    "import graphviz\n",
    "\n",
    "#split data\n",
    "\n",
    "X = rf_regression_data_reduced\n",
    "X = X.dropna(axis=1)\n",
    "\n",
    "X_train, X_test, y_train, y_test = train_test_split(X, state_aca_df['uninsured_change_cat'], test_size=0.9, random_state=1)\n",
    "\n",
    "\n",
    "# Initialize and train our tree.\n",
    "decision_tree = tree.DecisionTreeClassifier(\n",
    "    criterion='gini',\n",
    "    max_features=2,\n",
    "    max_depth=2,\n",
    "    random_state = 1337\n",
    ")\n",
    "\n",
    "decision_tree.fit(X_train, y_train)\n",
    "\n",
    "y_pred = decision_tree.predict(X_test)\n",
    "\n",
    "print(\"Accuracy:\",metrics.accuracy_score(y_test, y_pred))\n",
    "print(\"--- %s seconds ---\" % (time.time() - start_time))"
   ]
  },
  {
   "cell_type": "markdown",
   "metadata": {},
   "source": [
    "Not sure GridSearch CV did anything but overfit this data."
   ]
  },
  {
   "cell_type": "markdown",
   "metadata": {},
   "source": [
    "<h1><center>Random Forest</center></h1>"
   ]
  },
  {
   "cell_type": "code",
   "execution_count": 39,
   "metadata": {},
   "outputs": [
    {
     "name": "stdout",
     "output_type": "stream",
     "text": [
      "[0.62749468 0.51000109 0.46041684 0.5853211  0.32777748]\n",
      "--- 0.07380342483520508 seconds ---\n"
     ]
    },
    {
     "name": "stderr",
     "output_type": "stream",
     "text": [
      "D:\\Anaconda\\lib\\site-packages\\sklearn\\ensemble\\forest.py:246: FutureWarning: The default value of n_estimators will change from 10 in version 0.20 to 100 in 0.22.\n",
      "  \"10 in version 0.20 to 100 in 0.22.\", FutureWarning)\n"
     ]
    }
   ],
   "source": [
    "import time\n",
    "start_time = time.time()\n",
    "\n",
    "rf= ensemble.RandomForestRegressor()\n",
    "X = rf_regression_data_reduced\n",
    "X = X.dropna(axis=1)\n",
    "Y = state_aca_df['uninsured_rate_change']\n",
    "rf.fit(X, Y)\n",
    "\n",
    "print(cross_val_score(rf, X, Y, cv=5))\n",
    "print(\"--- %s seconds ---\" % (time.time() - start_time))"
   ]
  },
  {
   "cell_type": "markdown",
   "metadata": {},
   "source": [
    "Works, but there's a pretty large variance here. Also not a huge difference between the RF and DT. The DT runs significantly faster and the RF is slightly more accurate.\n",
    "\n",
    "Perhaps a product of having n=52, which is a relatively small sample size. Maybe I could generate some synthetic data? Also worth considering trying this as a classificaiton and creating bins for changes in uninsured rate."
   ]
  },
  {
   "cell_type": "markdown",
   "metadata": {},
   "source": [
    "# Run RF as a classifer with % change in uninsured as a scaled categorical variable"
   ]
  },
  {
   "cell_type": "code",
   "execution_count": 45,
   "metadata": {},
   "outputs": [
    {
     "name": "stdout",
     "output_type": "stream",
     "text": [
      "[0.15384615 0.         0.3        0.1        0.125     ]\n",
      "--- 0.07483625411987305 seconds ---\n"
     ]
    },
    {
     "name": "stderr",
     "output_type": "stream",
     "text": [
      "D:\\Anaconda\\lib\\site-packages\\sklearn\\ensemble\\forest.py:246: FutureWarning: The default value of n_estimators will change from 10 in version 0.20 to 100 in 0.22.\n",
      "  \"10 in version 0.20 to 100 in 0.22.\", FutureWarning)\n",
      "D:\\Anaconda\\lib\\site-packages\\sklearn\\model_selection\\_split.py:652: Warning: The least populated class in y has only 4 members, which is too few. The minimum number of members in any class cannot be less than n_splits=5.\n",
      "  % (min_groups, self.n_splits)), Warning)\n"
     ]
    }
   ],
   "source": [
    "start_time = time.time()\n",
    "\n",
    "\n",
    "\n",
    "rf_rc2= ensemble.RandomForestClassifier()\n",
    "X = rf_regression_data_reduced\n",
    "X = X.dropna(axis=1)\n",
    "Y = state_aca_df['uninsured_change_cat']\n",
    "rf_rc2.fit(X, Y)\n",
    "print(cross_val_score(rf_rc2, X, Y, cv=5))\n",
    "print(\"--- %s seconds ---\" % (time.time() - start_time))\n",
    "\n"
   ]
  },
  {
   "cell_type": "markdown",
   "metadata": {},
   "source": [
    "Does not work better as a classifer with the decile data."
   ]
  },
  {
   "cell_type": "code",
   "execution_count": 74,
   "metadata": {},
   "outputs": [
    {
     "name": "stdout",
     "output_type": "stream",
     "text": [
      "uninsured_change_cat                          1.000000\n",
      "uninsured_rate_change                         0.951393\n",
      "uninsured_rate_2010                           0.691838\n",
      "2015_100_199_fedpl                            0.533331\n",
      "2015_under199_fed_pl                          0.525881\n",
      "2015_over200_fed_pl                           0.521096\n",
      "ratio_rich_to_poor                            0.514728\n",
      "2010_100_199_fedpl                            0.504546\n",
      "health_expense_per_cap_2009                   0.475121\n",
      "health_expense_per_cap_2011                   0.470429\n",
      "2015_under_fed_pl                             0.468024\n",
      "health_expense_per_cap_2010                   0.467017\n",
      "2010_under_fed_pl                             0.460204\n",
      "health_expense_per_cap_2013                   0.455559\n",
      "health_expense_per_cap_2012                   0.455559\n",
      "PC1                                           0.454710\n",
      "health_expense_per_cap_2014                   0.433905\n",
      "2015_over400_pl                               0.428995\n",
      "insurance_coverage_change                     0.413168\n",
      "PC2                                           0.411653\n",
      "2010_over400_pl                               0.406959\n",
      "medicaid_enrollment_change                    0.370644\n",
      "gdppercap_2012                                0.323737\n",
      "gdppercap_2013                                0.318105\n",
      "gdppercap_2014                                0.317612\n",
      "medicaid_enrollment_2016                      0.313829\n",
      "gdppercap_2015                                0.312468\n",
      "gdppercap_2011                                0.310643\n",
      "gdppercap_2010                                0.299206\n",
      "medicare_enrollment_2016                      0.287244\n",
      "marketplace_health_coverage_2016              0.282511\n",
      "marketplace_tax_credits_2016                  0.280041\n",
      "uninsured_rate_2015                           0.276461\n",
      "medicaid_expansion                            0.260766\n",
      "employer_health_coverage_2015                 0.258529\n",
      "medicaid_enrollment_2013                      0.253278\n",
      "private_health_insurance_spending_millions    0.239035\n",
      "medicaidXpolitics                             0.231862\n",
      "political_lean                                0.231862\n",
      "PC3                                           0.114192\n",
      "2015_200_399_fedpl                            0.072603\n",
      "average_monthly_tax_credit_2016               0.069749\n",
      "2010_200_399_fedpl                            0.035352\n",
      "Name: uninsured_change_cat, dtype: float64\n"
     ]
    }
   ],
   "source": [
    "#let's check what we can remove..\n",
    "rf_regression_data['uninsured_change_cat'] = state_aca_df['uninsured_change_cat']\n",
    "\n",
    "# Make the correlation matrix.\n",
    "corrmatrix = state_aca_df.corr()\n",
    "\n",
    "print(corrmatrix['uninsured_change_cat'].abs().sort_values(ascending=False))"
   ]
  },
  {
   "cell_type": "code",
   "execution_count": 75,
   "metadata": {},
   "outputs": [
    {
     "data": {
      "text/html": [
       "<div>\n",
       "<style scoped>\n",
       "    .dataframe tbody tr th:only-of-type {\n",
       "        vertical-align: middle;\n",
       "    }\n",
       "\n",
       "    .dataframe tbody tr th {\n",
       "        vertical-align: top;\n",
       "    }\n",
       "\n",
       "    .dataframe thead th {\n",
       "        text-align: right;\n",
       "    }\n",
       "</style>\n",
       "<table border=\"1\" class=\"dataframe\">\n",
       "  <thead>\n",
       "    <tr style=\"text-align: right;\">\n",
       "      <th></th>\n",
       "      <th>uninsured_rate_2010</th>\n",
       "      <th>insurance_coverage_change</th>\n",
       "      <th>employer_health_coverage_2015</th>\n",
       "      <th>marketplace_health_coverage_2016</th>\n",
       "      <th>marketplace_tax_credits_2016</th>\n",
       "      <th>medicaid_expansion</th>\n",
       "      <th>medicaid_enrollment_2013</th>\n",
       "      <th>medicaid_enrollment_2016</th>\n",
       "      <th>medicaid_enrollment_change</th>\n",
       "      <th>medicare_enrollment_2016</th>\n",
       "      <th>...</th>\n",
       "      <th>2015_100_199_fedpl</th>\n",
       "      <th>2010_100_199_fedpl</th>\n",
       "      <th>2015_over400_pl</th>\n",
       "      <th>2010_over400_pl</th>\n",
       "      <th>medicaidXpolitics</th>\n",
       "      <th>2015_under199_fed_pl</th>\n",
       "      <th>2015_over200_fed_pl</th>\n",
       "      <th>ratio_rich_to_poor</th>\n",
       "      <th>PC1</th>\n",
       "      <th>PC2</th>\n",
       "    </tr>\n",
       "  </thead>\n",
       "  <tbody>\n",
       "    <tr>\n",
       "      <th>0</th>\n",
       "      <td>14.6</td>\n",
       "      <td>215000</td>\n",
       "      <td>2545000</td>\n",
       "      <td>165534</td>\n",
       "      <td>152206</td>\n",
       "      <td>False</td>\n",
       "      <td>799176.0</td>\n",
       "      <td>910775</td>\n",
       "      <td>111599.0</td>\n",
       "      <td>989855</td>\n",
       "      <td>...</td>\n",
       "      <td>0.21</td>\n",
       "      <td>0.21</td>\n",
       "      <td>0.31</td>\n",
       "      <td>0.30</td>\n",
       "      <td>13</td>\n",
       "      <td>0.38</td>\n",
       "      <td>0.63</td>\n",
       "      <td>1.657895</td>\n",
       "      <td>2.508151</td>\n",
       "      <td>-0.785629</td>\n",
       "    </tr>\n",
       "    <tr>\n",
       "      <th>1</th>\n",
       "      <td>19.9</td>\n",
       "      <td>36000</td>\n",
       "      <td>390000</td>\n",
       "      <td>17995</td>\n",
       "      <td>16205</td>\n",
       "      <td>True</td>\n",
       "      <td>122334.0</td>\n",
       "      <td>166625</td>\n",
       "      <td>44291.0</td>\n",
       "      <td>88966</td>\n",
       "      <td>...</td>\n",
       "      <td>0.15</td>\n",
       "      <td>0.16</td>\n",
       "      <td>0.47</td>\n",
       "      <td>0.46</td>\n",
       "      <td>13</td>\n",
       "      <td>0.23</td>\n",
       "      <td>0.77</td>\n",
       "      <td>3.347826</td>\n",
       "      <td>-1.413829</td>\n",
       "      <td>-1.817493</td>\n",
       "    </tr>\n",
       "    <tr>\n",
       "      <th>2</th>\n",
       "      <td>16.9</td>\n",
       "      <td>410000</td>\n",
       "      <td>3288000</td>\n",
       "      <td>179445</td>\n",
       "      <td>124346</td>\n",
       "      <td>True</td>\n",
       "      <td>1201770.0</td>\n",
       "      <td>1716198</td>\n",
       "      <td>514428.0</td>\n",
       "      <td>1175624</td>\n",
       "      <td>...</td>\n",
       "      <td>0.20</td>\n",
       "      <td>0.21</td>\n",
       "      <td>0.34</td>\n",
       "      <td>0.32</td>\n",
       "      <td>13</td>\n",
       "      <td>0.34</td>\n",
       "      <td>0.66</td>\n",
       "      <td>1.941176</td>\n",
       "      <td>1.566781</td>\n",
       "      <td>-1.103363</td>\n",
       "    </tr>\n",
       "    <tr>\n",
       "      <th>3</th>\n",
       "      <td>17.5</td>\n",
       "      <td>234000</td>\n",
       "      <td>1365000</td>\n",
       "      <td>63357</td>\n",
       "      <td>56843</td>\n",
       "      <td>True</td>\n",
       "      <td>556851.0</td>\n",
       "      <td>920194</td>\n",
       "      <td>363343.0</td>\n",
       "      <td>606146</td>\n",
       "      <td>...</td>\n",
       "      <td>0.23</td>\n",
       "      <td>0.25</td>\n",
       "      <td>0.28</td>\n",
       "      <td>0.27</td>\n",
       "      <td>14</td>\n",
       "      <td>0.40</td>\n",
       "      <td>0.61</td>\n",
       "      <td>1.525000</td>\n",
       "      <td>2.824695</td>\n",
       "      <td>0.559918</td>\n",
       "    </tr>\n",
       "    <tr>\n",
       "      <th>4</th>\n",
       "      <td>18.5</td>\n",
       "      <td>3826000</td>\n",
       "      <td>19552000</td>\n",
       "      <td>1415428</td>\n",
       "      <td>1239893</td>\n",
       "      <td>True</td>\n",
       "      <td>7755381.0</td>\n",
       "      <td>11843081</td>\n",
       "      <td>4087700.0</td>\n",
       "      <td>5829777</td>\n",
       "      <td>...</td>\n",
       "      <td>0.19</td>\n",
       "      <td>0.20</td>\n",
       "      <td>0.41</td>\n",
       "      <td>0.38</td>\n",
       "      <td>15</td>\n",
       "      <td>0.31</td>\n",
       "      <td>0.69</td>\n",
       "      <td>2.225806</td>\n",
       "      <td>-0.081364</td>\n",
       "      <td>1.262576</td>\n",
       "    </tr>\n",
       "  </tbody>\n",
       "</table>\n",
       "<p>5 rows × 36 columns</p>\n",
       "</div>"
      ],
      "text/plain": [
       "   uninsured_rate_2010  insurance_coverage_change  \\\n",
       "0                 14.6                     215000   \n",
       "1                 19.9                      36000   \n",
       "2                 16.9                     410000   \n",
       "3                 17.5                     234000   \n",
       "4                 18.5                    3826000   \n",
       "\n",
       "   employer_health_coverage_2015  marketplace_health_coverage_2016  \\\n",
       "0                        2545000                            165534   \n",
       "1                         390000                             17995   \n",
       "2                        3288000                            179445   \n",
       "3                        1365000                             63357   \n",
       "4                       19552000                           1415428   \n",
       "\n",
       "   marketplace_tax_credits_2016  medicaid_expansion  medicaid_enrollment_2013  \\\n",
       "0                        152206               False                  799176.0   \n",
       "1                         16205                True                  122334.0   \n",
       "2                        124346                True                 1201770.0   \n",
       "3                         56843                True                  556851.0   \n",
       "4                       1239893                True                 7755381.0   \n",
       "\n",
       "   medicaid_enrollment_2016  medicaid_enrollment_change  \\\n",
       "0                    910775                    111599.0   \n",
       "1                    166625                     44291.0   \n",
       "2                   1716198                    514428.0   \n",
       "3                    920194                    363343.0   \n",
       "4                  11843081                   4087700.0   \n",
       "\n",
       "   medicare_enrollment_2016  ...  2015_100_199_fedpl  2010_100_199_fedpl  \\\n",
       "0                    989855  ...                0.21                0.21   \n",
       "1                     88966  ...                0.15                0.16   \n",
       "2                   1175624  ...                0.20                0.21   \n",
       "3                    606146  ...                0.23                0.25   \n",
       "4                   5829777  ...                0.19                0.20   \n",
       "\n",
       "   2015_over400_pl  2010_over400_pl  medicaidXpolitics  2015_under199_fed_pl  \\\n",
       "0             0.31             0.30                 13                  0.38   \n",
       "1             0.47             0.46                 13                  0.23   \n",
       "2             0.34             0.32                 13                  0.34   \n",
       "3             0.28             0.27                 14                  0.40   \n",
       "4             0.41             0.38                 15                  0.31   \n",
       "\n",
       "   2015_over200_fed_pl  ratio_rich_to_poor       PC1       PC2  \n",
       "0                 0.63            1.657895  2.508151 -0.785629  \n",
       "1                 0.77            3.347826 -1.413829 -1.817493  \n",
       "2                 0.66            1.941176  1.566781 -1.103363  \n",
       "3                 0.61            1.525000  2.824695  0.559918  \n",
       "4                 0.69            2.225806 -0.081364  1.262576  \n",
       "\n",
       "[5 rows x 36 columns]"
      ]
     },
     "execution_count": 75,
     "metadata": {},
     "output_type": "execute_result"
    }
   ],
   "source": [
    "rf_regression_data_reduced.head()"
   ]
  },
  {
   "cell_type": "code",
   "execution_count": 46,
   "metadata": {},
   "outputs": [
    {
     "name": "stdout",
     "output_type": "stream",
     "text": [
      "[0.7512996  0.68558077 0.24032043 0.50228495 0.48458198]\n",
      "--- 0.07180929183959961 seconds ---\n"
     ]
    },
    {
     "name": "stderr",
     "output_type": "stream",
     "text": [
      "D:\\Anaconda\\lib\\site-packages\\sklearn\\ensemble\\forest.py:246: FutureWarning: The default value of n_estimators will change from 10 in version 0.20 to 100 in 0.22.\n",
      "  \"10 in version 0.20 to 100 in 0.22.\", FutureWarning)\n"
     ]
    }
   ],
   "source": [
    "start_time = time.time()\n",
    "\n",
    "rf_rc2= ensemble.RandomForestClassifier()\n",
    "X = rf_regression_data_reduced\n",
    "X = X.dropna(axis=1)\n",
    "Y = state_aca_df['uninsured_change_cat']\n",
    "rf_rc2.fit(X, Y)\n",
    "print(cross_val_score(rf, X, Y, cv=5))\n",
    "print(\"--- %s seconds ---\" % (time.time() - start_time))"
   ]
  },
  {
   "cell_type": "markdown",
   "metadata": {},
   "source": [
    "Again, looks somewhat better. Let's try and further reduce dimensionality and try a final time."
   ]
  },
  {
   "cell_type": "code",
   "execution_count": 77,
   "metadata": {},
   "outputs": [
    {
     "data": {
      "text/html": [
       "<div>\n",
       "<style scoped>\n",
       "    .dataframe tbody tr th:only-of-type {\n",
       "        vertical-align: middle;\n",
       "    }\n",
       "\n",
       "    .dataframe tbody tr th {\n",
       "        vertical-align: top;\n",
       "    }\n",
       "\n",
       "    .dataframe thead th {\n",
       "        text-align: right;\n",
       "    }\n",
       "</style>\n",
       "<table border=\"1\" class=\"dataframe\">\n",
       "  <thead>\n",
       "    <tr style=\"text-align: right;\">\n",
       "      <th></th>\n",
       "      <th>uninsured_rate_2010</th>\n",
       "      <th>insurance_coverage_change</th>\n",
       "      <th>employer_health_coverage_2015</th>\n",
       "      <th>marketplace_health_coverage_2016</th>\n",
       "      <th>marketplace_tax_credits_2016</th>\n",
       "      <th>medicaid_expansion</th>\n",
       "      <th>medicaid_enrollment_2013</th>\n",
       "      <th>medicaid_enrollment_2016</th>\n",
       "      <th>medicaid_enrollment_change</th>\n",
       "      <th>medicare_enrollment_2016</th>\n",
       "      <th>...</th>\n",
       "      <th>2015_100_199_fedpl</th>\n",
       "      <th>2010_100_199_fedpl</th>\n",
       "      <th>2015_over400_pl</th>\n",
       "      <th>2010_over400_pl</th>\n",
       "      <th>medicaidXpolitics</th>\n",
       "      <th>2015_under199_fed_pl</th>\n",
       "      <th>2015_over200_fed_pl</th>\n",
       "      <th>ratio_rich_to_poor</th>\n",
       "      <th>PC1</th>\n",
       "      <th>PC2</th>\n",
       "    </tr>\n",
       "  </thead>\n",
       "  <tbody>\n",
       "    <tr>\n",
       "      <th>0</th>\n",
       "      <td>14.6</td>\n",
       "      <td>215000</td>\n",
       "      <td>2545000</td>\n",
       "      <td>165534</td>\n",
       "      <td>152206</td>\n",
       "      <td>False</td>\n",
       "      <td>799176.0</td>\n",
       "      <td>910775</td>\n",
       "      <td>111599.0</td>\n",
       "      <td>989855</td>\n",
       "      <td>...</td>\n",
       "      <td>0.21</td>\n",
       "      <td>0.21</td>\n",
       "      <td>0.31</td>\n",
       "      <td>0.30</td>\n",
       "      <td>13</td>\n",
       "      <td>0.38</td>\n",
       "      <td>0.63</td>\n",
       "      <td>1.657895</td>\n",
       "      <td>2.508151</td>\n",
       "      <td>-0.785629</td>\n",
       "    </tr>\n",
       "    <tr>\n",
       "      <th>1</th>\n",
       "      <td>19.9</td>\n",
       "      <td>36000</td>\n",
       "      <td>390000</td>\n",
       "      <td>17995</td>\n",
       "      <td>16205</td>\n",
       "      <td>True</td>\n",
       "      <td>122334.0</td>\n",
       "      <td>166625</td>\n",
       "      <td>44291.0</td>\n",
       "      <td>88966</td>\n",
       "      <td>...</td>\n",
       "      <td>0.15</td>\n",
       "      <td>0.16</td>\n",
       "      <td>0.47</td>\n",
       "      <td>0.46</td>\n",
       "      <td>13</td>\n",
       "      <td>0.23</td>\n",
       "      <td>0.77</td>\n",
       "      <td>3.347826</td>\n",
       "      <td>-1.413829</td>\n",
       "      <td>-1.817493</td>\n",
       "    </tr>\n",
       "    <tr>\n",
       "      <th>2</th>\n",
       "      <td>16.9</td>\n",
       "      <td>410000</td>\n",
       "      <td>3288000</td>\n",
       "      <td>179445</td>\n",
       "      <td>124346</td>\n",
       "      <td>True</td>\n",
       "      <td>1201770.0</td>\n",
       "      <td>1716198</td>\n",
       "      <td>514428.0</td>\n",
       "      <td>1175624</td>\n",
       "      <td>...</td>\n",
       "      <td>0.20</td>\n",
       "      <td>0.21</td>\n",
       "      <td>0.34</td>\n",
       "      <td>0.32</td>\n",
       "      <td>13</td>\n",
       "      <td>0.34</td>\n",
       "      <td>0.66</td>\n",
       "      <td>1.941176</td>\n",
       "      <td>1.566781</td>\n",
       "      <td>-1.103363</td>\n",
       "    </tr>\n",
       "    <tr>\n",
       "      <th>3</th>\n",
       "      <td>17.5</td>\n",
       "      <td>234000</td>\n",
       "      <td>1365000</td>\n",
       "      <td>63357</td>\n",
       "      <td>56843</td>\n",
       "      <td>True</td>\n",
       "      <td>556851.0</td>\n",
       "      <td>920194</td>\n",
       "      <td>363343.0</td>\n",
       "      <td>606146</td>\n",
       "      <td>...</td>\n",
       "      <td>0.23</td>\n",
       "      <td>0.25</td>\n",
       "      <td>0.28</td>\n",
       "      <td>0.27</td>\n",
       "      <td>14</td>\n",
       "      <td>0.40</td>\n",
       "      <td>0.61</td>\n",
       "      <td>1.525000</td>\n",
       "      <td>2.824695</td>\n",
       "      <td>0.559918</td>\n",
       "    </tr>\n",
       "    <tr>\n",
       "      <th>4</th>\n",
       "      <td>18.5</td>\n",
       "      <td>3826000</td>\n",
       "      <td>19552000</td>\n",
       "      <td>1415428</td>\n",
       "      <td>1239893</td>\n",
       "      <td>True</td>\n",
       "      <td>7755381.0</td>\n",
       "      <td>11843081</td>\n",
       "      <td>4087700.0</td>\n",
       "      <td>5829777</td>\n",
       "      <td>...</td>\n",
       "      <td>0.19</td>\n",
       "      <td>0.20</td>\n",
       "      <td>0.41</td>\n",
       "      <td>0.38</td>\n",
       "      <td>15</td>\n",
       "      <td>0.31</td>\n",
       "      <td>0.69</td>\n",
       "      <td>2.225806</td>\n",
       "      <td>-0.081364</td>\n",
       "      <td>1.262576</td>\n",
       "    </tr>\n",
       "  </tbody>\n",
       "</table>\n",
       "<p>5 rows × 36 columns</p>\n",
       "</div>"
      ],
      "text/plain": [
       "   uninsured_rate_2010  insurance_coverage_change  \\\n",
       "0                 14.6                     215000   \n",
       "1                 19.9                      36000   \n",
       "2                 16.9                     410000   \n",
       "3                 17.5                     234000   \n",
       "4                 18.5                    3826000   \n",
       "\n",
       "   employer_health_coverage_2015  marketplace_health_coverage_2016  \\\n",
       "0                        2545000                            165534   \n",
       "1                         390000                             17995   \n",
       "2                        3288000                            179445   \n",
       "3                        1365000                             63357   \n",
       "4                       19552000                           1415428   \n",
       "\n",
       "   marketplace_tax_credits_2016  medicaid_expansion  medicaid_enrollment_2013  \\\n",
       "0                        152206               False                  799176.0   \n",
       "1                         16205                True                  122334.0   \n",
       "2                        124346                True                 1201770.0   \n",
       "3                         56843                True                  556851.0   \n",
       "4                       1239893                True                 7755381.0   \n",
       "\n",
       "   medicaid_enrollment_2016  medicaid_enrollment_change  \\\n",
       "0                    910775                    111599.0   \n",
       "1                    166625                     44291.0   \n",
       "2                   1716198                    514428.0   \n",
       "3                    920194                    363343.0   \n",
       "4                  11843081                   4087700.0   \n",
       "\n",
       "   medicare_enrollment_2016  ...  2015_100_199_fedpl  2010_100_199_fedpl  \\\n",
       "0                    989855  ...                0.21                0.21   \n",
       "1                     88966  ...                0.15                0.16   \n",
       "2                   1175624  ...                0.20                0.21   \n",
       "3                    606146  ...                0.23                0.25   \n",
       "4                   5829777  ...                0.19                0.20   \n",
       "\n",
       "   2015_over400_pl  2010_over400_pl  medicaidXpolitics  2015_under199_fed_pl  \\\n",
       "0             0.31             0.30                 13                  0.38   \n",
       "1             0.47             0.46                 13                  0.23   \n",
       "2             0.34             0.32                 13                  0.34   \n",
       "3             0.28             0.27                 14                  0.40   \n",
       "4             0.41             0.38                 15                  0.31   \n",
       "\n",
       "   2015_over200_fed_pl  ratio_rich_to_poor       PC1       PC2  \n",
       "0                 0.63            1.657895  2.508151 -0.785629  \n",
       "1                 0.77            3.347826 -1.413829 -1.817493  \n",
       "2                 0.66            1.941176  1.566781 -1.103363  \n",
       "3                 0.61            1.525000  2.824695  0.559918  \n",
       "4                 0.69            2.225806 -0.081364  1.262576  \n",
       "\n",
       "[5 rows x 36 columns]"
      ]
     },
     "execution_count": 77,
     "metadata": {},
     "output_type": "execute_result"
    }
   ],
   "source": [
    "#let's take a look at what can still be removed\n",
    "rf_regression_data_reduced.head()"
   ]
  },
  {
   "cell_type": "code",
   "execution_count": 48,
   "metadata": {},
   "outputs": [],
   "source": [
    "rf_regression_data_reduced=rf_regression_data_reduced.drop('2015_under199_fed_pl', 1)\n",
    "rf_regression_data_reduced=rf_regression_data_reduced.drop('2015_over200_fed_pl', 1)\n",
    "rf_regression_data_reduced=rf_regression_data_reduced.drop('2010_over400_pl', 1)\n",
    "rf_regression_data_reduced=rf_regression_data_reduced.drop('2010_100_199_fedpl', 1)\n",
    "rf_regression_data_reduced=rf_regression_data_reduced.drop('2015_100_199_fedpl', 1)\n",
    "\n"
   ]
  },
  {
   "cell_type": "code",
   "execution_count": 49,
   "metadata": {},
   "outputs": [
    {
     "data": {
      "text/html": [
       "<div>\n",
       "<style scoped>\n",
       "    .dataframe tbody tr th:only-of-type {\n",
       "        vertical-align: middle;\n",
       "    }\n",
       "\n",
       "    .dataframe tbody tr th {\n",
       "        vertical-align: top;\n",
       "    }\n",
       "\n",
       "    .dataframe thead th {\n",
       "        text-align: right;\n",
       "    }\n",
       "</style>\n",
       "<table border=\"1\" class=\"dataframe\">\n",
       "  <thead>\n",
       "    <tr style=\"text-align: right;\">\n",
       "      <th></th>\n",
       "      <th>uninsured_rate_2010</th>\n",
       "      <th>insurance_coverage_change</th>\n",
       "      <th>employer_health_coverage_2015</th>\n",
       "      <th>marketplace_health_coverage_2016</th>\n",
       "      <th>marketplace_tax_credits_2016</th>\n",
       "      <th>medicaid_expansion</th>\n",
       "      <th>medicaid_enrollment_2013</th>\n",
       "      <th>medicaid_enrollment_2016</th>\n",
       "      <th>medicaid_enrollment_change</th>\n",
       "      <th>medicare_enrollment_2016</th>\n",
       "      <th>...</th>\n",
       "      <th>health_expense_per_cap_2010</th>\n",
       "      <th>health_expense_per_cap_2009</th>\n",
       "      <th>private_health_insurance_spending_millions</th>\n",
       "      <th>2015_under_fed_pl</th>\n",
       "      <th>2010_under_fed_pl</th>\n",
       "      <th>2015_over400_pl</th>\n",
       "      <th>medicaidXpolitics</th>\n",
       "      <th>ratio_rich_to_poor</th>\n",
       "      <th>PC1</th>\n",
       "      <th>PC2</th>\n",
       "    </tr>\n",
       "  </thead>\n",
       "  <tbody>\n",
       "    <tr>\n",
       "      <th>0</th>\n",
       "      <td>14.6</td>\n",
       "      <td>215000</td>\n",
       "      <td>2545000</td>\n",
       "      <td>165534</td>\n",
       "      <td>152206</td>\n",
       "      <td>False</td>\n",
       "      <td>799176.0</td>\n",
       "      <td>910775</td>\n",
       "      <td>111599.0</td>\n",
       "      <td>989855</td>\n",
       "      <td>...</td>\n",
       "      <td>6421</td>\n",
       "      <td>6325</td>\n",
       "      <td>11078</td>\n",
       "      <td>0.17</td>\n",
       "      <td>0.17</td>\n",
       "      <td>0.31</td>\n",
       "      <td>13</td>\n",
       "      <td>1.657895</td>\n",
       "      <td>2.508151</td>\n",
       "      <td>-0.785629</td>\n",
       "    </tr>\n",
       "    <tr>\n",
       "      <th>1</th>\n",
       "      <td>19.9</td>\n",
       "      <td>36000</td>\n",
       "      <td>390000</td>\n",
       "      <td>17995</td>\n",
       "      <td>16205</td>\n",
       "      <td>True</td>\n",
       "      <td>122334.0</td>\n",
       "      <td>166625</td>\n",
       "      <td>44291.0</td>\n",
       "      <td>88966</td>\n",
       "      <td>...</td>\n",
       "      <td>9129</td>\n",
       "      <td>8745</td>\n",
       "      <td>2492</td>\n",
       "      <td>0.08</td>\n",
       "      <td>0.08</td>\n",
       "      <td>0.47</td>\n",
       "      <td>13</td>\n",
       "      <td>3.347826</td>\n",
       "      <td>-1.413829</td>\n",
       "      <td>-1.817493</td>\n",
       "    </tr>\n",
       "    <tr>\n",
       "      <th>2</th>\n",
       "      <td>16.9</td>\n",
       "      <td>410000</td>\n",
       "      <td>3288000</td>\n",
       "      <td>179445</td>\n",
       "      <td>124346</td>\n",
       "      <td>True</td>\n",
       "      <td>1201770.0</td>\n",
       "      <td>1716198</td>\n",
       "      <td>514428.0</td>\n",
       "      <td>1175624</td>\n",
       "      <td>...</td>\n",
       "      <td>6027</td>\n",
       "      <td>5874</td>\n",
       "      <td>15073</td>\n",
       "      <td>0.14</td>\n",
       "      <td>0.14</td>\n",
       "      <td>0.34</td>\n",
       "      <td>13</td>\n",
       "      <td>1.941176</td>\n",
       "      <td>1.566781</td>\n",
       "      <td>-1.103363</td>\n",
       "    </tr>\n",
       "    <tr>\n",
       "      <th>3</th>\n",
       "      <td>17.5</td>\n",
       "      <td>234000</td>\n",
       "      <td>1365000</td>\n",
       "      <td>63357</td>\n",
       "      <td>56843</td>\n",
       "      <td>True</td>\n",
       "      <td>556851.0</td>\n",
       "      <td>920194</td>\n",
       "      <td>363343.0</td>\n",
       "      <td>606146</td>\n",
       "      <td>...</td>\n",
       "      <td>6412</td>\n",
       "      <td>6238</td>\n",
       "      <td>6209</td>\n",
       "      <td>0.17</td>\n",
       "      <td>0.16</td>\n",
       "      <td>0.28</td>\n",
       "      <td>14</td>\n",
       "      <td>1.525000</td>\n",
       "      <td>2.824695</td>\n",
       "      <td>0.559918</td>\n",
       "    </tr>\n",
       "    <tr>\n",
       "      <th>4</th>\n",
       "      <td>18.5</td>\n",
       "      <td>3826000</td>\n",
       "      <td>19552000</td>\n",
       "      <td>1415428</td>\n",
       "      <td>1239893</td>\n",
       "      <td>True</td>\n",
       "      <td>7755381.0</td>\n",
       "      <td>11843081</td>\n",
       "      <td>4087700.0</td>\n",
       "      <td>5829777</td>\n",
       "      <td>...</td>\n",
       "      <td>6480</td>\n",
       "      <td>6210</td>\n",
       "      <td>104018</td>\n",
       "      <td>0.12</td>\n",
       "      <td>0.13</td>\n",
       "      <td>0.41</td>\n",
       "      <td>15</td>\n",
       "      <td>2.225806</td>\n",
       "      <td>-0.081364</td>\n",
       "      <td>1.262576</td>\n",
       "    </tr>\n",
       "  </tbody>\n",
       "</table>\n",
       "<p>5 rows × 31 columns</p>\n",
       "</div>"
      ],
      "text/plain": [
       "   uninsured_rate_2010  insurance_coverage_change  \\\n",
       "0                 14.6                     215000   \n",
       "1                 19.9                      36000   \n",
       "2                 16.9                     410000   \n",
       "3                 17.5                     234000   \n",
       "4                 18.5                    3826000   \n",
       "\n",
       "   employer_health_coverage_2015  marketplace_health_coverage_2016  \\\n",
       "0                        2545000                            165534   \n",
       "1                         390000                             17995   \n",
       "2                        3288000                            179445   \n",
       "3                        1365000                             63357   \n",
       "4                       19552000                           1415428   \n",
       "\n",
       "   marketplace_tax_credits_2016  medicaid_expansion  medicaid_enrollment_2013  \\\n",
       "0                        152206               False                  799176.0   \n",
       "1                         16205                True                  122334.0   \n",
       "2                        124346                True                 1201770.0   \n",
       "3                         56843                True                  556851.0   \n",
       "4                       1239893                True                 7755381.0   \n",
       "\n",
       "   medicaid_enrollment_2016  medicaid_enrollment_change  \\\n",
       "0                    910775                    111599.0   \n",
       "1                    166625                     44291.0   \n",
       "2                   1716198                    514428.0   \n",
       "3                    920194                    363343.0   \n",
       "4                  11843081                   4087700.0   \n",
       "\n",
       "   medicare_enrollment_2016  ...  health_expense_per_cap_2010  \\\n",
       "0                    989855  ...                         6421   \n",
       "1                     88966  ...                         9129   \n",
       "2                   1175624  ...                         6027   \n",
       "3                    606146  ...                         6412   \n",
       "4                   5829777  ...                         6480   \n",
       "\n",
       "   health_expense_per_cap_2009  private_health_insurance_spending_millions  \\\n",
       "0                         6325                                       11078   \n",
       "1                         8745                                        2492   \n",
       "2                         5874                                       15073   \n",
       "3                         6238                                        6209   \n",
       "4                         6210                                      104018   \n",
       "\n",
       "   2015_under_fed_pl  2010_under_fed_pl  2015_over400_pl  medicaidXpolitics  \\\n",
       "0               0.17               0.17             0.31                 13   \n",
       "1               0.08               0.08             0.47                 13   \n",
       "2               0.14               0.14             0.34                 13   \n",
       "3               0.17               0.16             0.28                 14   \n",
       "4               0.12               0.13             0.41                 15   \n",
       "\n",
       "   ratio_rich_to_poor       PC1       PC2  \n",
       "0            1.657895  2.508151 -0.785629  \n",
       "1            3.347826 -1.413829 -1.817493  \n",
       "2            1.941176  1.566781 -1.103363  \n",
       "3            1.525000  2.824695  0.559918  \n",
       "4            2.225806 -0.081364  1.262576  \n",
       "\n",
       "[5 rows x 31 columns]"
      ]
     },
     "execution_count": 49,
     "metadata": {},
     "output_type": "execute_result"
    }
   ],
   "source": [
    "#let's take a look at what can still be removed\n",
    "rf_regression_data_reduced.head()"
   ]
  },
  {
   "cell_type": "code",
   "execution_count": 50,
   "metadata": {},
   "outputs": [
    {
     "name": "stdout",
     "output_type": "stream",
     "text": [
      "[0.79156746 0.64859813 0.46248331 0.15591398 0.36536374]\n",
      "--- 0.06183648109436035 seconds ---\n"
     ]
    }
   ],
   "source": [
    "start_time = time.time()\n",
    "\n",
    "rf_rc2= ensemble.RandomForestClassifier()\n",
    "X = rf_regression_data_reduced\n",
    "X = X.dropna(axis=1)\n",
    "Y = state_aca_df['uninsured_change_cat']\n",
    "\n",
    "print(cross_val_score(rf, X, Y, cv=5))\n",
    "print(\"--- %s seconds ---\" % (time.time() - start_time))"
   ]
  },
  {
   "cell_type": "markdown",
   "metadata": {},
   "source": [
    "Still no major difference. There's still room to remove variables here...part of the variability in this model is likely due to the high number of variables...among which there is high variance in correlation.\n",
    "\n",
    "Problem with random forest/decision trees = make sure distribution is normal and balanced. SMOTE can help with this. This should be my first port of call along with further dimensionality reduction."
   ]
  },
  {
   "cell_type": "code",
   "execution_count": 67,
   "metadata": {},
   "outputs": [],
   "source": [
    "rf_regression_data_reduced=rf_regression_data_reduced.drop('health_expense_per_cap_2009', 1)\n",
    "rf_regression_data_reduced=rf_regression_data_reduced.drop('2015_under_fed_pl', 1)\n",
    "rf_regression_data_reduced=rf_regression_data_reduced.drop('gdppercap_2013', 1)\n",
    "rf_regression_data_reduced=rf_regression_data_reduced.drop('gdppercap_2014', 1)\n",
    "rf_regression_data_reduced=rf_regression_data_reduced.drop('medicaid_enrollment_2016', 1)\n",
    "\n",
    "rf_regression_data_reduced=rf_regression_data_reduced.drop('gdppercap_2011', 1)\n",
    "rf_regression_data_reduced=rf_regression_data_reduced.drop('gdppercap_2010', 1)\n",
    "rf_regression_data_reduced=rf_regression_data_reduced.drop('medicaid_enrollment_2013', 1)\n",
    "\n",
    "#stuff i can still  remove:\n",
    "\n",
    "#2015_100_199_fedpl                            0.533331\n",
    "#2015_under199_fed_pl                          0.525881\n",
    "#2015_over200_fed_pl                           0.521096\n",
    "#ratio_rich_to_poor                            0.514728\n",
    "#2010_100_199_fedpl                            0.504546\n",
    "\n",
    "#health_expense_per_cap_2011                   0.470429\n",
    "#2015_under_fed_pl                             0.468024\n",
    "#health_expense_per_cap_2010                   0.467017\n",
    "#2010_under_fed_pl                             0.460204\n",
    "#health_expense_per_cap_2013                   0.455559\n",
    "#health_expense_per_cap_2012                   0.455559\n",
    "#PC1                                           0.454710\n",
    "#health_expense_per_cap_2014                   0.433905\n",
    "#2015_over400_pl                               0.428995\n",
    "#insurance_coverage_change                     0.413168\n",
    "#PC2                                           0.411653\n",
    "#2010_over400_pl                               0.406959\n",
    "#medicaid_enrollment_change                    0.370644\n",
    "#gdppercap_2012                                0.323737\n",
    "\n",
    "#gdppercap_2015                                0.312468\n",
    "\n",
    "#medicare_enrollment_2016                      0.287244\n",
    "#marketplace_health_coverage_2016              0.282511\n",
    "#marketplace_tax_credits_2016                  0.280041\n",
    "#uninsured_rate_2015                           0.276461\n",
    "#medicaid_expansion                            0.260766\n",
    "#employer_health_coverage_2015                 0.258529\n",
    "\n",
    "#private_health_insurance_spending_millions    0.239035\n",
    "#medicaidXpolitics                             0.231862\n",
    "#political_lean                                0.231862\n"
   ]
  },
  {
   "cell_type": "code",
   "execution_count": 68,
   "metadata": {},
   "outputs": [
    {
     "name": "stdout",
     "output_type": "stream",
     "text": [
      "[0.6614881  0.52510013 0.49105474 0.39879032 0.26514658]\n",
      "--- 0.06482386589050293 seconds ---\n"
     ]
    }
   ],
   "source": [
    "start_time = time.time()\n",
    "\n",
    "rf_rc2= ensemble.RandomForestClassifier()\n",
    "X = rf_regression_data_reduced\n",
    "X = X.dropna(axis=1)\n",
    "Y = state_aca_df['uninsured_change_cat']\n",
    "\n",
    "print(cross_val_score(rf, X, Y, cv=5))\n",
    "print(\"--- %s seconds ---\" % (time.time() - start_time))"
   ]
  },
  {
   "cell_type": "markdown",
   "metadata": {},
   "source": [
    "Variance seems to be going in the right direction..let's keep going.."
   ]
  },
  {
   "cell_type": "code",
   "execution_count": 69,
   "metadata": {},
   "outputs": [],
   "source": [
    "#rf_regression_data_reduced=rf_regression_data_reduced.drop('health_expense_per_cap_2014', 1)\n",
    "#rf_regression_data_reduced=rf_regression_data_reduced.drop('gdppercap_2015', 1)\n",
    "#rf_regression_data_reduced=rf_regression_data_reduced.drop('private_health_insurance_spending_millions', 1)\n",
    "\n",
    "rf_regression_data_reduced=rf_regression_data_reduced.drop('marketplace_tax_credits_2016', 1)\n",
    "\n",
    "\n",
    "#stuff i can still  remove:\n",
    "\n",
    "#2015_100_199_fedpl                            0.533331\n",
    "#2015_under199_fed_pl                          0.525881\n",
    "#2015_over200_fed_pl                           0.521096\n",
    "#ratio_rich_to_poor                            0.514728\n",
    "#2010_100_199_fedpl                            0.504546\n",
    "\n",
    "#health_expense_per_cap_2011                   0.470429\n",
    "#2015_under_fed_pl                             0.468024\n",
    "#health_expense_per_cap_2010                   0.467017\n",
    "#2010_under_fed_pl                             0.460204\n",
    "#health_expense_per_cap_2013                   0.455559\n",
    "#health_expense_per_cap_2012                   0.455559\n",
    "#PC1                                           0.454710\n",
    "\n",
    "#2015_over400_pl                               0.428995\n",
    "#insurance_coverage_change                     0.413168\n",
    "#PC2                                           0.411653\n",
    "#2010_over400_pl                               0.406959\n",
    "#medicaid_enrollment_change                    0.370644\n",
    "#gdppercap_2012                                0.323737\n",
    "\n",
    "\n",
    "\n",
    "#medicare_enrollment_2016                      0.287244\n",
    "#marketplace_health_coverage_2016              0.282511\n",
    "\n",
    "#medicaid_expansion                            0.260766\n",
    "#employer_health_coverage_2015                 0.258529\n",
    "\n",
    "\n",
    "#medicaidXpolitics                             0.231862\n",
    "#political_lean                                0.231862\n"
   ]
  },
  {
   "cell_type": "code",
   "execution_count": 70,
   "metadata": {},
   "outputs": [
    {
     "name": "stdout",
     "output_type": "stream",
     "text": [
      "[0.77105159 0.57463284 0.54913218 0.59986559 0.46015201]\n",
      "--- 0.057877302169799805 seconds ---\n"
     ]
    }
   ],
   "source": [
    "start_time = time.time()\n",
    "\n",
    "rf_rc2= ensemble.RandomForestClassifier()\n",
    "X = rf_regression_data_reduced\n",
    "X = X.dropna(axis=1)\n",
    "Y = state_aca_df['uninsured_change_cat']\n",
    "\n",
    "print(cross_val_score(rf, X, Y, cv=5))\n",
    "print(\"--- %s seconds ---\" % (time.time() - start_time))"
   ]
  },
  {
   "cell_type": "code",
   "execution_count": null,
   "metadata": {},
   "outputs": [],
   "source": [
    "rf_regression_data_reduced.head()"
   ]
  },
  {
   "cell_type": "code",
   "execution_count": null,
   "metadata": {},
   "outputs": [],
   "source": [
    "rf_regression_data_reduced=rf_regression_data_reduced.drop('employer_health_coverage_2015', 1)\n",
    "rf_regression_data_reduced=rf_regression_data_reduced.drop('medicare_enrollment_2016', 1)\n",
    "rf_regression_data_reduced=rf_regression_data_reduced.drop('health_expense_per_cap_2013', 1)\n",
    "\n",
    "\n",
    "#health_expense_per_cap_2012                   0.455559\n",
    "#PC1                                           0.454710\n",
    "\n",
    "#2015_over400_pl                               0.428995\n",
    "#insurance_coverage_change                     0.413168\n",
    "#PC2                                           0.411653\n",
    "#2010_over400_pl                               0.406959\n",
    "#medicaid_enrollment_change                    0.370644\n",
    "#gdppercap_2012                                0.323737\n",
    "\n",
    "\n",
    "\n",
    "#medicaid_expansion                            0.260766\n",
    "\n",
    "\n",
    "#medicaidXpolitics                             0.231862\n",
    "#political_lean                                0.231862"
   ]
  },
  {
   "cell_type": "code",
   "execution_count": null,
   "metadata": {},
   "outputs": [],
   "source": [
    "start_time = time.time()\n",
    "\n",
    "rf_rc2= ensemble.RandomForestClassifier()\n",
    "X = rf_regression_data_reduced\n",
    "X = X.dropna(axis=1)\n",
    "Y = state_aca_df['uninsured_change_cat']\n",
    "\n",
    "print(cross_val_score(rf, X, Y, cv=5))\n",
    "print(\"--- %s seconds ---\" % (time.time() - start_time))"
   ]
  },
  {
   "cell_type": "code",
   "execution_count": null,
   "metadata": {},
   "outputs": [],
   "source": [
    "rf_regression_data_reduced.head()"
   ]
  },
  {
   "cell_type": "code",
   "execution_count": null,
   "metadata": {},
   "outputs": [],
   "source": [
    "rf_regression_data_reduced=rf_regression_data_reduced.drop('health_expense_per_cap_2011', 1)\n",
    "rf_regression_data_reduced=rf_regression_data_reduced.drop('health_expense_per_cap_2010', 1)"
   ]
  },
  {
   "cell_type": "code",
   "execution_count": 85,
   "metadata": {},
   "outputs": [
    {
     "name": "stdout",
     "output_type": "stream",
     "text": [
      "[0.35694007 0.48527954]\n",
      "--- 0.03388643264770508 seconds ---\n"
     ]
    },
    {
     "name": "stderr",
     "output_type": "stream",
     "text": [
      "D:\\Anaconda\\lib\\site-packages\\sklearn\\ensemble\\forest.py:246: FutureWarning: The default value of n_estimators will change from 10 in version 0.20 to 100 in 0.22.\n",
      "  \"10 in version 0.20 to 100 in 0.22.\", FutureWarning)\n",
      "D:\\Anaconda\\lib\\site-packages\\sklearn\\ensemble\\forest.py:246: FutureWarning: The default value of n_estimators will change from 10 in version 0.20 to 100 in 0.22.\n",
      "  \"10 in version 0.20 to 100 in 0.22.\", FutureWarning)\n"
     ]
    }
   ],
   "source": [
    "start_time = time.time()\n",
    "\n",
    "rf_rc2= ensemble.RandomForestClassifier()\n",
    "X = rf_regression_data_reduced\n",
    "X = X.dropna(axis=1)\n",
    "Y = state_aca_df['uninsured_change_cat']\n",
    "\n",
    "print(cross_val_score(rf, X, Y, cv=2))\n",
    "print(\"--- %s seconds ---\" % (time.time() - start_time))"
   ]
  },
  {
   "cell_type": "markdown",
   "metadata": {},
   "source": [
    "I think I've got this backwards. Let's try adding variables one by one from this list instead:\n",
    "\n",
    "uninsured_rate_2010                           0.691838\n",
    "2015_100_199_fedpl                            0.533331\n",
    "2015_under199_fed_pl                          0.525881\n",
    "2015_over200_fed_pl                           0.521096\n",
    "ratio_rich_to_poor                            0.514728\n",
    "2010_100_199_fedpl                            0.504546\n",
    "health_expense_per_cap_2009                   0.475121\n",
    "health_expense_per_cap_2011                   0.470429\n",
    "2015_under_fed_pl                             0.468024\n",
    "health_expense_per_cap_2010                   0.467017\n",
    "2010_under_fed_pl                             0.460204\n",
    "health_expense_per_cap_2013                   0.455559\n",
    "health_expense_per_cap_2012                   0.455559\n",
    "PC1                                           0.454710\n",
    "health_expense_per_cap_2014                   0.433905\n",
    "2015_over400_pl                               0.428995\n",
    "insurance_coverage_change                     0.413168\n",
    "PC2                                           0.411653\n",
    "2010_over400_pl                               0.406959\n",
    "medicaid_enrollment_change                    0.370644\n",
    "gdppercap_2012                                0.323737\n",
    "gdppercap_2013                                0.318105\n",
    "gdppercap_2014                                0.317612\n",
    "medicaid_enrollment_2016                      0.313829\n",
    "gdppercap_2015                                0.312468\n",
    "gdppercap_2011                                0.310643\n",
    "gdppercap_2010                                0.299206\n",
    "medicare_enrollment_2016                      0.287244\n",
    "marketplace_health_coverage_2016              0.282511\n",
    "marketplace_tax_credits_2016                  0.280041\n",
    "uninsured_rate_2015                           0.276461\n",
    "medicaid_expansion                            0.260766\n",
    "employer_health_coverage_2015                 0.258529\n",
    "medicaid_enrollment_2013                      0.253278\n",
    "private_health_insurance_spending_millions    0.239035\n",
    "medicaidXpolitics                             0.231862\n",
    "political_lean                                0.231862\n",
    "PC3                                           0.114192\n",
    "2015_200_399_fedpl                            0.072603\n",
    "average_monthly_tax_credit_2016               0.069749\n",
    "2010_200_399_fedpl                            0.035352"
   ]
  },
  {
   "cell_type": "markdown",
   "metadata": {},
   "source": [
    "## Final RF model"
   ]
  },
  {
   "cell_type": "code",
   "execution_count": 131,
   "metadata": {},
   "outputs": [
    {
     "name": "stdout",
     "output_type": "stream",
     "text": [
      "0.9803921568627451\n"
     ]
    },
    {
     "name": "stderr",
     "output_type": "stream",
     "text": [
      "D:\\Anaconda\\lib\\site-packages\\sklearn\\ensemble\\forest.py:246: FutureWarning: The default value of n_estimators will change from 10 in version 0.20 to 100 in 0.22.\n",
      "  \"10 in version 0.20 to 100 in 0.22.\", FutureWarning)\n"
     ]
    }
   ],
   "source": [
    "finalmodel_df=pd.DataFrame()\n",
    "\n",
    "finalmodel_df['health_expense_per_cap_2012']=state_aca_df['health_expense_per_cap_2012']\n",
    "finalmodel_df['ratio_rich_to_poor']=state_aca_df['ratio_rich_to_poor']\n",
    "finalmodel_df['uninsured_rate_2010']=state_aca_df['uninsured_rate_2010']\n",
    "finalmodel_df['political_lean']=state_aca_df['political_lean']\n",
    "finalmodel_df['medicaid_expansion']=state_aca_df['medicaid_expansion']\n",
    "\n",
    "\n",
    "rf_rc2= ensemble.RandomForestClassifier()\n",
    "X = finalmodel_df\n",
    "X = X.dropna(axis=1)\n",
    "Y = state_aca_df['uninsured_change_cat']\n",
    "rf_rc2.fit(X, Y)\n",
    "\n",
    "print(rf_rc2.score(X, Y))"
   ]
  },
  {
   "cell_type": "code",
   "execution_count": 132,
   "metadata": {},
   "outputs": [
    {
     "name": "stdout",
     "output_type": "stream",
     "text": [
      "0.11538461538461539\n"
     ]
    }
   ],
   "source": [
    "X_train, X_test, y_train, y_test = train_test_split(X, Y, test_size=0.5, random_state=1)\n",
    "\n",
    "rf_rc2.fit(X_train, y_train)\n",
    "\n",
    "print(rf_rc2.score(X_test, y_test))\n"
   ]
  },
  {
   "cell_type": "markdown",
   "metadata": {},
   "source": [
    "This is gpod, but the test/train data doesn't work out great. Likely a product of the low sample size."
   ]
  },
  {
   "cell_type": "markdown",
   "metadata": {},
   "source": [
    "<h1><center>Multivariable Linear Regression</center></h1>\n",
    "\n",
    "Let's do a quick test on the  whole dataset first:"
   ]
  },
  {
   "cell_type": "code",
   "execution_count": 133,
   "metadata": {},
   "outputs": [
    {
     "name": "stdout",
     "output_type": "stream",
     "text": [
      "\n",
      "Coefficients: \n",
      " [-4.56021176e-04 -9.34799028e-01  4.18844444e-01  9.78061052e-01\n",
      "  2.74337584e+00]\n",
      "\n",
      "Intercept: \n",
      " 2.956122555988567\n",
      "\n",
      "R-squared:\n",
      "0.8024392015415871\n"
     ]
    }
   ],
   "source": [
    "from matplotlib import pyplot as plt\n",
    "import numpy as np\n",
    "import pandas as pd\n",
    "import seaborn as sns\n",
    "from sklearn import linear_model\n",
    "import statsmodels.formula.api as smf\n",
    "\n",
    "# Instantiate and fit our model.\n",
    "regr = linear_model.LinearRegression()\n",
    "regr.fit(X, Y)\n",
    "\n",
    "# Inspect the results.\n",
    "print('\\nCoefficients: \\n', regr.coef_)\n",
    "print('\\nIntercept: \\n', regr.intercept_)\n",
    "print('\\nR-squared:')\n",
    "print(regr.score(X, Y))"
   ]
  },
  {
   "cell_type": "markdown",
   "metadata": {},
   "source": [
    "Looks pretty decent, let's try one other validation method."
   ]
  },
  {
   "cell_type": "code",
   "execution_count": 134,
   "metadata": {},
   "outputs": [
    {
     "name": "stdout",
     "output_type": "stream",
     "text": [
      "[0.72823529 0.74490741 0.52824675 0.4900463  0.24115854 0.70349462\n",
      " 0.65771028 0.635      0.5988806  0.46480892]\n",
      "--- 2617.7331409454346 seconds ---\n"
     ]
    }
   ],
   "source": [
    "print(cross_val_score(rf, X, Y, cv=10))\n",
    "print(\"--- %s seconds ---\" % (time.time() - start_time))"
   ]
  },
  {
   "cell_type": "markdown",
   "metadata": {},
   "source": [
    "This model looks pretty good. Let's try to train and test it:\n",
    "\n"
   ]
  },
  {
   "cell_type": "code",
   "execution_count": 135,
   "metadata": {},
   "outputs": [],
   "source": [
    "X_train, X_test, y_train, y_test = train_test_split(X, Y, test_size=0.9, random_state=1)\n"
   ]
  },
  {
   "cell_type": "code",
   "execution_count": 136,
   "metadata": {},
   "outputs": [
    {
     "name": "stdout",
     "output_type": "stream",
     "text": [
      "0.8000009248484761\n"
     ]
    }
   ],
   "source": [
    "print(regr.score(X_test, y_test))"
   ]
  },
  {
   "cell_type": "markdown",
   "metadata": {},
   "source": [
    "Looks great but we're doing this on the decile data...let's run the raw data:"
   ]
  },
  {
   "cell_type": "code",
   "execution_count": null,
   "metadata": {},
   "outputs": [],
   "source": [
    "Let's also try this regression model with the raw data just to see if it fits better:"
   ]
  },
  {
   "cell_type": "code",
   "execution_count": 140,
   "metadata": {},
   "outputs": [
    {
     "name": "stdout",
     "output_type": "stream",
     "text": [
      "\n",
      "Coefficients: \n",
      " [ 4.15031566e-04  5.71305534e-01 -2.91405617e-01 -7.12066612e-01\n",
      " -2.03242148e+00]\n",
      "\n",
      "Intercept: \n",
      " -4.039735840194501\n",
      "\n",
      "R-squared:\n",
      "0.7814266713082993\n"
     ]
    }
   ],
   "source": [
    "Y1 = state_aca_df['uninsured_rate_change']\n",
    "\n",
    "# Instantiate and fit our model.\n",
    "regr = linear_model.LinearRegression()\n",
    "regr.fit(X, Y1)\n",
    "\n",
    "# Inspect the results.\n",
    "print('\\nCoefficients: \\n', regr.coef_)\n",
    "print('\\nIntercept: \\n', regr.intercept_)\n",
    "print('\\nR-squared:')\n",
    "print(regr.score(X, Y))"
   ]
  },
  {
   "cell_type": "code",
   "execution_count": 147,
   "metadata": {},
   "outputs": [],
   "source": [
    "RX_train, RX_test, RY_train, RY_test = train_test_split(X, Y1, test_size=0.5, random_state=6666)"
   ]
  },
  {
   "cell_type": "code",
   "execution_count": 148,
   "metadata": {},
   "outputs": [
    {
     "name": "stdout",
     "output_type": "stream",
     "text": [
      "\n",
      "Coefficients: \n",
      " [ 2.93503422e-04  7.58249400e-01 -2.13395549e-01 -8.63719662e-01\n",
      " -1.90373347e+00]\n",
      "\n",
      "Intercept: \n",
      " -4.668369792724917\n",
      "\n",
      "R-squared:\n",
      "0.7200774337116046\n"
     ]
    }
   ],
   "source": [
    "regr = linear_model.LinearRegression()\n",
    "regr.fit(RX_train, RY_train)\n",
    "\n",
    "# Inspect the results.\n",
    "print('\\nCoefficients: \\n', regr.coef_)\n",
    "print('\\nIntercept: \\n', regr.intercept_)\n",
    "print('\\nR-squared:')\n",
    "print(regr.score(RX_train, RY_train))"
   ]
  },
  {
   "cell_type": "code",
   "execution_count": 149,
   "metadata": {},
   "outputs": [
    {
     "name": "stdout",
     "output_type": "stream",
     "text": [
      "0.7622455008709657\n"
     ]
    }
   ],
   "source": [
    "print(regr.score(RX_test, RY_test))"
   ]
  },
  {
   "cell_type": "markdown",
   "metadata": {},
   "source": [
    "Our multivariable regression model is the best to date and by a large margin. Let's take a look at how the variables we've included correlate with our outcome variable:\n",
    "\n",
    "finalmodel_df['health_expense_per_cap_2012']=state_aca_df['health_expense_per_cap_2012']\n",
    "finalmodel_df['ratio_rich_to_poor']=state_aca_df['ratio_rich_to_poor']\n",
    "finalmodel_df['uninsured_rate_2010']=state_aca_df['uninsured_rate_2010']\n",
    "finalmodel_df['political_lean']=state_aca_df['political_lean']\n",
    "finalmodel_df['medicaid_expansion']=state_aca_df['medicaid_expansion']"
   ]
  },
  {
   "cell_type": "code",
   "execution_count": 181,
   "metadata": {},
   "outputs": [
    {
     "data": {
      "text/plain": [
       "Text(0, 0.5, '')"
      ]
     },
     "execution_count": 181,
     "metadata": {},
     "output_type": "execute_result"
    },
    {
     "data": {
      "image/png": "[encoded data removed]",
      "text/plain": [
       "<Figure size 1296x432 with 2 Axes>"
      ]
     },
     "metadata": {},
     "output_type": "display_data"
    }
   ],
   "source": [
    "plt.figure(figsize=(18,6))\n",
    "\n",
    "plt.subplot(1, 2, 1)\n",
    "plt.suptitle('Regression plots for variables included in our Multivariable regression model')\n",
    "sns.set(style=\"darkgrid\")\n",
    "sns.regplot(state_aca_df['health_expense_per_cap_2012'], Y)\n",
    "plt.title('State Health Expense Per Capita 2012', fontsize=14)\n",
    "plt.xlabel('State Health Expense Per Capita 2012')\n",
    "plt.ylabel('Deciles of % change in uninsured individuals (by state)')\n",
    "\n",
    "plt.subplot(1, 2, 2)\n",
    "sns.set(style=\"darkgrid\")\n",
    "sns.regplot(state_aca_df['ratio_rich_to_poor'], Y)\n",
    "plt.title('Ratio of Rich/Poor', fontsize=14)\n",
    "plt.xlabel('Ratio of Rich/Poor')\n",
    "plt.ylabel('')"
   ]
  },
  {
   "cell_type": "code",
   "execution_count": 186,
   "metadata": {},
   "outputs": [
    {
     "data": {
      "text/plain": [
       "Text(0, 0.5, '')"
      ]
     },
     "execution_count": 186,
     "metadata": {},
     "output_type": "execute_result"
    },
    {
     "data": {
      "image/png": "[encoded data removed]",
      "text/plain": [
       "<Figure size 1440x720 with 3 Axes>"
      ]
     },
     "metadata": {},
     "output_type": "display_data"
    }
   ],
   "source": [
    "plt.figure(figsize=(20,10))\n",
    "\n",
    "plt.subplot(1, 3, 1)\n",
    "plt.suptitle('Regression plots for variables included in our Multivariable regression model')\n",
    "sns.set(style=\"darkgrid\")\n",
    "sns.regplot(state_aca_df['uninsured_rate_2010'], Y)\n",
    "plt.title('State Uninsured Rate 2010', fontsize=14)\n",
    "plt.xlabel('State Uninsured Rate 2010')\n",
    "plt.ylabel('Deciles of % change in uninsured individuals (by state)')\n",
    "\n",
    "plt.subplot(1, 3, 2)\n",
    "sns.set(style=\"darkgrid\")\n",
    "sns.regplot(state_aca_df['political_lean'], Y)\n",
    "plt.title('Political Lean', fontsize=14)\n",
    "plt.xlabel('Political Lean')\n",
    "plt.ylabel('')\n",
    "\n",
    "plt.subplot(1, 3, 3)\n",
    "sns.set(style=\"darkgrid\")\n",
    "sns.regplot(state_aca_df['medicaid_expansion'], Y)\n",
    "plt.title('Medicaid Expansion Status', fontsize=14)\n",
    "plt.xlabel('Medicaid Expansion State')\n",
    "plt.ylabel('')\n",
    "\n"
   ]
  },
  {
   "cell_type": "markdown",
   "metadata": {},
   "source": [
    "<h1><center>Support Vector Machines</center></h1>"
   ]
  },
  {
   "cell_type": "markdown",
   "metadata": {},
   "source": [
    "<h1><center>Gradient Boost</center></h1>"
   ]
  },
  {
   "cell_type": "code",
   "execution_count": 208,
   "metadata": {},
   "outputs": [],
   "source": [
    "X_train1, X_test1, Y_train1, Y_test1 = train_test_split(X, Y, test_size=0.9, random_state=1)"
   ]
  },
  {
   "cell_type": "code",
   "execution_count": 209,
   "metadata": {},
   "outputs": [
    {
     "data": {
      "text/plain": [
       "1.0"
      ]
     },
     "execution_count": 209,
     "metadata": {},
     "output_type": "execute_result"
    }
   ],
   "source": [
    "params = {'n_estimators': 2,\n",
    "          'max_depth': 2,\n",
    "          'loss': 'deviance'}\n",
    "\n",
    "# Initialize and fit the model.\n",
    "clf = ensemble.GradientBoostingClassifier(**params)\n",
    "clf.fit(X_train1, Y_train1)\n",
    "\n",
    "predict_train = clf.predict(X)\n",
    "\n",
    "#score\n",
    "clf.score(X_train1, Y_train1)\n"
   ]
  },
  {
   "cell_type": "code",
   "execution_count": 210,
   "metadata": {},
   "outputs": [
    {
     "data": {
      "text/plain": [
       "0.13043478260869565"
      ]
     },
     "execution_count": 210,
     "metadata": {},
     "output_type": "execute_result"
    }
   ],
   "source": [
    "clf.score(X_test1, Y_test1)"
   ]
  },
  {
   "cell_type": "markdown",
   "metadata": {},
   "source": [
    "Given the lack of data here, it's almost impossible not to overfit. We're really going to have to try smote. There's no point trying to optimize these models any further as they will not out perform our regression model."
   ]
  },
  {
   "cell_type": "code",
   "execution_count": null,
   "metadata": {},
   "outputs": [],
   "source": []
  },
  {
   "cell_type": "code",
   "execution_count": 211,
   "metadata": {},
   "outputs": [
    {
     "ename": "SyntaxError",
     "evalue": "invalid syntax (<ipython-input-211-e2e9643d6a1c>, line 1)",
     "output_type": "error",
     "traceback": [
      "\u001b[1;36m  File \u001b[1;32m\"<ipython-input-211-e2e9643d6a1c>\"\u001b[1;36m, line \u001b[1;32m1\u001b[0m\n\u001b[1;33m    import imbalanced-learn as imb\u001b[0m\n\u001b[1;37m                     ^\u001b[0m\n\u001b[1;31mSyntaxError\u001b[0m\u001b[1;31m:\u001b[0m invalid syntax\n"
     ]
    }
   ],
   "source": [
    "import imbalanced-learn as imb"
   ]
  }
 ],
 "metadata": {
  "kernelspec": {
   "display_name": "Python 3",
   "language": "python",
   "name": "python3"
  },
  "language_info": {
   "codemirror_mode": {
    "name": "ipython",
    "version": 3
   },
   "file_extension": ".py",
   "mimetype": "text/x-python",
   "name": "python",
   "nbconvert_exporter": "python",
   "pygments_lexer": "ipython3",
   "version": "3.6.8"
  }
 },
 "nbformat": 4,
 "nbformat_minor": 2
}
