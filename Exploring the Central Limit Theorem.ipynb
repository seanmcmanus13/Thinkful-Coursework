{
 "cells": [
  {
   "cell_type": "code",
   "execution_count": 2,
   "metadata": {},
   "outputs": [],
   "source": [
    "import numpy as np\n",
    "import pandas as pd\n",
    "import scipy\n",
    "import matplotlib.pyplot as plt\n",
    "%matplotlib inline"
   ]
  },
  {
   "cell_type": "markdown",
   "metadata": {},
   "source": [
    "Default:"
   ]
  },
  {
   "cell_type": "code",
   "execution_count": 35,
   "metadata": {},
   "outputs": [
    {
     "name": "stdout",
     "output_type": "stream",
     "text": [
      "2.165\n",
      "4.907\n",
      "1.2279148993313829\n",
      "1.6662385783554523\n"
     ]
    }
   ],
   "source": [
    "pop1 = np.random.binomial(10, 0.2, 100)\n",
    "pop2 = np.random.binomial(10,0.5, 100) \n",
    "\n",
    "sample1 = np.random.choice(pop1, 1000, replace=True)\n",
    "sample2 = np.random.choice(pop2, 1000, replace=True)\n",
    "\n",
    "print(sample1.mean())\n",
    "print(sample2.mean())\n",
    "print(sample1.std())\n",
    "print(sample2.std())"
   ]
  },
  {
   "cell_type": "markdown",
   "metadata": {},
   "source": [
    "1st change:"
   ]
  },
  {
   "cell_type": "code",
   "execution_count": 36,
   "metadata": {},
   "outputs": [
    {
     "name": "stdout",
     "output_type": "stream",
     "text": [
      "1.939\n",
      "4.949\n",
      "1.2725089390648694\n",
      "1.596996869126549\n"
     ]
    }
   ],
   "source": [
    "pop1 = np.random.binomial(10, 0.2, 1000)\n",
    "pop2 = np.random.binomial(10,0.5, 1000) \n",
    "\n",
    "sample1 = np.random.choice(pop1, 1000, replace=True)\n",
    "sample2 = np.random.choice(pop2, 1000, replace=True)\n",
    "\n",
    "print(sample1.mean())\n",
    "print(sample2.mean())\n",
    "print(sample1.std())\n",
    "print(sample2.std())"
   ]
  },
  {
   "cell_type": "markdown",
   "metadata": {},
   "source": [
    "2nd change:"
   ]
  },
  {
   "cell_type": "code",
   "execution_count": 37,
   "metadata": {},
   "outputs": [
    {
     "name": "stdout",
     "output_type": "stream",
     "text": [
      "1.8\n",
      "4.75\n",
      "1.1224972160321824\n",
      "1.2599603168354152\n"
     ]
    }
   ],
   "source": [
    "pop1 = np.random.binomial(10, 0.2, 1000)\n",
    "pop2 = np.random.binomial(10,0.5, 1000) \n",
    "\n",
    "sample1 = np.random.choice(pop1, 20, replace=True)\n",
    "sample2 = np.random.choice(pop2, 20, replace=True)\n",
    "\n",
    "print(sample1.mean())\n",
    "print(sample2.mean())\n",
    "print(sample1.std())\n",
    "print(sample2.std())"
   ]
  },
  {
   "cell_type": "markdown",
   "metadata": {},
   "source": [
    "With a larger sample size our standard deviation decreases (a large sample decreases the weighting of any outliers on descriptors of variance) and on average when the code is ran our mean will better approximate the \"true\" mean. You can also compute this via code, which would look like this:\n",
    "\n"
   ]
  },
  {
   "cell_type": "code",
   "execution_count": 39,
   "metadata": {},
   "outputs": [
    {
     "name": "stdout",
     "output_type": "stream",
     "text": [
      "Ttest_indResult(statistic=10.390121390349288, pvalue=3.293707326838492e-20)\n"
     ]
    }
   ],
   "source": [
    "#p=0.03\n",
    "pop1 = np.random.binomial(10, 0.3, 1000)\n",
    "pop2 = np.random.binomial(10,0.5, 1000) \n",
    "\n",
    "sample1 = np.random.choice(pop1, 100, replace=True)\n",
    "sample2 = np.random.choice(pop2, 100, replace=True)\n",
    "\n",
    "from scipy.stats import ttest_ind\n",
    "print(ttest_ind(sample2, sample1, equal_var=False))\n"
   ]
  },
  {
   "cell_type": "code",
   "execution_count": 43,
   "metadata": {},
   "outputs": [
    {
     "name": "stdout",
     "output_type": "stream",
     "text": [
      "Ttest_indResult(statistic=5.279369307728612, pvalue=3.3989983602527933e-07)\n"
     ]
    }
   ],
   "source": [
    "#p=0.04\n",
    "pop1 = np.random.binomial(10, 0.4, 1000)\n",
    "pop2 = np.random.binomial(10,0.5, 1000) \n",
    "\n",
    "sample1 = np.random.choice(pop1, 100, replace=True)\n",
    "sample2 = np.random.choice(pop2, 100, replace=True)\n",
    "\n",
    "from scipy.stats import ttest_ind\n",
    "\n",
    "print(ttest_ind(sample2, sample1, equal_var=False))\n"
   ]
  },
  {
   "cell_type": "markdown",
   "metadata": {},
   "source": [
    "The t-value is shrinks because the samples are more similar in the second test, the p-value still shows a statistically significant difference but it's a quite a bit larger.\n",
    "\n",
    "The central limit theorem states that as long as our sample sizes are sufficiently large, the statistical test we are using should still be predictive. Shown below:"
   ]
  },
  {
   "cell_type": "code",
   "execution_count": 45,
   "metadata": {},
   "outputs": [
    {
     "name": "stdout",
     "output_type": "stream",
     "text": [
      "Ttest_indResult(statistic=12.020843623170563, pvalue=8.29377415563958e-24)\n",
      "Ttest_indResult(statistic=6.576564850644629, pvalue=4.436974700937793e-10)\n"
     ]
    }
   ],
   "source": [
    "#p=0.03\n",
    "pop1 = np.random.gamma(10, 0.3, 1000)\n",
    "pop2 = np.random.gamma(10,0.5, 1000) \n",
    "\n",
    "sample1 = np.random.choice(pop1, 100, replace=True)\n",
    "sample2 = np.random.choice(pop2, 100, replace=True)\n",
    "\n",
    "from scipy.stats import ttest_ind\n",
    "\n",
    "print(ttest_ind(sample2, sample1, equal_var=False))\n",
    "\n",
    "#p=0.04\n",
    "pop1 = np.random.gamma(10, 0.4, 1000)\n",
    "pop2 = np.random.gamma(10,0.5, 1000) \n",
    "\n",
    "sample1 = np.random.choice(pop1, 100, replace=True)\n",
    "sample2 = np.random.choice(pop2, 100, replace=True)\n",
    "\n",
    "from scipy.stats import ttest_ind\n",
    "\n",
    "print(ttest_ind(sample2, sample1, equal_var=False))\n"
   ]
  },
  {
   "cell_type": "markdown",
   "metadata": {},
   "source": [
    "Test still show a significant difference - same pattern as above."
   ]
  }
 ],
 "metadata": {
  "kernelspec": {
   "display_name": "Python 3",
   "language": "python",
   "name": "python3"
  },
  "language_info": {
   "codemirror_mode": {
    "name": "ipython",
    "version": 3
   },
   "file_extension": ".py",
   "mimetype": "text/x-python",
   "name": "python",
   "nbconvert_exporter": "python",
   "pygments_lexer": "ipython3",
   "version": "3.7.1"
  }
 },
 "nbformat": 4,
 "nbformat_minor": 2
}
