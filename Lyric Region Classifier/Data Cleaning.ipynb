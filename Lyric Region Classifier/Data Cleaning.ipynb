{
 "cells": [
  {
   "cell_type": "code",
   "execution_count": 233,
   "metadata": {},
   "outputs": [
    {
     "name": "stdout",
     "output_type": "stream",
     "text": [
      "showing info https://raw.githubusercontent.com/nltk/nltk_data/gh-pages/index.xml\n"
     ]
    },
    {
     "data": {
      "text/plain": [
       "True"
      ]
     },
     "execution_count": 233,
     "metadata": {},
     "output_type": "execute_result"
    }
   ],
   "source": [
    "import pandas as pd\n",
    "import numpy as np\n",
    "import matplotlib.pyplot as plt\n",
    "import re #regular expressions\n",
    "import scipy.stats\n",
    "import math\n",
    "from matplotlib.mlab import PCA as mlabPCA\n",
    "from sklearn  import preprocessing\n",
    "from sklearn import ensemble\n",
    "import string\n",
    "\n",
    "#specifically nlp stuff\n",
    "\n",
    "import re\n",
    "from nltk.corpus import  stopwords\n",
    "from collections import Counter\n",
    "from nltk.tokenize import word_tokenize\n",
    "import nltk\n",
    "nltk.download()"
   ]
  },
  {
   "cell_type": "code",
   "execution_count": 380,
   "metadata": {},
   "outputs": [],
   "source": [
    "bdk = pd.read_csv(r'C:\\Users\\Sean\\Documents\\Thinkful\\RAP NLP\\CSV\\FINAL\\bdkfinal.csv')\n",
    "busta = pd.read_csv(r'C:\\Users\\Sean\\Documents\\Thinkful\\RAP NLP\\CSV\\FINAL\\bustafinal.csv')\n",
    "drdre = pd.read_csv(r'C:\\Users\\Sean\\Documents\\Thinkful\\RAP NLP\\CSV\\FINAL\\drdrefinal.csv')\n",
    "e40 = pd.read_csv(r'C:\\Users\\Sean\\Documents\\Thinkful\\RAP NLP\\CSV\\FINAL\\e40final.csv')\n",
    "eaz = pd.read_csv(r'C:\\Users\\Sean\\Documents\\Thinkful\\RAP NLP\\CSV\\FINAL\\eazfinal.csv')\n",
    "eminem = pd.read_csv(r'C:\\Users\\Sean\\Documents\\Thinkful\\RAP NLP\\CSV\\FINAL\\eminemfinal.csv')\n",
    "jcole = pd.read_csv(r'C:\\Users\\Sean\\Documents\\Thinkful\\RAP NLP\\CSV\\FINAL\\jcolefinal.csv')\n",
    "kanye = pd.read_csv(r'C:\\Users\\Sean\\Documents\\Thinkful\\RAP NLP\\CSV\\FINAL\\kanyefinal.csv')\n",
    "kendrick = pd.read_csv(r'C:\\Users\\Sean\\Documents\\Thinkful\\RAP NLP\\CSV\\FINAL\\kendrickfinal.csv')\n",
    "killermike = pd.read_csv(r'C:\\Users\\Sean\\Documents\\Thinkful\\RAP NLP\\CSV\\FINAL\\killermikefinal.csv')\n",
    "macmiller = pd.read_csv(r'C:\\Users\\Sean\\Documents\\Thinkful\\RAP NLP\\CSV\\FINAL\\macmillerfinal.csv')\n",
    "nas = pd.read_csv(r'C:\\Users\\Sean\\Documents\\Thinkful\\RAP NLP\\CSV\\FINAL\\nasfinal.csv')\n",
    "notorious = pd.read_csv(r'C:\\Users\\Sean\\Documents\\Thinkful\\RAP NLP\\CSV\\FINAL\\notoriousfinal.csv')\n",
    "snoop = pd.read_csv(r'C:\\Users\\Sean\\Documents\\Thinkful\\RAP NLP\\CSV\\FINAL\\snoopfinal.csv')\n",
    "ti = pd.read_csv(r'C:\\Users\\Sean\\Documents\\Thinkful\\RAP NLP\\CSV\\FINAL\\tifinal.csv')\n",
    "tupac = pd.read_csv(r'C:\\Users\\Sean\\Documents\\Thinkful\\RAP NLP\\CSV\\FINAL\\tupacfinal.csv')\n",
    "\n",
    "music = pd.concat([bdk, busta, drdre, e40, eaz, eminem, jcole, kanye, kendrick, killermike, macmiller, nas, notorious, snoop, ti,tupac])\n",
    "music = music.reset_index()"
   ]
  },
  {
   "cell_type": "code",
   "execution_count": 381,
   "metadata": {},
   "outputs": [],
   "source": [
    "music.lyrics = music.lyrics.astype(str)\n",
    "#drop columns we don't need\n",
    "music = music.drop('level_0', 1)\n",
    "music = music.drop('index', 1)\n",
    "#remove anything surrounded by square brackets\n",
    "music.lyrics = music.lyrics.apply(lambda x: re.sub(\"[\\[].*?[\\]]\", \"\", x)).astype(str)\n",
    "\n",
    "#replace \\n with 'replacefullstop' so we can replace this with a regular full  stop later\n",
    "music.lyrics = music.lyrics.apply(lambda x: re.sub(\"\\n\", \"replacefull\", x)).astype(str)\n",
    "\n",
    "#remove verse1, verse2, verse3, chorus\n",
    "music.lyrics = music.lyrics.apply(lambda x: re.sub(\"Verse 1\", \"\", x)).astype(str)\n",
    "music.lyrics = music.lyrics.apply(lambda x: re.sub(\"Verse 2\", \"\", x)).astype(str)\n",
    "music.lyrics = music.lyrics.apply(lambda x: re.sub(\"Verse 3\", \"\", x)).astype(str)\n",
    "\n",
    "\n",
    "\n",
    "#remove abberant punctuation, etc\n",
    "\n",
    "#remove 2x/3x/4x/5x/6x/7x/8x\n",
    "music.lyrics = music.lyrics.apply(lambda x: re.sub(\"(\\()?x\\d+(\\))?\", \"\", x)).astype(str)\n",
    "music.lyrics = music.lyrics.apply(lambda x: re.sub(\"2x\", \"\", x)).astype(str)\n",
    "music.lyrics = music.lyrics.apply(lambda x: re.sub(\"3x\", \"\", x)).astype(str)\n",
    "music.lyrics = music.lyrics.apply(lambda x: re.sub(\"4x\", \"\", x)).astype(str)\n",
    "music.lyrics = music.lyrics.apply(lambda x: re.sub(\"5x\", \"\", x)).astype(str)\n",
    "music.lyrics = music.lyrics.apply(lambda x: re.sub(\"6x\", \"\", x)).astype(str)\n",
    "\n",
    "music.lyrics = music.lyrics.apply(lambda x: re.sub(\"x2\", \"\", x)).astype(str)\n",
    "music.lyrics = music.lyrics.apply(lambda x: re.sub(\"x3\", \"\", x)).astype(str)\n",
    "music.lyrics = music.lyrics.apply(lambda x: re.sub(\"x4\", \"\", x)).astype(str)\n",
    "music.lyrics = music.lyrics.apply(lambda x: re.sub(\"x5\", \"\", x)).astype(str)\n",
    "music.lyrics = music.lyrics.apply(lambda x: re.sub(\"x6\", \"\", x)).astype(str)\n",
    "\n",
    "#change talkin to talking, walkin to walking, etc....\n",
    "music.lyrics = music.lyrics.apply(lambda x: re.sub(\"n\\\\\\' \", \"ng \", x)).astype(str)\n",
    "\n",
    "# Fix apostrophe issues\n",
    "music.lyrics = music.lyrics.apply(lambda x:re.sub(\"\\\\x91\", \"'\", x)).astype(str)\n",
    "music.lyrics = music.lyrics.apply(lambda x:re.sub(\"\\\\x92\", \"'\", x)).astype(str)\n",
    "music.lyrics = music.lyrics.apply(lambda x:re.sub(\"<u\\+0092>\", \"'\", x)).astype(str)\n",
    "\n",
    "#make text lower\n",
    "music.lyrics = music.lyrics.apply(lambda x: x.lower())\n",
    " \n",
    "punc = string.punctuation\n",
    "#remove punctuation..\n",
    "music.lyrics = music.lyrics.apply(lambda x: re.sub(\"'\", \"\", x)).astype(str)\n",
    "music.lyrics = music.lyrics.apply(lambda x: re.sub(\"//\", \"\", x)).astype(str)\n",
    "music.lyrics = music.lyrics.apply(lambda x: re.sub(\"/\", \".\", x)).astype(str)\n",
    "music.lyrics = music.lyrics.apply(lambda x: re.sub(\"-\", \"\", x)).astype(str)\n",
    "music.lyrics = music.lyrics.apply(lambda x: re.sub(\":\", \"\", x)).astype(str)\n",
    "music.lyrics = music.lyrics.apply(lambda x: re.sub(\":\", \"\", x)).astype(str)\n",
    "music.lyrics = music.lyrics.apply(lambda x: re.sub(r'[^\\w\\s]', \" \", x)).astype(str)\n",
    "music.lyrics = music.lyrics.apply(lambda x: re.sub(\"  \", \" \", x)).astype(str)\n",
    "#replacefull\n",
    "music.lyrics = music.lyrics.apply(lambda x: re.sub(\"replacefull\", \". \", x)).astype(str)\n",
    "\n",
    "#replace periods\n",
    "music.lyrics = music.lyrics.apply(lambda x: re.sub(\"^. \", \"\", x)).astype(str)\n",
    "music.lyrics = music.lyrics.apply(lambda x: re.sub(\"^ . \", \"\", x)).astype(str)\n",
    "music.lyrics = music.lyrics.apply(lambda x: re.sub(\"^. . \", \"\", x)).astype(str)\n"
   ]
  },
  {
   "cell_type": "code",
   "execution_count": null,
   "metadata": {},
   "outputs": [],
   "source": []
  },
  {
   "cell_type": "code",
   "execution_count": 382,
   "metadata": {},
   "outputs": [
    {
     "name": "stdout",
     "output_type": "stream",
     "text": [
      "0       party people in the place. embrace the bass as...\n",
      "1       here i am    raw. terrorist here to bring trou...\n",
      "2       let it roll get bold i just cant hold. back or...\n",
      "3       talk about ever meeting ms right. but one thin...\n",
      "4       yo on the mic right about now i go by the name...\n",
      "5       mmm mmm mmm. aw yea im with this. im just gonn...\n",
      "6       hear ye hear ye from far and near. the one the...\n",
      "7       funky . ready . funky funky ahhh  . one two on...\n",
      "8        who is the man with the master plan . dj mist...\n",
      "9       grab a hold of yourself open your eyes. get wi...\n",
      "10       dr harrah is mr kane loose in this hospital ....\n",
      "11      here comes the conquering brother that fathoms...\n",
      "12      the kiss of death on a rap pick. then you get ...\n",
      "13      on and on and on and on. me say the beat dont ...\n",
      "14      so out of the mercy of allah. and the law writ...\n",
      "15      well excuse me take a few minutes to mellow ou...\n",
      "16       yo whassup big daddy .  aiyyo whassup red ale...\n",
      "17      he has arrived at the apollo. big  daddy  kane...\n",
      "18       hey yo teddy.  yo.  i ran into a young lady m...\n",
      "19      here we go here we go on the smooth side. lets...\n",
      "20      anything goes when it comes to hoes they go. p...\n",
      "21      yo tone. play me some more pimp shit. . and yo...\n",
      "22      mmmm mmm mmm . .  . . my my my my my my my my ...\n",
      "23      introducing ladies and gentlemen. the young ma...\n",
      "24      chorus all together . . well here we are. unit...\n",
      "25      come get some you little bum. i take the cake ...\n",
      "26      lean on me  . .  big daddy kane a teacher   . ...\n",
      "27      yeah . you know 1990 begins a new decade. sinc...\n",
      "28      move over bacon theres something meatier. a na...\n",
      "29      uhh put your weight on it. uhh and uh prince p...\n",
      "                              ...                        \n",
      "1001    they say. influenced by crime addicted to grin...\n",
      "1002    heaven aint hard to find. all you gotta do is ...\n",
      "1003    at 1225 am wednesday 2pac was on his way into ...\n",
      "1004    a coward dies a thousand deaths. a soldier die...\n",
      "1005    its just me against the world. nothing to lose...\n",
      "1006    i shall not fear no man but god. though i walk...\n",
      "1007    heyyyy heyyayyaahhyy. . . yo mo bee mayn drop ...\n",
      "1008    i wanna dedicate this one to robert yummy sand...\n",
      "1009    oh you thug life is yours . life aint no somet...\n",
      "1010    damn another funeral another motherfucker. lor...\n",
      "1011    you are appreciated. when i was young me and m...\n",
      "1012    keeping it real. . . i take a shot of hennessy...\n",
      "1013    whassup its 2pac can you get away . let me com...\n",
      "1014    here we go we gonna send this one out to the o...\n",
      "1015    who you calling rapist . aint that a bitch. yo...\n",
      "1016    child why you by the window whats wrong daddy ...\n",
      "1017    thats right nigga you gotta get your papers in...\n",
      "1018    hard like an erection. young black male. hard ...\n",
      "1019    you know they got me trapped in this prison of...\n",
      "1020    all you wanted to be a soulja a soulja. all yo...\n",
      "1021     whats up .  yo this scene rollers tried to ja...\n",
      "1022    they claim that im violent. just cause i refus...\n",
      "1023    killing us one by one. in one way or another. ...\n",
      "1024    something wicked this way comes. somesomething...\n",
      "1025     suddenly i see some niggas that i dont like ....\n",
      "1026    ever since you was a peewee down by my knee wi...\n",
      "1027    brendas got a baby. . . i hear brendas got a b...\n",
      "1028    oh shit jumped on my mans dick. heard he had a...\n",
      "1029    rebel   rebel. rebel. rebel   rebel. . . they ...\n",
      "1030    shes a part time mutha. . . meet cindi. shes t...\n",
      "Name: lyrics, Length: 1031, dtype: object\n"
     ]
    }
   ],
   "source": [
    "print(music.lyrics)"
   ]
  },
  {
   "cell_type": "code",
   "execution_count": 383,
   "metadata": {},
   "outputs": [],
   "source": [
    "#export concatonated database\n",
    "music.to_csv (r'C:\\Users\\Sean\\Documents\\Thinkful\\RAP NLP\\CSV\\music_clean_final.csv', index = None, header=True)"
   ]
  }
 ],
 "metadata": {
  "kernelspec": {
   "display_name": "Python 3",
   "language": "python",
   "name": "python3"
  },
  "language_info": {
   "codemirror_mode": {
    "name": "ipython",
    "version": 3
   },
   "file_extension": ".py",
   "mimetype": "text/x-python",
   "name": "python",
   "nbconvert_exporter": "python",
   "pygments_lexer": "ipython3",
   "version": "3.6.8"
  }
 },
 "nbformat": 4,
 "nbformat_minor": 2
}
