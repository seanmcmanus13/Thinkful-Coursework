{
 "cells": [
  {
   "cell_type": "code",
   "execution_count": 1,
   "metadata": {},
   "outputs": [],
   "source": [
    "#https://courses.thinkful.com/trial-data-001/project/3.2.4\n",
    "\n",
    "import pandas as pd\n",
    "import numpy as np\n",
    "import statistics\n",
    "import matplotlib.pyplot as plt\n"
   ]
  },
  {
   "cell_type": "markdown",
   "metadata": {},
   "source": [
    "The probability for the first question is 2^4 or 0.0625 as seen below, each time you flip the coin the probability resets. If I was to make a code to predict this I would use a function with a simple if statement. The if statement would calculate the probability of correctly predicting the flips based on the number of sequential flips. This is redundant and over kill, so I haven't done it, but can if I need to."
   ]
  },
  {
   "cell_type": "code",
   "execution_count": 4,
   "metadata": {},
   "outputs": [
    {
     "name": "stdout",
     "output_type": "stream",
     "text": [
      "0.0625\n"
     ]
    }
   ],
   "source": [
    "P=(1/2)**4\n",
    "print(P)"
   ]
  },
  {
   "cell_type": "markdown",
   "metadata": {},
   "source": [
    "Probability of not choosing a man is 24/45.\n",
    "\n",
    "Probability of crashing in a plane is (.10*.005).\n",
    "\n",
    "The measure is not independent of the testing. The testing is going to affect how long they spend on the site. Also people who spend more time on the site are more likely to get a test.\n",
    "\n",
    "-----------------------------------------------------------------------------------------------------------"
   ]
  },
  {
   "cell_type": "markdown",
   "metadata": {},
   "source": [
    "A diagnostic test has a 98% probability of giving a positive result when applied to a person suffering from Thripshaw's Disease, and 10% probability of giving a (false) positive when applied to a non-sufferer. It is estimated that 0.5 % of the population are sufferers. Suppose that the test is now administered to a person whose disease status is unknown. Calculate the probability that the test will:"
   ]
  },
  {
   "cell_type": "markdown",
   "metadata": {},
   "source": [
    "98% correct positive rate, 2% false negative, 10% false positive, 0.5% of population are sufferers\n",
    "#Be positive:\n",
    "(correct positive rate * percentage people with it) + (false positive rate * percentage of people without it)\n",
    "guessed 10.5% first....then checked actual answer\n",
    "\n",
    "% of being positive = .98*.005 + .1*.995=.1044\n",
    "\n",
    "\n",
    "#Correctly diagnose a sufferer of Thripshaw's\n",
    "\n",
    "98%\n",
    "\n",
    "#Correctly identify a non-sufferer of Thripshaw's\n",
    "\n",
    "90%\n",
    "\n",
    "#Misclassify the person\n",
    "\n",
    "=1-% chance of being positive...previously calculated\n"
   ]
  },
  {
   "cell_type": "code",
   "execution_count": null,
   "metadata": {},
   "outputs": [],
   "source": []
  }
 ],
 "metadata": {
  "kernelspec": {
   "display_name": "Python 3",
   "language": "python",
   "name": "python3"
  },
  "language_info": {
   "codemirror_mode": {
    "name": "ipython",
    "version": 3
   },
   "file_extension": ".py",
   "mimetype": "text/x-python",
   "name": "python",
   "nbconvert_exporter": "python",
   "pygments_lexer": "ipython3",
   "version": "3.7.1"
  }
 },
 "nbformat": 4,
 "nbformat_minor": 2
}
