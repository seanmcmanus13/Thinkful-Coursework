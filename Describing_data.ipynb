{
 "cells": [
  {
   "cell_type": "code",
   "execution_count": 3,
   "metadata": {},
   "outputs": [
    {
     "name": "stdout",
     "output_type": "stream",
     "text": [
      "   age   names\n",
      "0   14    Greg\n",
      "1   12  Marcia\n",
      "2   11   Peter\n",
      "3   10     Jan\n",
      "4    8   Bobby\n",
      "5    6   Cindy\n",
      "6    8  Oliver\n"
     ]
    }
   ],
   "source": [
    "#https://courses.thinkful.com/trial-data-001/project/3.1.5\n",
    "#setting up dataframe\n",
    "import pandas as pd\n",
    "import numpy as np\n",
    "import statistics\n",
    "import matplotlib.pyplot as plt\n",
    "\n",
    "bbdf= pd.DataFrame()\n",
    "bbdf['age']=[14,12,11,10,8,6,8]\n",
    "bbdf['names']=['Greg','Marcia','Peter','Jan','Bobby','Cindy','Cousin Oliver']\n",
    "print(bbdf)"
   ]
  },
  {
   "cell_type": "code",
   "execution_count": 12,
   "metadata": {},
   "outputs": [
    {
     "data": {
      "text/html": [
       "<div>\n",
       "<style scoped>\n",
       "    .dataframe tbody tr th:only-of-type {\n",
       "        vertical-align: middle;\n",
       "    }\n",
       "\n",
       "    .dataframe tbody tr th {\n",
       "        vertical-align: top;\n",
       "    }\n",
       "\n",
       "    .dataframe thead th {\n",
       "        text-align: right;\n",
       "    }\n",
       "</style>\n",
       "<table border=\"1\" class=\"dataframe\">\n",
       "  <thead>\n",
       "    <tr style=\"text-align: right;\">\n",
       "      <th></th>\n",
       "      <th>age</th>\n",
       "    </tr>\n",
       "  </thead>\n",
       "  <tbody>\n",
       "    <tr>\n",
       "      <th>count</th>\n",
       "      <td>7.000000</td>\n",
       "    </tr>\n",
       "    <tr>\n",
       "      <th>mean</th>\n",
       "      <td>9.857143</td>\n",
       "    </tr>\n",
       "    <tr>\n",
       "      <th>std</th>\n",
       "      <td>2.734262</td>\n",
       "    </tr>\n",
       "    <tr>\n",
       "      <th>min</th>\n",
       "      <td>6.000000</td>\n",
       "    </tr>\n",
       "    <tr>\n",
       "      <th>25%</th>\n",
       "      <td>8.000000</td>\n",
       "    </tr>\n",
       "    <tr>\n",
       "      <th>50%</th>\n",
       "      <td>10.000000</td>\n",
       "    </tr>\n",
       "    <tr>\n",
       "      <th>75%</th>\n",
       "      <td>11.500000</td>\n",
       "    </tr>\n",
       "    <tr>\n",
       "      <th>max</th>\n",
       "      <td>14.000000</td>\n",
       "    </tr>\n",
       "  </tbody>\n",
       "</table>\n",
       "</div>"
      ],
      "text/plain": [
       "             age\n",
       "count   7.000000\n",
       "mean    9.857143\n",
       "std     2.734262\n",
       "min     6.000000\n",
       "25%     8.000000\n",
       "50%    10.000000\n",
       "75%    11.500000\n",
       "max    14.000000"
      ]
     },
     "execution_count": 12,
     "metadata": {},
     "output_type": "execute_result"
    }
   ],
   "source": [
    "bbdf.describe()"
   ]
  },
  {
   "cell_type": "code",
   "execution_count": 26,
   "metadata": {},
   "outputs": [
    {
     "name": "stdout",
     "output_type": "stream",
     "text": [
      "10\n",
      "9.857142857142858\n",
      "8\n"
     ]
    }
   ],
   "source": [
    "#central tendency\n",
    "print(statistics.median(bbdf['age']))\n",
    "print(np.mean(bbdf['age']))\n",
    "print(statistics.mode(bbdf['age']))\n"
   ]
  },
  {
   "cell_type": "code",
   "execution_count": 24,
   "metadata": {},
   "outputs": [
    {
     "name": "stdout",
     "output_type": "stream",
     "text": [
      "7.476190476190475\n",
      "2.734262327610589\n",
      "1.0334540197243192\n"
     ]
    }
   ],
   "source": [
    "#variance\n",
    "\n",
    "print(bbdf['age'].var())\n",
    "print(np.std(bbdf['age'], ddof=1))\n",
    "print(np.std(bbdf['age'], ddof=1)/np.sqrt(7))"
   ]
  },
  {
   "cell_type": "markdown",
   "metadata": {},
   "source": [
    "If I had to choose any one marker of central tendency I would pick the mean and median. Given that the median and mean are close, we can tell quite a bit the data from the combination of these two outputs. The mode, meanwhile, only tells us there are two 8 year olds. It doesn't give us any information about the point towards which the dataset centers around. In this case, the mean and median do a better job of this.\n",
    "\n",
    "With regards the measures of variance. I would pick the the standard deviation. It gives us a good  The Brady Bunch are a family, who from my understanding have 1 mother (except for Cousin Oliver, who perhaps should be denoted a string variable that donates him as a cousin rather than a sibling). In either case, the standard error isn't really all that meaningful given that, assuming that the mother isn't hyper fertile, she can only have 1 child every 11 months. Due to this, the standard error should tend towards 1 as the mother has more children. This doesn't tell us anything we do not already know. The standard deviation is relatively reflective of the data in this case. All individuals except for Greg and Cindy fall within 1 standard deviation from the mean."
   ]
  },
  {
   "cell_type": "code",
   "execution_count": 34,
   "metadata": {},
   "outputs": [
    {
     "name": "stdout",
     "output_type": "stream",
     "text": [
      "   age    names\n",
      "0   14     Greg\n",
      "1   12   Marcia\n",
      "2   11    Peter\n",
      "3   10      Jan\n",
      "4    8    Bobby\n",
      "5    7    Cindy\n",
      "6    1  Jessica\n"
     ]
    }
   ],
   "source": [
    "bbdf.iloc[5]=[7, 'Cindy']\n",
    "bbdf.iloc[6]=[1, 'Jessica']\n",
    "print(bbdf)"
   ]
  },
  {
   "cell_type": "code",
   "execution_count": 36,
   "metadata": {},
   "outputs": [
    {
     "name": "stdout",
     "output_type": "stream",
     "text": [
      "10\n",
      "9.0\n",
      "18.0\n",
      "4.242640687119285\n",
      "1.6035674514745462\n"
     ]
    }
   ],
   "source": [
    "#let's recheck central tendency and variance\n",
    "\n",
    "#central tendency\n",
    "print(statistics.median(bbdf['age']))\n",
    "print(np.mean(bbdf['age']))\n",
    "#print(statistics.mode(bbdf['age'])) - there is no mode for this dataset anymore\n",
    "\n",
    "#variance\n",
    "\n",
    "print(bbdf['age'].var())\n",
    "print(np.std(bbdf['age'], ddof=1))\n",
    "print(np.std(bbdf['age'], ddof=1)/np.sqrt(7))"
   ]
  },
  {
   "cell_type": "markdown",
   "metadata": {},
   "source": [
    "Median is still 10, mean has dropped to 7, there no longer is a mode for this dataset and our measures of variance has shot up quite a bit. I still think the mean and standard deviation is the most descriptive combination.\n",
    "\n",
    "A quick analysis of the ratio of our standard deviation (4.24) to our mean (9.0). Tells you this dataset now has quite high variance, this is meaningful data and should not be hidden  from plain view. I prefer to know what i'm working with up front. Beyond that, most descriptive statistics calculations use the mean not the median. This is because the mean is more mathematically meaningful."
   ]
  },
  {
   "cell_type": "code",
   "execution_count": 40,
   "metadata": {},
   "outputs": [
    {
     "name": "stdout",
     "output_type": "stream",
     "text": [
      "   survey_data        survey_sources\n",
      "0           20              TV Guide\n",
      "1           23  Entertainment Weekly\n",
      "2           17     Pop Culture Today\n",
      "3            5       SciPhi Phanatic\n"
     ]
    }
   ],
   "source": [
    "bb_50thsurvey_df= pd.DataFrame()\n",
    "bb_50thsurvey_df['survey_data']=[20, 23, 17, 5]\n",
    "bb_50thsurvey_df['survey_sources']=['TV Guide', 'Entertainment Weekly', ' Pop Culture Today', ' SciPhi Phanatic']\n",
    "print(bb_50thsurvey_df)"
   ]
  },
  {
   "cell_type": "code",
   "execution_count": 47,
   "metadata": {},
   "outputs": [
    {
     "name": "stdout",
     "output_type": "stream",
     "text": [
      "20.0\n",
      "survey_data    4.555217\n",
      "dtype: float64\n"
     ]
    }
   ],
   "source": [
    "print(np.mean(bb_50thsurvey_df['survey_data'][0:3]))\n",
    "\n",
    "print(np.std(bb_50thsurvey_df[['survey_data'][0:3]], ddof=1)/np.sqrt(3))"
   ]
  },
  {
   "cell_type": "markdown",
   "metadata": {},
   "source": [
    "I calculated the mean and standard error for the TV Guide, Entertainment Weekly and Pop Culture Today data. I omitted the SciPhi Phanatic data as it is a clear outlier and beyond that, from a practical stand point, estimates suggest that 1/5 Americans are sci-fi fans and that 1/5 are predominantly men [1]. Accordingly, I don't think survey's sampling is as representative of the general population as the others.\n",
    "\n",
    "Our data suggests that between 15.5% and 24.5% are fans of the Brady Bunch. This data of course, has it's assumptions, most notably that the preferences of American magazine readers reflect all Americans.\n",
    " \n",
    "\n",
    "https://www.sfwa.org/2014/01/reads-science-fiction/\n",
    "\n"
   ]
  }
 ],
 "metadata": {
  "kernelspec": {
   "display_name": "Python 3",
   "language": "python",
   "name": "python3"
  },
  "language_info": {
   "codemirror_mode": {
    "name": "ipython",
    "version": 3
   },
   "file_extension": ".py",
   "mimetype": "text/x-python",
   "name": "python",
   "nbconvert_exporter": "python",
   "pygments_lexer": "ipython3",
   "version": "3.7.1"
  }
 },
 "nbformat": 4,
 "nbformat_minor": 2
}
