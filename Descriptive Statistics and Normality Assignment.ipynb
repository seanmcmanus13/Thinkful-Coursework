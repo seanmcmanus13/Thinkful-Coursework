{
 "cells": [
  {
   "cell_type": "code",
   "execution_count": 1,
   "metadata": {},
   "outputs": [],
   "source": [
    "import pandas as pd\n",
    "import numpy as np\n",
    "import matplotlib.pyplot as plt\n",
    "%matplotlib inline"
   ]
  },
  {
   "cell_type": "code",
   "execution_count": 23,
   "metadata": {},
   "outputs": [
    {
     "data": {
      "image/png": "[encoded data removed]",
      "text/plain": [
       "<Figure size 432x288 with 1 Axes>"
      ]
     },
     "metadata": {
      "needs_background": "light"
     },
     "output_type": "display_data"
    }
   ],
   "source": [
    "anthropometericmeasures = pd.DataFrame()\n",
    "anthropometericmeasures['bigtoe_nailsize_incm'] = np.random.gamma(3, 0.5, 100)\n",
    "plt.hist(anthropometericmeasures['bigtoe_nailsize_incm'])\n",
    "plt.axvline(anthropometericmeasures['bigtoe_nailsize_incm'].mean(), color='b', linestyle='solid', linewidth=2)\n",
    "plt.axvline(anthropometericmeasures['bigtoe_nailsize_incm'].mean() + anthropometericmeasures['bigtoe_nailsize_incm'].std(), color='b', linestyle='dashed', linewidth=2)\n",
    "plt.axvline(anthropometericmeasures['bigtoe_nailsize_incm'].mean() - anthropometericmeasures['bigtoe_nailsize_incm'].std(), color='b', linestyle='dashed', linewidth=2)\n",
    "# Add a vertical line at one standard deviation below the mean.\n",
    "\n",
    "\n",
    "plt.show()"
   ]
  },
  {
   "cell_type": "markdown",
   "metadata": {},
   "source": [
    "Although the mean for this variable is mathematical meaningful, it is not a great descriptor of central tendency. However, neither is the median or mode (both less than the mean). Toenail length as described above seems to vary a large amount. This is due to the skew of the data (it's a gamma distribution). Maybe this sample reflects a large age range, height range, sex range and the comfortable limit at which a human can mantain their toenails without cutting - all of which I imagine are predictors of toenail length.\n",
    "\n",
    "As for the standard deviation, this is a gamma distribution that has positive skew (skew=1.156 - median is lower than mean). Accordingly, there are more outliers that are greater than the mean than there are less. "
   ]
  },
  {
   "cell_type": "markdown",
   "metadata": {},
   "source": [
    "To do:\n",
    "\n",
    "Generate two normally-distributed variables, one with a mean of 5 and standard deviation of 0.5, and the other with a mean of 10 and standard deviation of 1.\n",
    "Add them together to create a third variable.\n",
    "Graph the third variable using a histogram.\n",
    "Compute the mean and standard deviation and plot them as vertical lines on the histogram.\n",
    "Evaluate the descriptive statistics against the data."
   ]
  },
  {
   "cell_type": "code",
   "execution_count": null,
   "metadata": {},
   "outputs": [],
   "source": []
  }
 ],
 "metadata": {
  "kernelspec": {
   "display_name": "Python 3",
   "language": "python",
   "name": "python3"
  },
  "language_info": {
   "codemirror_mode": {
    "name": "ipython",
    "version": 3
   },
   "file_extension": ".py",
   "mimetype": "text/x-python",
   "name": "python",
   "nbconvert_exporter": "python",
   "pygments_lexer": "ipython3",
   "version": "3.7.1"
  }
 },
 "nbformat": 4,
 "nbformat_minor": 2
}
